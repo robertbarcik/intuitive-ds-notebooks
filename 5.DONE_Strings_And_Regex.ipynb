{
 "cells": [
  {
   "cell_type": "markdown",
   "metadata": {
    "colab_type": "text",
    "id": "mo-BdJBktJvG"
   },
   "source": [
    "# 1. String Manipulation Methods (READ-AND-PLAY)"
   ]
  },
  {
   "cell_type": "code",
   "execution_count": 63,
   "metadata": {
    "colab": {},
    "colab_type": "code",
    "executionInfo": {
     "elapsed": 2211,
     "status": "ok",
     "timestamp": 1599494039707,
     "user": {
      "displayName": "Janka Gecelovská",
      "photoUrl": "https://lh3.googleusercontent.com/a-/AOh14GjVqlh2PlzTOTBDiLLtofNwHsxobYMwGvAajTuXUa0=s64",
      "userId": "04343601701373244670"
     },
     "user_tz": -120
    },
    "id": "uqhBU97FMOTM"
   },
   "outputs": [],
   "source": [
    "# Run this code\n",
    "import pandas as pd\n",
    "import warnings\n",
    "warnings.filterwarnings('ignore')\n",
    "from IPython.display import Image"
   ]
  },
  {
   "cell_type": "code",
   "execution_count": 15,
   "metadata": {
    "colab": {
     "base_uri": "https://localhost:8080/",
     "height": 34
    },
    "colab_type": "code",
    "executionInfo": {
     "elapsed": 3188,
     "status": "ok",
     "timestamp": 1599494040715,
     "user": {
      "displayName": "Janka Gecelovská",
      "photoUrl": "https://lh3.googleusercontent.com/a-/AOh14GjVqlh2PlzTOTBDiLLtofNwHsxobYMwGvAajTuXUa0=s64",
      "userId": "04343601701373244670"
     },
     "user_tz": -120
    },
    "id": "mtx0_hpyPgul",
    "outputId": "92574d0b-0710-41cd-acab-b0561b384588"
   },
   "outputs": [
    {
     "name": "stdout",
     "output_type": "stream",
     "text": [
      "    pen,pineapple,apple, pen   \n"
     ]
    }
   ],
   "source": [
    "# Run this code\n",
    "string = '    pen,pineapple,apple, pen   '\n",
    "print(string)"
   ]
  },
  {
   "cell_type": "markdown",
   "metadata": {
    "colab_type": "text",
    "id": "HHiSy3yauCvS"
   },
   "source": [
    "`split()` method \n",
    "\n",
    "- split a string into a list where each word is a list item\n",
    "- we specify the `separator` to use when splitting the string\n",
    "- we can specifies how many splits to do by setting `maxsplit` parameter"
   ]
  },
  {
   "cell_type": "code",
   "execution_count": 16,
   "metadata": {
    "colab": {
     "base_uri": "https://localhost:8080/",
     "height": 34
    },
    "colab_type": "code",
    "executionInfo": {
     "elapsed": 3161,
     "status": "ok",
     "timestamp": 1599494040717,
     "user": {
      "displayName": "Janka Gecelovská",
      "photoUrl": "https://lh3.googleusercontent.com/a-/AOh14GjVqlh2PlzTOTBDiLLtofNwHsxobYMwGvAajTuXUa0=s64",
      "userId": "04343601701373244670"
     },
     "user_tz": -120
    },
    "id": "-6mbfhS1tZ4A",
    "outputId": "cfbc5164-7fbd-41d7-f718-d757c62d5859"
   },
   "outputs": [
    {
     "data": {
      "text/plain": [
       "['    pen', 'pineapple', 'apple', ' pen   ']"
      ]
     },
     "execution_count": 16,
     "metadata": {},
     "output_type": "execute_result"
    }
   ],
   "source": [
    "# Split the string using separator ','\n",
    "string.split(',')"
   ]
  },
  {
   "cell_type": "code",
   "execution_count": 17,
   "metadata": {
    "colab": {
     "base_uri": "https://localhost:8080/",
     "height": 34
    },
    "colab_type": "code",
    "executionInfo": {
     "elapsed": 3139,
     "status": "ok",
     "timestamp": 1599494040720,
     "user": {
      "displayName": "Janka Gecelovská",
      "photoUrl": "https://lh3.googleusercontent.com/a-/AOh14GjVqlh2PlzTOTBDiLLtofNwHsxobYMwGvAajTuXUa0=s64",
      "userId": "04343601701373244670"
     },
     "user_tz": -120
    },
    "id": "nKWOm3mcu2c2",
    "outputId": "0308ffbf-a267-4380-934b-b6b21217f691"
   },
   "outputs": [
    {
     "name": "stdout",
     "output_type": "stream",
     "text": [
      "summer#autumn   #spring  # winter\n"
     ]
    }
   ],
   "source": [
    "# Run this code\n",
    "string_2 = 'summer#autumn   #spring  # winter'\n",
    "print(string_2)"
   ]
  },
  {
   "cell_type": "code",
   "execution_count": 18,
   "metadata": {
    "colab": {
     "base_uri": "https://localhost:8080/",
     "height": 34
    },
    "colab_type": "code",
    "executionInfo": {
     "elapsed": 3114,
     "status": "ok",
     "timestamp": 1599494040722,
     "user": {
      "displayName": "Janka Gecelovská",
      "photoUrl": "https://lh3.googleusercontent.com/a-/AOh14GjVqlh2PlzTOTBDiLLtofNwHsxobYMwGvAajTuXUa0=s64",
      "userId": "04343601701373244670"
     },
     "user_tz": -120
    },
    "id": "pzwduWpWvHAv",
    "outputId": "5c881858-af21-4211-cef3-3630f06c42ce"
   },
   "outputs": [
    {
     "data": {
      "text/plain": [
       "['summer', 'autumn   ', 'spring  ', ' winter']"
      ]
     },
     "execution_count": 18,
     "metadata": {},
     "output_type": "execute_result"
    }
   ],
   "source": [
    "# Split the string using separator '#'\n",
    "string_2.split('#')"
   ]
  },
  {
   "cell_type": "code",
   "execution_count": 19,
   "metadata": {
    "colab": {
     "base_uri": "https://localhost:8080/",
     "height": 34
    },
    "colab_type": "code",
    "executionInfo": {
     "elapsed": 3080,
     "status": "ok",
     "timestamp": 1599494040723,
     "user": {
      "displayName": "Janka Gecelovská",
      "photoUrl": "https://lh3.googleusercontent.com/a-/AOh14GjVqlh2PlzTOTBDiLLtofNwHsxobYMwGvAajTuXUa0=s64",
      "userId": "04343601701373244670"
     },
     "user_tz": -120
    },
    "id": "or4k7UHDwYcO",
    "outputId": "2a8895e0-e71b-4574-e698-3d9268a480e1"
   },
   "outputs": [
    {
     "name": "stdout",
     "output_type": "stream",
     "text": [
      "['summer', 'autumn   ', 'spring  # winter']\n"
     ]
    }
   ],
   "source": [
    "# Split string_2 and set the maxsplit parameter to 2 (this should return a list with 3 elements)\n",
    "x = string_2.split('#', 2)\n",
    "print(x)"
   ]
  },
  {
   "cell_type": "markdown",
   "metadata": {
    "colab_type": "text",
    "id": "HNFNcPHZuYJk"
   },
   "source": [
    "`strip()` method\n",
    "\n",
    "- it removes whitespaces at the beginning and at the end of the string"
   ]
  },
  {
   "cell_type": "code",
   "execution_count": 20,
   "metadata": {
    "colab": {
     "base_uri": "https://localhost:8080/",
     "height": 34
    },
    "colab_type": "code",
    "executionInfo": {
     "elapsed": 3037,
     "status": "ok",
     "timestamp": 1599494040724,
     "user": {
      "displayName": "Janka Gecelovská",
      "photoUrl": "https://lh3.googleusercontent.com/a-/AOh14GjVqlh2PlzTOTBDiLLtofNwHsxobYMwGvAajTuXUa0=s64",
      "userId": "04343601701373244670"
     },
     "user_tz": -120
    },
    "id": "GNSmSGqdtfUR",
    "outputId": "880ee287-ec8d-49f5-d1cc-5fb16174a0c0"
   },
   "outputs": [
    {
     "name": "stdout",
     "output_type": "stream",
     "text": [
      "There is a lot of space at the beginning and at the end of this sentence, let`s remove it.\n"
     ]
    }
   ],
   "source": [
    "# Remove whitespaces in the variable our_string\n",
    "our_string = '     There is a lot of space at the beginning and at the end of this sentence, let`s remove it.       '\n",
    "our_result = our_string.strip()\n",
    "print(our_result)"
   ]
  },
  {
   "cell_type": "markdown",
   "metadata": {
    "colab_type": "text",
    "id": "SfeLbKcyz1Ec"
   },
   "source": [
    "`join()` method\n",
    "\n",
    "- this method takes all items in an iterable and joins them into one string "
   ]
  },
  {
   "cell_type": "code",
   "execution_count": 21,
   "metadata": {
    "colab": {
     "base_uri": "https://localhost:8080/",
     "height": 35
    },
    "colab_type": "code",
    "executionInfo": {
     "elapsed": 2998,
     "status": "ok",
     "timestamp": 1599494040726,
     "user": {
      "displayName": "Janka Gecelovská",
      "photoUrl": "https://lh3.googleusercontent.com/a-/AOh14GjVqlh2PlzTOTBDiLLtofNwHsxobYMwGvAajTuXUa0=s64",
      "userId": "04343601701373244670"
     },
     "user_tz": -120
    },
    "id": "Wfhe7fv-t0E5",
    "outputId": "9ff78a66-4e75-49cc-e4f3-ad78220532b8"
   },
   "outputs": [
    {
     "data": {
      "text/plain": [
       "'Please_join_these_items.'"
      ]
     },
     "execution_count": 21,
     "metadata": {},
     "output_type": "execute_result"
    }
   ],
   "source": [
    "# Run this code\n",
    "my_list = ['Please', 'join', 'these', 'items.']\n",
    "'_'.join(my_list)"
   ]
  },
  {
   "cell_type": "code",
   "execution_count": 22,
   "metadata": {
    "colab": {
     "base_uri": "https://localhost:8080/",
     "height": 35
    },
    "colab_type": "code",
    "executionInfo": {
     "elapsed": 2949,
     "status": "ok",
     "timestamp": 1599494040727,
     "user": {
      "displayName": "Janka Gecelovská",
      "photoUrl": "https://lh3.googleusercontent.com/a-/AOh14GjVqlh2PlzTOTBDiLLtofNwHsxobYMwGvAajTuXUa0=s64",
      "userId": "04343601701373244670"
     },
     "user_tz": -120
    },
    "id": "dI1D72nU0ifj",
    "outputId": "aa25d310-0dca-4598-881d-91bc29e4100c"
   },
   "outputs": [
    {
     "data": {
      "text/plain": [
       "'We-are-joining-again.'"
      ]
     },
     "execution_count": 22,
     "metadata": {},
     "output_type": "execute_result"
    }
   ],
   "source": [
    "# Run this code\n",
    "my_tuple = ('We','are', 'joining', 'again.')\n",
    "'-'.join(my_tuple)"
   ]
  },
  {
   "cell_type": "markdown",
   "metadata": {
    "colab_type": "text",
    "id": "_Dkd1sRW12Hv"
   },
   "source": [
    "In the case of a dictionary, `join()` tries to join keys of the dictionary, not values."
   ]
  },
  {
   "cell_type": "code",
   "execution_count": 23,
   "metadata": {
    "colab": {
     "base_uri": "https://localhost:8080/",
     "height": 35
    },
    "colab_type": "code",
    "executionInfo": {
     "elapsed": 2914,
     "status": "ok",
     "timestamp": 1599494040728,
     "user": {
      "displayName": "Janka Gecelovská",
      "photoUrl": "https://lh3.googleusercontent.com/a-/AOh14GjVqlh2PlzTOTBDiLLtofNwHsxobYMwGvAajTuXUa0=s64",
      "userId": "04343601701373244670"
     },
     "user_tz": -120
    },
    "id": "j_EG_Pvo0_xq",
    "outputId": "8e20d105-dbc1-4921-fec9-3c09237408b2"
   },
   "outputs": [
    {
     "data": {
      "text/plain": [
       "'Key_1#Key_2'"
      ]
     },
     "execution_count": 23,
     "metadata": {},
     "output_type": "execute_result"
    }
   ],
   "source": [
    "# Run this code\n",
    "my_dictionary = {'Key_1':'1',\n",
    "                 'Key_2':'2'}\n",
    "'#'.join(my_dictionary)"
   ]
  },
  {
   "cell_type": "markdown",
   "metadata": {
    "colab_type": "text",
    "id": "Te0DU0ifZuW8"
   },
   "source": [
    "`index()`\n",
    "\n",
    "- returns position of first character in substring if found in the string\n",
    "- Raises `ValueError` if not found"
   ]
  },
  {
   "cell_type": "code",
   "execution_count": 24,
   "metadata": {
    "colab": {},
    "colab_type": "code",
    "executionInfo": {
     "elapsed": 2875,
     "status": "ok",
     "timestamp": 1599494040729,
     "user": {
      "displayName": "Janka Gecelovská",
      "photoUrl": "https://lh3.googleusercontent.com/a-/AOh14GjVqlh2PlzTOTBDiLLtofNwHsxobYMwGvAajTuXUa0=s64",
      "userId": "04343601701373244670"
     },
     "user_tz": -120
    },
    "id": "RoWymu99Y2Hk"
   },
   "outputs": [],
   "source": [
    "# Run this code\n",
    "string_3 = 'That is my string'"
   ]
  },
  {
   "cell_type": "code",
   "execution_count": 25,
   "metadata": {
    "colab": {
     "base_uri": "https://localhost:8080/",
     "height": 34
    },
    "colab_type": "code",
    "executionInfo": {
     "elapsed": 2854,
     "status": "ok",
     "timestamp": 1599494040730,
     "user": {
      "displayName": "Janka Gecelovská",
      "photoUrl": "https://lh3.googleusercontent.com/a-/AOh14GjVqlh2PlzTOTBDiLLtofNwHsxobYMwGvAajTuXUa0=s64",
      "userId": "04343601701373244670"
     },
     "user_tz": -120
    },
    "id": "CPbHqh3jZnwT",
    "outputId": "c3b081c9-0671-4ec7-a3ad-7c7a53ec1e90"
   },
   "outputs": [
    {
     "data": {
      "text/plain": [
       "8"
      ]
     },
     "execution_count": 25,
     "metadata": {},
     "output_type": "execute_result"
    }
   ],
   "source": [
    "# Find the position of 'm' using `index()`\n",
    "string_3.index('m')"
   ]
  },
  {
   "cell_type": "markdown",
   "metadata": {
    "colab_type": "text",
    "id": "S0D4rWEqaC-a"
   },
   "source": [
    "`find()`\n",
    "\n",
    "- returns position of first character of first occurence of substring in the string\n",
    "- this method is like `index()`, but returns -1 if not found"
   ]
  },
  {
   "cell_type": "code",
   "execution_count": 26,
   "metadata": {
    "colab": {
     "base_uri": "https://localhost:8080/",
     "height": 34
    },
    "colab_type": "code",
    "executionInfo": {
     "elapsed": 2817,
     "status": "ok",
     "timestamp": 1599494040731,
     "user": {
      "displayName": "Janka Gecelovská",
      "photoUrl": "https://lh3.googleusercontent.com/a-/AOh14GjVqlh2PlzTOTBDiLLtofNwHsxobYMwGvAajTuXUa0=s64",
      "userId": "04343601701373244670"
     },
     "user_tz": -120
    },
    "id": "EFQ6R2N8aXNn",
    "outputId": "b03332af-f8a4-4603-a869-31c0ad5f1bd4"
   },
   "outputs": [
    {
     "data": {
      "text/plain": [
       "16"
      ]
     },
     "execution_count": 26,
     "metadata": {},
     "output_type": "execute_result"
    }
   ],
   "source": [
    "# Find the position of 'g' using `find()`\n",
    "string_3.find('g')"
   ]
  },
  {
   "cell_type": "markdown",
   "metadata": {
    "colab_type": "text",
    "id": "xsbDTSoTan6w"
   },
   "source": [
    "`replace()`\n",
    "\n",
    "- replace occurences of string with another string\n",
    "- commonly used to remove characters by passing an empty string"
   ]
  },
  {
   "cell_type": "code",
   "execution_count": 27,
   "metadata": {
    "colab": {
     "base_uri": "https://localhost:8080/",
     "height": 35
    },
    "colab_type": "code",
    "executionInfo": {
     "elapsed": 2787,
     "status": "ok",
     "timestamp": 1599494040732,
     "user": {
      "displayName": "Janka Gecelovská",
      "photoUrl": "https://lh3.googleusercontent.com/a-/AOh14GjVqlh2PlzTOTBDiLLtofNwHsxobYMwGvAajTuXUa0=s64",
      "userId": "04343601701373244670"
     },
     "user_tz": -120
    },
    "id": "GFfXgwHzatme",
    "outputId": "78b9bfb2-d9de-41a0-f047-73251b65b973"
   },
   "outputs": [
    {
     "data": {
      "text/plain": [
       "'That was my string'"
      ]
     },
     "execution_count": 27,
     "metadata": {},
     "output_type": "execute_result"
    }
   ],
   "source": [
    "# Replacing word in string_3\n",
    "string_3.replace('is','was')"
   ]
  },
  {
   "cell_type": "code",
   "execution_count": 28,
   "metadata": {
    "colab": {},
    "colab_type": "code",
    "executionInfo": {
     "elapsed": 2751,
     "status": "ok",
     "timestamp": 1599494040733,
     "user": {
      "displayName": "Janka Gecelovská",
      "photoUrl": "https://lh3.googleusercontent.com/a-/AOh14GjVqlh2PlzTOTBDiLLtofNwHsxobYMwGvAajTuXUa0=s64",
      "userId": "04343601701373244670"
     },
     "user_tz": -120
    },
    "id": "-W9fG7q6BbZL"
   },
   "outputs": [],
   "source": [
    "# Run this code\n",
    "string_4 = 'Why is here a semicolon; ?'"
   ]
  },
  {
   "cell_type": "code",
   "execution_count": 29,
   "metadata": {
    "colab": {
     "base_uri": "https://localhost:8080/",
     "height": 35
    },
    "colab_type": "code",
    "executionInfo": {
     "elapsed": 2731,
     "status": "ok",
     "timestamp": 1599494040734,
     "user": {
      "displayName": "Janka Gecelovská",
      "photoUrl": "https://lh3.googleusercontent.com/a-/AOh14GjVqlh2PlzTOTBDiLLtofNwHsxobYMwGvAajTuXUa0=s64",
      "userId": "04343601701373244670"
     },
     "user_tz": -120
    },
    "id": "9VPIr-tKBnzh",
    "outputId": "36ddbaea-ce2f-4912-b0f9-ee9ff0f97da1"
   },
   "outputs": [
    {
     "data": {
      "text/plain": [
       "'Why is here a semicolon ?'"
      ]
     },
     "execution_count": 29,
     "metadata": {},
     "output_type": "execute_result"
    }
   ],
   "source": [
    "# Replacing character\n",
    "string_4.replace(';','')"
   ]
  },
  {
   "cell_type": "code",
   "execution_count": 30,
   "metadata": {
    "colab": {},
    "colab_type": "code",
    "executionInfo": {
     "elapsed": 2702,
     "status": "ok",
     "timestamp": 1599494040735,
     "user": {
      "displayName": "Janka Gecelovská",
      "photoUrl": "https://lh3.googleusercontent.com/a-/AOh14GjVqlh2PlzTOTBDiLLtofNwHsxobYMwGvAajTuXUa0=s64",
      "userId": "04343601701373244670"
     },
     "user_tz": -120
    },
    "id": "-q2T36c3NwHC"
   },
   "outputs": [],
   "source": [
    "# Run this code\n",
    "string_5 = 'Banana, avocado, pineapple, artichoke'"
   ]
  },
  {
   "cell_type": "code",
   "execution_count": 31,
   "metadata": {
    "colab": {
     "base_uri": "https://localhost:8080/",
     "height": 34
    },
    "colab_type": "code",
    "executionInfo": {
     "elapsed": 2669,
     "status": "ok",
     "timestamp": 1599494040736,
     "user": {
      "displayName": "Janka Gecelovská",
      "photoUrl": "https://lh3.googleusercontent.com/a-/AOh14GjVqlh2PlzTOTBDiLLtofNwHsxobYMwGvAajTuXUa0=s64",
      "userId": "04343601701373244670"
     },
     "user_tz": -120
    },
    "id": "4X0eFJP4cySC",
    "outputId": "4af44ba2-9d8d-4bd7-bca2-e8bc9c78a20d"
   },
   "outputs": [
    {
     "name": "stdout",
     "output_type": "stream",
     "text": [
      "BAnAnA, AvocAdo, pineApple, Artichoke\n"
     ]
    }
   ],
   "source": [
    "# TASK 1 >>>> Use .replace() method to replace 'a' with 'A' in string_5 and store it in variable result_1\n",
    "result_1 = string_5.replace('a', 'A')\n",
    "print(result_1)"
   ]
  },
  {
   "cell_type": "markdown",
   "metadata": {
    "colab_type": "text",
    "id": "uq0ODoCtM2IP"
   },
   "source": [
    "`upper()` method\n",
    "\n",
    "- converts all lowercase characters in a string into uppercase characters and returns it\n",
    "\n",
    "`lower()` method\n",
    "- converts all uupercase characters in a string into lowercase characters and returns it"
   ]
  },
  {
   "cell_type": "code",
   "execution_count": 32,
   "metadata": {
    "colab": {
     "base_uri": "https://localhost:8080/",
     "height": 34
    },
    "colab_type": "code",
    "executionInfo": {
     "elapsed": 2644,
     "status": "ok",
     "timestamp": 1599494040737,
     "user": {
      "displayName": "Janka Gecelovská",
      "photoUrl": "https://lh3.googleusercontent.com/a-/AOh14GjVqlh2PlzTOTBDiLLtofNwHsxobYMwGvAajTuXUa0=s64",
      "userId": "04343601701373244670"
     },
     "user_tz": -120
    },
    "id": "NXHlYKltMHQI",
    "outputId": "1114219a-1d14-4f28-a224-8dd9cd4d0036"
   },
   "outputs": [
    {
     "name": "stdout",
     "output_type": "stream",
     "text": [
      "MAKE THIS UPPERCASE\n"
     ]
    }
   ],
   "source": [
    "# Run this code\n",
    "string_to_upper = \"Make this uppercase\"\n",
    "print(string_to_upper.upper())"
   ]
  },
  {
   "cell_type": "code",
   "execution_count": 33,
   "metadata": {
    "colab": {
     "base_uri": "https://localhost:8080/",
     "height": 34
    },
    "colab_type": "code",
    "executionInfo": {
     "elapsed": 2606,
     "status": "ok",
     "timestamp": 1599494040738,
     "user": {
      "displayName": "Janka Gecelovská",
      "photoUrl": "https://lh3.googleusercontent.com/a-/AOh14GjVqlh2PlzTOTBDiLLtofNwHsxobYMwGvAajTuXUa0=s64",
      "userId": "04343601701373244670"
     },
     "user_tz": -120
    },
    "id": "czYHrFYlMolH",
    "outputId": "5e00fdd1-fcac-48e4-ffd7-812100c1c813"
   },
   "outputs": [
    {
     "name": "stdout",
     "output_type": "stream",
     "text": [
      "this should be all lowercase\n"
     ]
    }
   ],
   "source": [
    "# Run this code\n",
    "string_to_lower = 'THIS SHOULD BE ALL LOWERCASE'\n",
    "print(string_to_lower.lower())"
   ]
  },
  {
   "cell_type": "markdown",
   "metadata": {
    "colab_type": "text",
    "id": "fo572Tu8XsHd"
   },
   "source": [
    "# 2. Project: Cleaning Column Names"
   ]
  },
  {
   "cell_type": "code",
   "execution_count": 34,
   "metadata": {
    "colab": {},
    "colab_type": "code",
    "executionInfo": {
     "elapsed": 2586,
     "status": "ok",
     "timestamp": 1599494040739,
     "user": {
      "displayName": "Janka Gecelovská",
      "photoUrl": "https://lh3.googleusercontent.com/a-/AOh14GjVqlh2PlzTOTBDiLLtofNwHsxobYMwGvAajTuXUa0=s64",
      "userId": "04343601701373244670"
     },
     "user_tz": -120
    },
    "id": "UiEgHOWu1cTg"
   },
   "outputs": [
    {
     "ename": "FileNotFoundError",
     "evalue": "[Errno 2] File avocado.csv does not exist: 'avocado.csv'",
     "output_type": "error",
     "traceback": [
      "\u001b[1;31m---------------------------------------------------------------------------\u001b[0m",
      "\u001b[1;31mFileNotFoundError\u001b[0m                         Traceback (most recent call last)",
      "\u001b[1;32m<ipython-input-34-60558434aaca>\u001b[0m in \u001b[0;36m<module>\u001b[1;34m\u001b[0m\n\u001b[0;32m      1\u001b[0m \u001b[1;31m# Import pandas library\u001b[0m\u001b[1;33m\u001b[0m\u001b[1;33m\u001b[0m\u001b[1;33m\u001b[0m\u001b[0m\n\u001b[0;32m      2\u001b[0m \u001b[1;32mimport\u001b[0m \u001b[0mpandas\u001b[0m \u001b[1;32mas\u001b[0m \u001b[0mpd\u001b[0m\u001b[1;33m\u001b[0m\u001b[1;33m\u001b[0m\u001b[0m\n\u001b[1;32m----> 3\u001b[1;33m \u001b[0mdata\u001b[0m \u001b[1;33m=\u001b[0m \u001b[0mpd\u001b[0m\u001b[1;33m.\u001b[0m\u001b[0mread_csv\u001b[0m\u001b[1;33m(\u001b[0m\u001b[1;34m'avocado.csv'\u001b[0m\u001b[1;33m)\u001b[0m\u001b[1;33m\u001b[0m\u001b[1;33m\u001b[0m\u001b[0m\n\u001b[0m",
      "\u001b[1;32m~\\Anaconda3\\lib\\site-packages\\pandas\\io\\parsers.py\u001b[0m in \u001b[0;36mparser_f\u001b[1;34m(filepath_or_buffer, sep, delimiter, header, names, index_col, usecols, squeeze, prefix, mangle_dupe_cols, dtype, engine, converters, true_values, false_values, skipinitialspace, skiprows, skipfooter, nrows, na_values, keep_default_na, na_filter, verbose, skip_blank_lines, parse_dates, infer_datetime_format, keep_date_col, date_parser, dayfirst, cache_dates, iterator, chunksize, compression, thousands, decimal, lineterminator, quotechar, quoting, doublequote, escapechar, comment, encoding, dialect, error_bad_lines, warn_bad_lines, delim_whitespace, low_memory, memory_map, float_precision)\u001b[0m\n\u001b[0;32m    674\u001b[0m         )\n\u001b[0;32m    675\u001b[0m \u001b[1;33m\u001b[0m\u001b[0m\n\u001b[1;32m--> 676\u001b[1;33m         \u001b[1;32mreturn\u001b[0m \u001b[0m_read\u001b[0m\u001b[1;33m(\u001b[0m\u001b[0mfilepath_or_buffer\u001b[0m\u001b[1;33m,\u001b[0m \u001b[0mkwds\u001b[0m\u001b[1;33m)\u001b[0m\u001b[1;33m\u001b[0m\u001b[1;33m\u001b[0m\u001b[0m\n\u001b[0m\u001b[0;32m    677\u001b[0m \u001b[1;33m\u001b[0m\u001b[0m\n\u001b[0;32m    678\u001b[0m     \u001b[0mparser_f\u001b[0m\u001b[1;33m.\u001b[0m\u001b[0m__name__\u001b[0m \u001b[1;33m=\u001b[0m \u001b[0mname\u001b[0m\u001b[1;33m\u001b[0m\u001b[1;33m\u001b[0m\u001b[0m\n",
      "\u001b[1;32m~\\Anaconda3\\lib\\site-packages\\pandas\\io\\parsers.py\u001b[0m in \u001b[0;36m_read\u001b[1;34m(filepath_or_buffer, kwds)\u001b[0m\n\u001b[0;32m    446\u001b[0m \u001b[1;33m\u001b[0m\u001b[0m\n\u001b[0;32m    447\u001b[0m     \u001b[1;31m# Create the parser.\u001b[0m\u001b[1;33m\u001b[0m\u001b[1;33m\u001b[0m\u001b[1;33m\u001b[0m\u001b[0m\n\u001b[1;32m--> 448\u001b[1;33m     \u001b[0mparser\u001b[0m \u001b[1;33m=\u001b[0m \u001b[0mTextFileReader\u001b[0m\u001b[1;33m(\u001b[0m\u001b[0mfp_or_buf\u001b[0m\u001b[1;33m,\u001b[0m \u001b[1;33m**\u001b[0m\u001b[0mkwds\u001b[0m\u001b[1;33m)\u001b[0m\u001b[1;33m\u001b[0m\u001b[1;33m\u001b[0m\u001b[0m\n\u001b[0m\u001b[0;32m    449\u001b[0m \u001b[1;33m\u001b[0m\u001b[0m\n\u001b[0;32m    450\u001b[0m     \u001b[1;32mif\u001b[0m \u001b[0mchunksize\u001b[0m \u001b[1;32mor\u001b[0m \u001b[0miterator\u001b[0m\u001b[1;33m:\u001b[0m\u001b[1;33m\u001b[0m\u001b[1;33m\u001b[0m\u001b[0m\n",
      "\u001b[1;32m~\\Anaconda3\\lib\\site-packages\\pandas\\io\\parsers.py\u001b[0m in \u001b[0;36m__init__\u001b[1;34m(self, f, engine, **kwds)\u001b[0m\n\u001b[0;32m    878\u001b[0m             \u001b[0mself\u001b[0m\u001b[1;33m.\u001b[0m\u001b[0moptions\u001b[0m\u001b[1;33m[\u001b[0m\u001b[1;34m\"has_index_names\"\u001b[0m\u001b[1;33m]\u001b[0m \u001b[1;33m=\u001b[0m \u001b[0mkwds\u001b[0m\u001b[1;33m[\u001b[0m\u001b[1;34m\"has_index_names\"\u001b[0m\u001b[1;33m]\u001b[0m\u001b[1;33m\u001b[0m\u001b[1;33m\u001b[0m\u001b[0m\n\u001b[0;32m    879\u001b[0m \u001b[1;33m\u001b[0m\u001b[0m\n\u001b[1;32m--> 880\u001b[1;33m         \u001b[0mself\u001b[0m\u001b[1;33m.\u001b[0m\u001b[0m_make_engine\u001b[0m\u001b[1;33m(\u001b[0m\u001b[0mself\u001b[0m\u001b[1;33m.\u001b[0m\u001b[0mengine\u001b[0m\u001b[1;33m)\u001b[0m\u001b[1;33m\u001b[0m\u001b[1;33m\u001b[0m\u001b[0m\n\u001b[0m\u001b[0;32m    881\u001b[0m \u001b[1;33m\u001b[0m\u001b[0m\n\u001b[0;32m    882\u001b[0m     \u001b[1;32mdef\u001b[0m \u001b[0mclose\u001b[0m\u001b[1;33m(\u001b[0m\u001b[0mself\u001b[0m\u001b[1;33m)\u001b[0m\u001b[1;33m:\u001b[0m\u001b[1;33m\u001b[0m\u001b[1;33m\u001b[0m\u001b[0m\n",
      "\u001b[1;32m~\\Anaconda3\\lib\\site-packages\\pandas\\io\\parsers.py\u001b[0m in \u001b[0;36m_make_engine\u001b[1;34m(self, engine)\u001b[0m\n\u001b[0;32m   1112\u001b[0m     \u001b[1;32mdef\u001b[0m \u001b[0m_make_engine\u001b[0m\u001b[1;33m(\u001b[0m\u001b[0mself\u001b[0m\u001b[1;33m,\u001b[0m \u001b[0mengine\u001b[0m\u001b[1;33m=\u001b[0m\u001b[1;34m\"c\"\u001b[0m\u001b[1;33m)\u001b[0m\u001b[1;33m:\u001b[0m\u001b[1;33m\u001b[0m\u001b[1;33m\u001b[0m\u001b[0m\n\u001b[0;32m   1113\u001b[0m         \u001b[1;32mif\u001b[0m \u001b[0mengine\u001b[0m \u001b[1;33m==\u001b[0m \u001b[1;34m\"c\"\u001b[0m\u001b[1;33m:\u001b[0m\u001b[1;33m\u001b[0m\u001b[1;33m\u001b[0m\u001b[0m\n\u001b[1;32m-> 1114\u001b[1;33m             \u001b[0mself\u001b[0m\u001b[1;33m.\u001b[0m\u001b[0m_engine\u001b[0m \u001b[1;33m=\u001b[0m \u001b[0mCParserWrapper\u001b[0m\u001b[1;33m(\u001b[0m\u001b[0mself\u001b[0m\u001b[1;33m.\u001b[0m\u001b[0mf\u001b[0m\u001b[1;33m,\u001b[0m \u001b[1;33m**\u001b[0m\u001b[0mself\u001b[0m\u001b[1;33m.\u001b[0m\u001b[0moptions\u001b[0m\u001b[1;33m)\u001b[0m\u001b[1;33m\u001b[0m\u001b[1;33m\u001b[0m\u001b[0m\n\u001b[0m\u001b[0;32m   1115\u001b[0m         \u001b[1;32melse\u001b[0m\u001b[1;33m:\u001b[0m\u001b[1;33m\u001b[0m\u001b[1;33m\u001b[0m\u001b[0m\n\u001b[0;32m   1116\u001b[0m             \u001b[1;32mif\u001b[0m \u001b[0mengine\u001b[0m \u001b[1;33m==\u001b[0m \u001b[1;34m\"python\"\u001b[0m\u001b[1;33m:\u001b[0m\u001b[1;33m\u001b[0m\u001b[1;33m\u001b[0m\u001b[0m\n",
      "\u001b[1;32m~\\Anaconda3\\lib\\site-packages\\pandas\\io\\parsers.py\u001b[0m in \u001b[0;36m__init__\u001b[1;34m(self, src, **kwds)\u001b[0m\n\u001b[0;32m   1889\u001b[0m         \u001b[0mkwds\u001b[0m\u001b[1;33m[\u001b[0m\u001b[1;34m\"usecols\"\u001b[0m\u001b[1;33m]\u001b[0m \u001b[1;33m=\u001b[0m \u001b[0mself\u001b[0m\u001b[1;33m.\u001b[0m\u001b[0musecols\u001b[0m\u001b[1;33m\u001b[0m\u001b[1;33m\u001b[0m\u001b[0m\n\u001b[0;32m   1890\u001b[0m \u001b[1;33m\u001b[0m\u001b[0m\n\u001b[1;32m-> 1891\u001b[1;33m         \u001b[0mself\u001b[0m\u001b[1;33m.\u001b[0m\u001b[0m_reader\u001b[0m \u001b[1;33m=\u001b[0m \u001b[0mparsers\u001b[0m\u001b[1;33m.\u001b[0m\u001b[0mTextReader\u001b[0m\u001b[1;33m(\u001b[0m\u001b[0msrc\u001b[0m\u001b[1;33m,\u001b[0m \u001b[1;33m**\u001b[0m\u001b[0mkwds\u001b[0m\u001b[1;33m)\u001b[0m\u001b[1;33m\u001b[0m\u001b[1;33m\u001b[0m\u001b[0m\n\u001b[0m\u001b[0;32m   1892\u001b[0m         \u001b[0mself\u001b[0m\u001b[1;33m.\u001b[0m\u001b[0munnamed_cols\u001b[0m \u001b[1;33m=\u001b[0m \u001b[0mself\u001b[0m\u001b[1;33m.\u001b[0m\u001b[0m_reader\u001b[0m\u001b[1;33m.\u001b[0m\u001b[0munnamed_cols\u001b[0m\u001b[1;33m\u001b[0m\u001b[1;33m\u001b[0m\u001b[0m\n\u001b[0;32m   1893\u001b[0m \u001b[1;33m\u001b[0m\u001b[0m\n",
      "\u001b[1;32mpandas\\_libs\\parsers.pyx\u001b[0m in \u001b[0;36mpandas._libs.parsers.TextReader.__cinit__\u001b[1;34m()\u001b[0m\n",
      "\u001b[1;32mpandas\\_libs\\parsers.pyx\u001b[0m in \u001b[0;36mpandas._libs.parsers.TextReader._setup_parser_source\u001b[1;34m()\u001b[0m\n",
      "\u001b[1;31mFileNotFoundError\u001b[0m: [Errno 2] File avocado.csv does not exist: 'avocado.csv'"
     ]
    }
   ],
   "source": [
    "# Import pandas library\n",
    "import pandas as pd\n",
    "data = pd.read_csv('avocado.csv')"
   ]
  },
  {
   "cell_type": "markdown",
   "metadata": {
    "colab_type": "text",
    "id": "fOftEkPKX_zU"
   },
   "source": [
    "If we take a look at the column names, we can notice that these needs some cleaning, such as removing the whitespaces. Some systems and data pipelines can have issues with these."
   ]
  },
  {
   "cell_type": "code",
   "execution_count": null,
   "metadata": {
    "colab": {
     "base_uri": "https://localhost:8080/",
     "height": 85
    },
    "colab_type": "code",
    "executionInfo": {
     "elapsed": 2560,
     "status": "ok",
     "timestamp": 1599494040740,
     "user": {
      "displayName": "Janka Gecelovská",
      "photoUrl": "https://lh3.googleusercontent.com/a-/AOh14GjVqlh2PlzTOTBDiLLtofNwHsxobYMwGvAajTuXUa0=s64",
      "userId": "04343601701373244670"
     },
     "user_tz": -120
    },
    "id": "XR27PVus3Yxy",
    "outputId": "4e23e116-94b1-439f-ba3d-3711c889e612"
   },
   "outputs": [],
   "source": [
    "# Run this code\n",
    "data_2015 = data[data['year'] == 2015]\n",
    "data_2015.columns"
   ]
  },
  {
   "cell_type": "markdown",
   "metadata": {
    "colab_type": "text",
    "id": "mBbdudOpYs3O"
   },
   "source": [
    "Let's use lambda for that and three of the functions which we just learned - strip, lower and replace."
   ]
  },
  {
   "cell_type": "code",
   "execution_count": null,
   "metadata": {
    "colab": {
     "base_uri": "https://localhost:8080/",
     "height": 102
    },
    "colab_type": "code",
    "executionInfo": {
     "elapsed": 2542,
     "status": "ok",
     "timestamp": 1599494040741,
     "user": {
      "displayName": "Janka Gecelovská",
      "photoUrl": "https://lh3.googleusercontent.com/a-/AOh14GjVqlh2PlzTOTBDiLLtofNwHsxobYMwGvAajTuXUa0=s64",
      "userId": "04343601701373244670"
     },
     "user_tz": -120
    },
    "id": "7xDOz2sC4cR6",
    "outputId": "d9c17ccc-2f6a-4f81-ccb8-a392a0b47817"
   },
   "outputs": [],
   "source": [
    "# Run this code\n",
    "data_2015.rename(columns = lambda x: x.strip().lower().replace(' ','_'), inplace = True)"
   ]
  },
  {
   "cell_type": "code",
   "execution_count": null,
   "metadata": {
    "colab": {
     "base_uri": "https://localhost:8080/",
     "height": 204
    },
    "colab_type": "code",
    "executionInfo": {
     "elapsed": 2503,
     "status": "ok",
     "timestamp": 1599494040743,
     "user": {
      "displayName": "Janka Gecelovská",
      "photoUrl": "https://lh3.googleusercontent.com/a-/AOh14GjVqlh2PlzTOTBDiLLtofNwHsxobYMwGvAajTuXUa0=s64",
      "userId": "04343601701373244670"
     },
     "user_tz": -120
    },
    "id": "uLqZJoyZmbSr",
    "outputId": "bd0f973a-51a3-48f9-ba68-75a042687999"
   },
   "outputs": [],
   "source": [
    "# Run this code\n",
    "data_2015.head()"
   ]
  },
  {
   "cell_type": "markdown",
   "metadata": {
    "colab_type": "text",
    "id": "jU1GAwF_ZMiS"
   },
   "source": [
    "One column is still ugly. It would not be worth it to attempt and write specific function for it. We address it manually via dictionary."
   ]
  },
  {
   "cell_type": "code",
   "execution_count": null,
   "metadata": {
    "colab": {
     "base_uri": "https://localhost:8080/",
     "height": 102
    },
    "colab_type": "code",
    "executionInfo": {
     "elapsed": 2484,
     "status": "ok",
     "timestamp": 1599494040745,
     "user": {
      "displayName": "Janka Gecelovská",
      "photoUrl": "https://lh3.googleusercontent.com/a-/AOh14GjVqlh2PlzTOTBDiLLtofNwHsxobYMwGvAajTuXUa0=s64",
      "userId": "04343601701373244670"
     },
     "user_tz": -120
    },
    "id": "6SxcRhdg422u",
    "outputId": "ee64b8c0-4ca2-4b77-b956-dff3c7b2cf7f"
   },
   "outputs": [],
   "source": [
    "# BONUS TASK - Hints: use .rename() method and specify columns through dictionary, i.e. 'column_to_clearn':'cleaned_column'\n",
    "data_2015.rename(columns={'averageprice':'average_price'}, inplace = True)"
   ]
  },
  {
   "cell_type": "markdown",
   "metadata": {
    "colab_type": "text",
    "id": "gDgPRwHzumw5"
   },
   "source": [
    "# 3. Cleaning Text Column (READ-ONLY)\n",
    "\n",
    "Imagine we have 2 possible categories of avocado (A and B) in the same row for the same day that separated with '/'. \n",
    "It would be an issue for us if we'd like to explore and visualize data based on the avocado's category. \n",
    "\n",
    "We can use `str.split()` method to resolve this issue in few steps."
   ]
  },
  {
   "cell_type": "code",
   "execution_count": null,
   "metadata": {
    "colab": {},
    "colab_type": "code",
    "executionInfo": {
     "elapsed": 2441,
     "status": "ok",
     "timestamp": 1599494040747,
     "user": {
      "displayName": "Janka Gecelovská",
      "photoUrl": "https://lh3.googleusercontent.com/a-/AOh14GjVqlh2PlzTOTBDiLLtofNwHsxobYMwGvAajTuXUa0=s64",
      "userId": "04343601701373244670"
     },
     "user_tz": -120
    },
    "id": "BJByg_FC7kGc"
   },
   "outputs": [],
   "source": [
    "# Run this code - don't worry what it does\n",
    "data_avo = {'day':'Monday',\n",
    "            'category':'A/B',\n",
    "            'type':'organic'}\n",
    "monday_data = pd.DataFrame(data_avo, range(10))           "
   ]
  },
  {
   "cell_type": "markdown",
   "metadata": {
    "colab_type": "text",
    "id": "Pd0U4OwOa233"
   },
   "source": [
    "Let's now examine the special altered dataset which we created. You will notice that in the 'category' column. we have A and B symbols. These represent avocado types, which means that in **every row we have stored 2 observations**. That is not good and we need to split each row into 2 separate rows."
   ]
  },
  {
   "cell_type": "code",
   "execution_count": null,
   "metadata": {
    "colab": {
     "base_uri": "https://localhost:8080/",
     "height": 359
    },
    "colab_type": "code",
    "executionInfo": {
     "elapsed": 2427,
     "status": "ok",
     "timestamp": 1599494040748,
     "user": {
      "displayName": "Janka Gecelovská",
      "photoUrl": "https://lh3.googleusercontent.com/a-/AOh14GjVqlh2PlzTOTBDiLLtofNwHsxobYMwGvAajTuXUa0=s64",
      "userId": "04343601701373244670"
     },
     "user_tz": -120
    },
    "id": "GXJv_Ccq8JFa",
    "outputId": "47190913-4d00-49bb-8265-c2e90943dbb6"
   },
   "outputs": [],
   "source": [
    "# Run this code\n",
    "monday_data"
   ]
  },
  {
   "cell_type": "markdown",
   "metadata": {
    "colab_type": "text",
    "id": "z49j8IjMbtdQ"
   },
   "source": [
    "At first, we use split method to create a list of two objects out of the original element in the column. Take a look."
   ]
  },
  {
   "cell_type": "code",
   "execution_count": null,
   "metadata": {
    "colab": {
     "base_uri": "https://localhost:8080/",
     "height": 359
    },
    "colab_type": "code",
    "executionInfo": {
     "elapsed": 2393,
     "status": "ok",
     "timestamp": 1599494040750,
     "user": {
      "displayName": "Janka Gecelovská",
      "photoUrl": "https://lh3.googleusercontent.com/a-/AOh14GjVqlh2PlzTOTBDiLLtofNwHsxobYMwGvAajTuXUa0=s64",
      "userId": "04343601701373244670"
     },
     "user_tz": -120
    },
    "id": "KHGSbu257v1Q",
    "outputId": "69e5202e-e147-400a-f8e9-8a956ffa4e6a"
   },
   "outputs": [],
   "source": [
    "# Firstly, split the 'category' column with separator '/'\n",
    "monday_data['category'] = monday_data['category'].str.split('/')\n",
    "monday_data"
   ]
  },
  {
   "cell_type": "markdown",
   "metadata": {
    "colab_type": "text",
    "id": "ZQ1upehYyd4n"
   },
   "source": [
    "The upcoming step is hard, try to follow.\n",
    "- next we use `apply()` function on `monday_data` that return Series: use lambda function `lambda x:` to create new Series - we also need to specify axis = 1 which return a new column for avocado's type\n",
    "- after the `apply()` part add `stack()` - to stack avocado's category "
   ]
  },
  {
   "cell_type": "code",
   "execution_count": null,
   "metadata": {
    "colab": {},
    "colab_type": "code",
    "executionInfo": {
     "elapsed": 2370,
     "status": "ok",
     "timestamp": 1599494040751,
     "user": {
      "displayName": "Janka Gecelovská",
      "photoUrl": "https://lh3.googleusercontent.com/a-/AOh14GjVqlh2PlzTOTBDiLLtofNwHsxobYMwGvAajTuXUa0=s64",
      "userId": "04343601701373244670"
     },
     "user_tz": -120
    },
    "id": "d6vVYwZs1TDo"
   },
   "outputs": [],
   "source": [
    "# Run this code\n",
    "series_2 = monday_data.apply(lambda x: pd.Series(x['category']), axis = 1).stack()"
   ]
  },
  {
   "cell_type": "markdown",
   "metadata": {
    "colab_type": "text",
    "id": "D89FzDV093iG"
   },
   "source": [
    "As you can see below, **categories are now separated into new rows**: 10 observation for Monday. However there is also new level (another index) for A and B that we don't need anymore. "
   ]
  },
  {
   "cell_type": "code",
   "execution_count": null,
   "metadata": {
    "colab": {
     "base_uri": "https://localhost:8080/",
     "height": 374
    },
    "colab_type": "code",
    "executionInfo": {
     "elapsed": 2799,
     "status": "ok",
     "timestamp": 1599494041195,
     "user": {
      "displayName": "Janka Gecelovská",
      "photoUrl": "https://lh3.googleusercontent.com/a-/AOh14GjVqlh2PlzTOTBDiLLtofNwHsxobYMwGvAajTuXUa0=s64",
      "userId": "04343601701373244670"
     },
     "user_tz": -120
    },
    "id": "5ZGhU1RXsmhR",
    "outputId": "09150b71-92da-4c81-d7d6-fb351a65e335"
   },
   "outputs": [],
   "source": [
    "# Run this code\n",
    "series_2"
   ]
  },
  {
   "cell_type": "markdown",
   "metadata": {
    "colab_type": "text",
    "id": "6Xshd7QI-lEE"
   },
   "source": [
    "We can remove this index using `reset_index()`: \n",
    "- use `drop = True`\n",
    "- set `level = 1`"
   ]
  },
  {
   "cell_type": "code",
   "execution_count": null,
   "metadata": {
    "colab": {},
    "colab_type": "code",
    "executionInfo": {
     "elapsed": 2750,
     "status": "ok",
     "timestamp": 1599494041197,
     "user": {
      "displayName": "Janka Gecelovská",
      "photoUrl": "https://lh3.googleusercontent.com/a-/AOh14GjVqlh2PlzTOTBDiLLtofNwHsxobYMwGvAajTuXUa0=s64",
      "userId": "04343601701373244670"
     },
     "user_tz": -120
    },
    "id": "905FcOjt9vtt"
   },
   "outputs": [],
   "source": [
    "# Run this code\n",
    "series_2 = monday_data.apply(lambda x: pd.Series(x['category']), axis = 1).stack().reset_index(level = 1, drop = True)"
   ]
  },
  {
   "cell_type": "markdown",
   "metadata": {
    "colab_type": "text",
    "id": "bBo9HevS_Hi2"
   },
   "source": [
    "- give the Series (it will be a new column) a name 'avocado_category'"
   ]
  },
  {
   "cell_type": "code",
   "execution_count": null,
   "metadata": {
    "colab": {},
    "colab_type": "code",
    "executionInfo": {
     "elapsed": 2726,
     "status": "ok",
     "timestamp": 1599494041199,
     "user": {
      "displayName": "Janka Gecelovská",
      "photoUrl": "https://lh3.googleusercontent.com/a-/AOh14GjVqlh2PlzTOTBDiLLtofNwHsxobYMwGvAajTuXUa0=s64",
      "userId": "04343601701373244670"
     },
     "user_tz": -120
    },
    "id": "3mhMrQUntjca"
   },
   "outputs": [],
   "source": [
    "# Run this code\n",
    "series_2.name = 'avocado_category' "
   ]
  },
  {
   "cell_type": "markdown",
   "metadata": {
    "colab_type": "text",
    "id": "bzOPCvTh_QJ2"
   },
   "source": [
    "- drop the column 'category' from `new_data` (this is the column that contain A/B), set axis = 1\n",
    "- join `series_2` where we have separated categories"
   ]
  },
  {
   "cell_type": "code",
   "execution_count": null,
   "metadata": {
    "colab": {},
    "colab_type": "code",
    "executionInfo": {
     "elapsed": 2693,
     "status": "ok",
     "timestamp": 1599494041200,
     "user": {
      "displayName": "Janka Gecelovská",
      "photoUrl": "https://lh3.googleusercontent.com/a-/AOh14GjVqlh2PlzTOTBDiLLtofNwHsxobYMwGvAajTuXUa0=s64",
      "userId": "04343601701373244670"
     },
     "user_tz": -120
    },
    "id": "F-_2tJIQszxa"
   },
   "outputs": [],
   "source": [
    "# Run this code\n",
    "new_data = monday_data.drop('category', axis = 1).join(series_2)"
   ]
  },
  {
   "cell_type": "code",
   "execution_count": null,
   "metadata": {
    "colab": {
     "base_uri": "https://localhost:8080/",
     "height": 669
    },
    "colab_type": "code",
    "executionInfo": {
     "elapsed": 2684,
     "status": "ok",
     "timestamp": 1599494041202,
     "user": {
      "displayName": "Janka Gecelovská",
      "photoUrl": "https://lh3.googleusercontent.com/a-/AOh14GjVqlh2PlzTOTBDiLLtofNwHsxobYMwGvAajTuXUa0=s64",
      "userId": "04343601701373244670"
     },
     "user_tz": -120
    },
    "id": "HkwheozRtoJJ",
    "outputId": "92bc2ec7-af20-45ed-d581-1c6b3e41e627"
   },
   "outputs": [],
   "source": [
    "# Run this code\n",
    "new_data"
   ]
  },
  {
   "cell_type": "markdown",
   "metadata": {
    "colab_type": "text",
    "id": "C3j0M_IscRbA"
   },
   "source": [
    "# 4. Project: Cleaning Text Column"
   ]
  },
  {
   "cell_type": "code",
   "execution_count": null,
   "metadata": {
    "colab": {},
    "colab_type": "code",
    "executionInfo": {
     "elapsed": 2664,
     "status": "ok",
     "timestamp": 1599494041203,
     "user": {
      "displayName": "Janka Gecelovská",
      "photoUrl": "https://lh3.googleusercontent.com/a-/AOh14GjVqlh2PlzTOTBDiLLtofNwHsxobYMwGvAajTuXUa0=s64",
      "userId": "04343601701373244670"
     },
     "user_tz": -120
    },
    "id": "i4bAOPRoohA_"
   },
   "outputs": [],
   "source": [
    "# Run the code\n",
    "import numpy as np\n",
    "data_1 = pd.read_csv('movie_metadata.csv')\n",
    "movie_data = data_1.iloc[:,np.r_[1:3, 8:13]]"
   ]
  },
  {
   "cell_type": "code",
   "execution_count": null,
   "metadata": {
    "colab": {
     "base_uri": "https://localhost:8080/",
     "height": 204
    },
    "colab_type": "code",
    "executionInfo": {
     "elapsed": 2650,
     "status": "ok",
     "timestamp": 1599494041205,
     "user": {
      "displayName": "Janka Gecelovská",
      "photoUrl": "https://lh3.googleusercontent.com/a-/AOh14GjVqlh2PlzTOTBDiLLtofNwHsxobYMwGvAajTuXUa0=s64",
      "userId": "04343601701373244670"
     },
     "user_tz": -120
    },
    "id": "_JZCumYgqkgv",
    "outputId": "f20741d1-4dca-4041-cfc0-6b0925c0b12e"
   },
   "outputs": [],
   "source": [
    "# Display first 5 rows of movie_data and look at the genres column\n",
    "movie_data.head()"
   ]
  },
  {
   "cell_type": "markdown",
   "metadata": {
    "colab_type": "text",
    "id": "TBG24MHR_nWX"
   },
   "source": [
    "Now we use the same way to split genres of movies, the only difference is the separator '|'."
   ]
  },
  {
   "cell_type": "code",
   "execution_count": null,
   "metadata": {
    "colab": {
     "base_uri": "https://localhost:8080/",
     "height": 119
    },
    "colab_type": "code",
    "executionInfo": {
     "elapsed": 2634,
     "status": "ok",
     "timestamp": 1599494041207,
     "user": {
      "displayName": "Janka Gecelovská",
      "photoUrl": "https://lh3.googleusercontent.com/a-/AOh14GjVqlh2PlzTOTBDiLLtofNwHsxobYMwGvAajTuXUa0=s64",
      "userId": "04343601701373244670"
     },
     "user_tz": -120
    },
    "id": "k5_nOjgFqsl1",
    "outputId": "92a260a2-bb3a-48f8-d0da-2f91317013e0"
   },
   "outputs": [],
   "source": [
    "# TASK MUST DO Split the 'genres' column with separator '/'\n",
    "movie_data.genres = movie_data.genres.str.split('|')"
   ]
  },
  {
   "cell_type": "code",
   "execution_count": null,
   "metadata": {
    "colab": {},
    "colab_type": "code",
    "executionInfo": {
     "elapsed": 4963,
     "status": "ok",
     "timestamp": 1599494043550,
     "user": {
      "displayName": "Janka Gecelovská",
      "photoUrl": "https://lh3.googleusercontent.com/a-/AOh14GjVqlh2PlzTOTBDiLLtofNwHsxobYMwGvAajTuXUa0=s64",
      "userId": "04343601701373244670"
     },
     "user_tz": -120
    },
    "id": "lS0Yda1VroXH"
   },
   "outputs": [],
   "source": [
    "# Create a new Series for genres using lambda function and apply it to movie_data\n",
    "series_genres = movie_data.apply(lambda x: pd.Series(x['genres']), axis = 1).stack().reset_index(level = 1,drop = True)"
   ]
  },
  {
   "cell_type": "code",
   "execution_count": null,
   "metadata": {
    "colab": {
     "base_uri": "https://localhost:8080/",
     "height": 221
    },
    "colab_type": "code",
    "executionInfo": {
     "elapsed": 4948,
     "status": "ok",
     "timestamp": 1599494043551,
     "user": {
      "displayName": "Janka Gecelovská",
      "photoUrl": "https://lh3.googleusercontent.com/a-/AOh14GjVqlh2PlzTOTBDiLLtofNwHsxobYMwGvAajTuXUa0=s64",
      "userId": "04343601701373244670"
     },
     "user_tz": -120
    },
    "id": "VGNhJBl8r4E6",
    "outputId": "e2b6ed32-c65a-45b5-a81e-3118540dda9e"
   },
   "outputs": [],
   "source": [
    "# Print the new Series\n",
    "print(series_genres)"
   ]
  },
  {
   "cell_type": "code",
   "execution_count": null,
   "metadata": {
    "colab": {},
    "colab_type": "code",
    "executionInfo": {
     "elapsed": 4928,
     "status": "ok",
     "timestamp": 1599494043552,
     "user": {
      "displayName": "Janka Gecelovská",
      "photoUrl": "https://lh3.googleusercontent.com/a-/AOh14GjVqlh2PlzTOTBDiLLtofNwHsxobYMwGvAajTuXUa0=s64",
      "userId": "04343601701373244670"
     },
     "user_tz": -120
    },
    "id": "cH59Oh_kr6bs"
   },
   "outputs": [],
   "source": [
    "# Give the Series (new column) name 'genre'\n",
    "series_genres.name = 'genre'"
   ]
  },
  {
   "cell_type": "code",
   "execution_count": null,
   "metadata": {
    "colab": {},
    "colab_type": "code",
    "executionInfo": {
     "elapsed": 4913,
     "status": "ok",
     "timestamp": 1599494043552,
     "user": {
      "displayName": "Janka Gecelovská",
      "photoUrl": "https://lh3.googleusercontent.com/a-/AOh14GjVqlh2PlzTOTBDiLLtofNwHsxobYMwGvAajTuXUa0=s64",
      "userId": "04343601701373244670"
     },
     "user_tz": -120
    },
    "id": "JyGTwgDwr-ND"
   },
   "outputs": [],
   "source": [
    "# TASK 2 >>>> Drop the old column 'genres' from movie_data on axis = 1\n",
    "#             Join new Series 'series_genres'\n",
    "our_movie_data = movie_data.drop('genres', axis = 1).join(series_genres) "
   ]
  },
  {
   "cell_type": "code",
   "execution_count": null,
   "metadata": {
    "colab": {
     "base_uri": "https://localhost:8080/",
     "height": 255
    },
    "colab_type": "code",
    "executionInfo": {
     "elapsed": 4893,
     "status": "ok",
     "timestamp": 1599494043553,
     "user": {
      "displayName": "Janka Gecelovská",
      "photoUrl": "https://lh3.googleusercontent.com/a-/AOh14GjVqlh2PlzTOTBDiLLtofNwHsxobYMwGvAajTuXUa0=s64",
      "userId": "04343601701373244670"
     },
     "user_tz": -120
    },
    "id": "e5WQqTjEuZi2",
    "outputId": "7a942687-2ece-4334-afb3-88c65f13ac54"
   },
   "outputs": [],
   "source": [
    "# Run this code\n",
    "print(our_movie_data)"
   ]
  },
  {
   "cell_type": "markdown",
   "metadata": {
    "colab_type": "text",
    "id": "hLLlkBhcBORo"
   },
   "source": [
    "# 5. Regular expressions\n",
    "\n",
    "- provide a flexible way to serach or match string patterns in text\n",
    "- a single expression, commonly called a **regex**, is a string formed according to the regular expression language\n",
    "\n",
    "- using built-in module `re` we can apply regular expressions to strings\n",
    "\n",
    "Run the following cell showing example of regular expression for validating an email $^{1}$. "
   ]
  },
  {
   "cell_type": "code",
   "execution_count": null,
   "metadata": {},
   "outputs": [],
   "source": [
    "# Run this code\n",
    "Image('regex.png')"
   ]
  },
  {
   "cell_type": "code",
   "execution_count": 35,
   "metadata": {
    "colab": {},
    "colab_type": "code",
    "executionInfo": {
     "elapsed": 4873,
     "status": "ok",
     "timestamp": 1599494043554,
     "user": {
      "displayName": "Janka Gecelovská",
      "photoUrl": "https://lh3.googleusercontent.com/a-/AOh14GjVqlh2PlzTOTBDiLLtofNwHsxobYMwGvAajTuXUa0=s64",
      "userId": "04343601701373244670"
     },
     "user_tz": -120
    },
    "id": "NcvzGMaqBQ2F"
   },
   "outputs": [],
   "source": [
    "# Import re module\n",
    "import re"
   ]
  },
  {
   "cell_type": "markdown",
   "metadata": {
    "colab_type": "text",
    "id": "2sqN2mcoILRn"
   },
   "source": [
    "Regex Methods\n",
    "\n",
    "There is a set of methods that allows us to search a string for a match such as:\n",
    "\n",
    "`split`\n",
    "- breaks string into pieces at each occurence of pattern\n",
    "\n",
    "`findall`\n",
    "- returns a list that contain all matches\n",
    "\n",
    "`match`\n",
    "- if zero or more characters at the beginning of string match this regular expression, return a corresponding match object\n",
    "\n",
    "`search`\n",
    "- scan through string looking for the first location where regular expression produces a match and return a corresponding match object"
   ]
  },
  {
   "cell_type": "code",
   "execution_count": 36,
   "metadata": {
    "colab": {},
    "colab_type": "code",
    "executionInfo": {
     "elapsed": 4861,
     "status": "ok",
     "timestamp": 1599494043555,
     "user": {
      "displayName": "Janka Gecelovská",
      "photoUrl": "https://lh3.googleusercontent.com/a-/AOh14GjVqlh2PlzTOTBDiLLtofNwHsxobYMwGvAajTuXUa0=s64",
      "userId": "04343601701373244670"
     },
     "user_tz": -120
    },
    "id": "NhduL71wHyRD"
   },
   "outputs": [],
   "source": [
    "# Split string called 'sentence' by whitespaces \n",
    "sentence = 'This  sentence contains     whitespace'"
   ]
  },
  {
   "cell_type": "markdown",
   "metadata": {
    "colab_type": "text",
    "id": "4GzAhCYcL0NO"
   },
   "source": [
    "To split this string we need to call `re.split()`. \n",
    "\n",
    "Within this method we specify regex `'\\s+'` describing one ore more whitespace character and string to split (in our case 'sentence').\n",
    "\n",
    "Firstly, the regex is complied and then the split function is called on the passed string."
   ]
  },
  {
   "cell_type": "code",
   "execution_count": 37,
   "metadata": {
    "colab": {
     "base_uri": "https://localhost:8080/",
     "height": 34
    },
    "colab_type": "code",
    "executionInfo": {
     "elapsed": 5289,
     "status": "ok",
     "timestamp": 1599494044004,
     "user": {
      "displayName": "Janka Gecelovská",
      "photoUrl": "https://lh3.googleusercontent.com/a-/AOh14GjVqlh2PlzTOTBDiLLtofNwHsxobYMwGvAajTuXUa0=s64",
      "userId": "04343601701373244670"
     },
     "user_tz": -120
    },
    "id": "BE6KVu6uLoA2",
    "outputId": "5bd40b16-6144-4ab9-f59f-c399237ebed2"
   },
   "outputs": [
    {
     "data": {
      "text/plain": [
       "['This', 'sentence', 'contains', 'whitespace']"
      ]
     },
     "execution_count": 37,
     "metadata": {},
     "output_type": "execute_result"
    }
   ],
   "source": [
    "# Run this code\n",
    "re.split('\\s+', sentence)"
   ]
  },
  {
   "cell_type": "markdown",
   "metadata": {
    "colab_type": "text",
    "id": "Se5uzdW7NeqJ"
   },
   "source": [
    "With `re.compile()` we can combine a regular expression pattern into pattern objects, which can be used for pattern matching\n",
    "- this approach is recommended if you intend to apply the same expression to many strings "
   ]
  },
  {
   "cell_type": "code",
   "execution_count": 38,
   "metadata": {
    "colab": {},
    "colab_type": "code",
    "executionInfo": {
     "elapsed": 5268,
     "status": "ok",
     "timestamp": 1599494044005,
     "user": {
      "displayName": "Janka Gecelovská",
      "photoUrl": "https://lh3.googleusercontent.com/a-/AOh14GjVqlh2PlzTOTBDiLLtofNwHsxobYMwGvAajTuXUa0=s64",
      "userId": "04343601701373244670"
     },
     "user_tz": -120
    },
    "id": "TVV7FuY0LniI"
   },
   "outputs": [],
   "source": [
    "# Run this code\n",
    "our_regex = re.compile('\\s+')"
   ]
  },
  {
   "cell_type": "code",
   "execution_count": 39,
   "metadata": {
    "colab": {
     "base_uri": "https://localhost:8080/",
     "height": 34
    },
    "colab_type": "code",
    "executionInfo": {
     "elapsed": 5256,
     "status": "ok",
     "timestamp": 1599494044006,
     "user": {
      "displayName": "Janka Gecelovská",
      "photoUrl": "https://lh3.googleusercontent.com/a-/AOh14GjVqlh2PlzTOTBDiLLtofNwHsxobYMwGvAajTuXUa0=s64",
      "userId": "04343601701373244670"
     },
     "user_tz": -120
    },
    "id": "WLGs6mbaOCu9",
    "outputId": "2d04acc8-1f7f-4e41-b203-0c21c6a9bea4"
   },
   "outputs": [
    {
     "data": {
      "text/plain": [
       "['This', 'sentence', 'contains', 'whitespace']"
      ]
     },
     "execution_count": 39,
     "metadata": {},
     "output_type": "execute_result"
    }
   ],
   "source": [
    "# Split string 'sentence' using regex object 'our_regex'\n",
    "our_regex.split(sentence)"
   ]
  },
  {
   "cell_type": "code",
   "execution_count": 40,
   "metadata": {
    "colab": {
     "base_uri": "https://localhost:8080/",
     "height": 34
    },
    "colab_type": "code",
    "executionInfo": {
     "elapsed": 5232,
     "status": "ok",
     "timestamp": 1599494044008,
     "user": {
      "displayName": "Janka Gecelovská",
      "photoUrl": "https://lh3.googleusercontent.com/a-/AOh14GjVqlh2PlzTOTBDiLLtofNwHsxobYMwGvAajTuXUa0=s64",
      "userId": "04343601701373244670"
     },
     "user_tz": -120
    },
    "id": "Wd_BwQBCOF13",
    "outputId": "6fd0c9e8-9356-4f3f-a7d8-1de900e21b4a"
   },
   "outputs": [
    {
     "data": {
      "text/plain": [
       "['  ', ' ', '     ']"
      ]
     },
     "execution_count": 40,
     "metadata": {},
     "output_type": "execute_result"
    }
   ],
   "source": [
    "# Get the list of all patterns that match regex using findall() method\n",
    "our_regex.findall(sentence)"
   ]
  },
  {
   "cell_type": "code",
   "execution_count": 41,
   "metadata": {
    "colab": {},
    "colab_type": "code",
    "executionInfo": {
     "elapsed": 5216,
     "status": "ok",
     "timestamp": 1599494044010,
     "user": {
      "displayName": "Janka Gecelovská",
      "photoUrl": "https://lh3.googleusercontent.com/a-/AOh14GjVqlh2PlzTOTBDiLLtofNwHsxobYMwGvAajTuXUa0=s64",
      "userId": "04343601701373244670"
     },
     "user_tz": -120
    },
    "id": "KhQAznGNOKgv"
   },
   "outputs": [],
   "source": [
    "# Create regex object that match pattern contain 'e'\n",
    "another_regex = re.compile('e')"
   ]
  },
  {
   "cell_type": "code",
   "execution_count": 42,
   "metadata": {
    "colab": {},
    "colab_type": "code",
    "executionInfo": {
     "elapsed": 5204,
     "status": "ok",
     "timestamp": 1599494044012,
     "user": {
      "displayName": "Janka Gecelovská",
      "photoUrl": "https://lh3.googleusercontent.com/a-/AOh14GjVqlh2PlzTOTBDiLLtofNwHsxobYMwGvAajTuXUa0=s64",
      "userId": "04343601701373244670"
     },
     "user_tz": -120
    },
    "id": "RA8APTGbOgcP"
   },
   "outputs": [],
   "source": [
    "# Run the code\n",
    "sentence_2 = 'Learning RegEx is fun'"
   ]
  },
  {
   "cell_type": "code",
   "execution_count": 43,
   "metadata": {
    "colab": {
     "base_uri": "https://localhost:8080/",
     "height": 34
    },
    "colab_type": "code",
    "executionInfo": {
     "elapsed": 5185,
     "status": "ok",
     "timestamp": 1599494044014,
     "user": {
      "displayName": "Janka Gecelovská",
      "photoUrl": "https://lh3.googleusercontent.com/a-/AOh14GjVqlh2PlzTOTBDiLLtofNwHsxobYMwGvAajTuXUa0=s64",
      "userId": "04343601701373244670"
     },
     "user_tz": -120
    },
    "id": "z67ELANtPnEd",
    "outputId": "7090ddbc-8a6f-494e-e7f1-683376b0e9af"
   },
   "outputs": [
    {
     "data": {
      "text/plain": [
       "['e', 'e']"
      ]
     },
     "execution_count": 43,
     "metadata": {},
     "output_type": "execute_result"
    }
   ],
   "source": [
    "# Return the list that contain all matches in string 'sentence_2'\n",
    "another_regex.findall(sentence_2)"
   ]
  },
  {
   "cell_type": "markdown",
   "metadata": {
    "colab_type": "text",
    "id": "zvpokw-KQ6U8"
   },
   "source": [
    "As you can see, the regex object performed case-sensitive matching and matched lowercase letters only. \n",
    "\n",
    "We can also define case insensitive regex object during the pattern compile using `flags = re.IGNORECASE`"
   ]
  },
  {
   "cell_type": "code",
   "execution_count": 44,
   "metadata": {
    "colab": {},
    "colab_type": "code",
    "executionInfo": {
     "elapsed": 5166,
     "status": "ok",
     "timestamp": 1599494044016,
     "user": {
      "displayName": "Janka Gecelovská",
      "photoUrl": "https://lh3.googleusercontent.com/a-/AOh14GjVqlh2PlzTOTBDiLLtofNwHsxobYMwGvAajTuXUa0=s64",
      "userId": "04343601701373244670"
     },
     "user_tz": -120
    },
    "id": "_2WvI5ONPqjH"
   },
   "outputs": [],
   "source": [
    "# Create regex object that is not case sensitive using re.IGNORECASE\n",
    "regex_sensitive = re.compile('e', flags = re.IGNORECASE)"
   ]
  },
  {
   "cell_type": "code",
   "execution_count": 45,
   "metadata": {
    "colab": {
     "base_uri": "https://localhost:8080/",
     "height": 34
    },
    "colab_type": "code",
    "executionInfo": {
     "elapsed": 5151,
     "status": "ok",
     "timestamp": 1599494044017,
     "user": {
      "displayName": "Janka Gecelovská",
      "photoUrl": "https://lh3.googleusercontent.com/a-/AOh14GjVqlh2PlzTOTBDiLLtofNwHsxobYMwGvAajTuXUa0=s64",
      "userId": "04343601701373244670"
     },
     "user_tz": -120
    },
    "id": "UAjnTFLMQHOG",
    "outputId": "0e93f693-3053-4385-ca56-4cd52276b13b"
   },
   "outputs": [
    {
     "data": {
      "text/plain": [
       "['e', 'e', 'E']"
      ]
     },
     "execution_count": 45,
     "metadata": {},
     "output_type": "execute_result"
    }
   ],
   "source": [
    "# Run this code\n",
    "regex_sensitive.findall(sentence_2)"
   ]
  },
  {
   "cell_type": "code",
   "execution_count": 46,
   "metadata": {
    "colab": {},
    "colab_type": "code",
    "executionInfo": {
     "elapsed": 5125,
     "status": "ok",
     "timestamp": 1599494044018,
     "user": {
      "displayName": "Janka Gecelovská",
      "photoUrl": "https://lh3.googleusercontent.com/a-/AOh14GjVqlh2PlzTOTBDiLLtofNwHsxobYMwGvAajTuXUa0=s64",
      "userId": "04343601701373244670"
     },
     "user_tz": -120
    },
    "id": "DMAFKdrAVzbK"
   },
   "outputs": [],
   "source": [
    "text = 'Regex, Regex pattern, Expressions'\n",
    "# Create regex object that match pattern contain 's'\n",
    "pattern = re.compile('s')"
   ]
  },
  {
   "cell_type": "code",
   "execution_count": 47,
   "metadata": {
    "colab": {
     "base_uri": "https://localhost:8080/",
     "height": 34
    },
    "colab_type": "code",
    "executionInfo": {
     "elapsed": 5112,
     "status": "ok",
     "timestamp": 1599494044019,
     "user": {
      "displayName": "Janka Gecelovská",
      "photoUrl": "https://lh3.googleusercontent.com/a-/AOh14GjVqlh2PlzTOTBDiLLtofNwHsxobYMwGvAajTuXUa0=s64",
      "userId": "04343601701373244670"
     },
     "user_tz": -120
    },
    "id": "q7AdilW4WI3D",
    "outputId": "b592da6c-9797-4f30-b31a-9f58b4e621e8"
   },
   "outputs": [
    {
     "data": {
      "text/plain": [
       "<re.Match object; span=(27, 28), match='s'>"
      ]
     },
     "execution_count": 47,
     "metadata": {},
     "output_type": "execute_result"
    }
   ],
   "source": [
    "# Check for a match anywhere in the string using .search()\n",
    "pattern.search(text)"
   ]
  },
  {
   "cell_type": "markdown",
   "metadata": {
    "colab_type": "text",
    "id": "KykGwLzQeZJp"
   },
   "source": [
    "As you can see `search` returns only the start and end position of the pattern."
   ]
  },
  {
   "cell_type": "code",
   "execution_count": 49,
   "metadata": {
    "colab": {},
    "colab_type": "code",
    "executionInfo": {
     "elapsed": 5077,
     "status": "ok",
     "timestamp": 1599494044020,
     "user": {
      "displayName": "Janka Gecelovská",
      "photoUrl": "https://lh3.googleusercontent.com/a-/AOh14GjVqlh2PlzTOTBDiLLtofNwHsxobYMwGvAajTuXUa0=s64",
      "userId": "04343601701373244670"
     },
     "user_tz": -120
    },
    "id": "8t2Loe5SYy7m"
   },
   "outputs": [],
   "source": [
    "# Run this line of code\n",
    "email = 'Email addresses of our two new employees are first.example@gmail.com and second_example@gmail.com'"
   ]
  },
  {
   "cell_type": "code",
   "execution_count": 50,
   "metadata": {
    "colab": {},
    "colab_type": "code",
    "executionInfo": {
     "elapsed": 5064,
     "status": "ok",
     "timestamp": 1599494044022,
     "user": {
      "displayName": "Janka Gecelovská",
      "photoUrl": "https://lh3.googleusercontent.com/a-/AOh14GjVqlh2PlzTOTBDiLLtofNwHsxobYMwGvAajTuXUa0=s64",
      "userId": "04343601701373244670"
     },
     "user_tz": -120
    },
    "id": "1qbwQG_SbKCE"
   },
   "outputs": [],
   "source": [
    "# Write a regex to match email addresses \n",
    "email_pattern = r'[a-zA-Z0-9_.+-]+@[a-zA-Z0-9-]+\\.[a-zA-Z0-9-.]+'"
   ]
  },
  {
   "cell_type": "code",
   "execution_count": 51,
   "metadata": {
    "colab": {},
    "colab_type": "code",
    "executionInfo": {
     "elapsed": 5051,
     "status": "ok",
     "timestamp": 1599494044023,
     "user": {
      "displayName": "Janka Gecelovská",
      "photoUrl": "https://lh3.googleusercontent.com/a-/AOh14GjVqlh2PlzTOTBDiLLtofNwHsxobYMwGvAajTuXUa0=s64",
      "userId": "04343601701373244670"
     },
     "user_tz": -120
    },
    "id": "DoDGF_tpac_a"
   },
   "outputs": [],
   "source": [
    "# Create a regex object that match email addresses and make it case-insensitive\n",
    "rege = re.compile(email_pattern, flags = re.IGNORECASE)"
   ]
  },
  {
   "cell_type": "code",
   "execution_count": 52,
   "metadata": {
    "colab": {
     "base_uri": "https://localhost:8080/",
     "height": 34
    },
    "colab_type": "code",
    "executionInfo": {
     "elapsed": 5038,
     "status": "ok",
     "timestamp": 1599494044024,
     "user": {
      "displayName": "Janka Gecelovská",
      "photoUrl": "https://lh3.googleusercontent.com/a-/AOh14GjVqlh2PlzTOTBDiLLtofNwHsxobYMwGvAajTuXUa0=s64",
      "userId": "04343601701373244670"
     },
     "user_tz": -120
    },
    "id": "pRpjpeb2a-bU",
    "outputId": "b56fe7d4-3dc5-4e68-d564-ffae0de710aa"
   },
   "outputs": [
    {
     "data": {
      "text/plain": [
       "['first.example@gmail.com', 'second_example@gmail.com']"
      ]
     },
     "execution_count": 52,
     "metadata": {},
     "output_type": "execute_result"
    }
   ],
   "source": [
    "# Get list of email addresses from 'email' string\n",
    "rege.findall(email)"
   ]
  },
  {
   "cell_type": "code",
   "execution_count": 53,
   "metadata": {
    "colab": {
     "base_uri": "https://localhost:8080/",
     "height": 34
    },
    "colab_type": "code",
    "executionInfo": {
     "elapsed": 5016,
     "status": "ok",
     "timestamp": 1599494044026,
     "user": {
      "displayName": "Janka Gecelovská",
      "photoUrl": "https://lh3.googleusercontent.com/a-/AOh14GjVqlh2PlzTOTBDiLLtofNwHsxobYMwGvAajTuXUa0=s64",
      "userId": "04343601701373244670"
     },
     "user_tz": -120
    },
    "id": "bEx78TP7coAF",
    "outputId": "5e3f5243-4924-444e-8f1f-2cb6a91c382e"
   },
   "outputs": [
    {
     "data": {
      "text/plain": [
       "<re.Match object; span=(45, 68), match='first.example@gmail.com'>"
      ]
     },
     "execution_count": 53,
     "metadata": {},
     "output_type": "execute_result"
    }
   ],
   "source": [
    "# Search for the position of the first email address in the string 'email'\n",
    "rege.search(email)"
   ]
  },
  {
   "cell_type": "code",
   "execution_count": 54,
   "metadata": {
    "colab": {},
    "colab_type": "code",
    "executionInfo": {
     "elapsed": 4998,
     "status": "ok",
     "timestamp": 1599494044027,
     "user": {
      "displayName": "Janka Gecelovská",
      "photoUrl": "https://lh3.googleusercontent.com/a-/AOh14GjVqlh2PlzTOTBDiLLtofNwHsxobYMwGvAajTuXUa0=s64",
      "userId": "04343601701373244670"
     },
     "user_tz": -120
    },
    "id": "DRWIFb9xiIVH"
   },
   "outputs": [],
   "source": [
    "text = 'The average price of the avocados was $1.35 last year, hopefully, this year the price don`t exceed $1.50 for a piece!'"
   ]
  },
  {
   "cell_type": "code",
   "execution_count": 55,
   "metadata": {
    "colab": {},
    "colab_type": "code",
    "executionInfo": {
     "elapsed": 4986,
     "status": "ok",
     "timestamp": 1599494044028,
     "user": {
      "displayName": "Janka Gecelovská",
      "photoUrl": "https://lh3.googleusercontent.com/a-/AOh14GjVqlh2PlzTOTBDiLLtofNwHsxobYMwGvAajTuXUa0=s64",
      "userId": "04343601701373244670"
     },
     "user_tz": -120
    },
    "id": "xsnutzsBhTaT"
   },
   "outputs": [],
   "source": [
    "# TASK 3 >>>> Google for Regex patern to match decimal numbers and assign it to variable decimal_number\n",
    "decimal_number = \"[0-9]*[.][0-9]*\""
   ]
  },
  {
   "cell_type": "code",
   "execution_count": 56,
   "metadata": {
    "colab": {},
    "colab_type": "code",
    "executionInfo": {
     "elapsed": 4973,
     "status": "ok",
     "timestamp": 1599494044029,
     "user": {
      "displayName": "Janka Gecelovská",
      "photoUrl": "https://lh3.googleusercontent.com/a-/AOh14GjVqlh2PlzTOTBDiLLtofNwHsxobYMwGvAajTuXUa0=s64",
      "userId": "04343601701373244670"
     },
     "user_tz": -120
    },
    "id": "fy8xLeOXhWYR"
   },
   "outputs": [],
   "source": [
    "# Regex object that match decimal number - won't work if TASK 3 is not completed\n",
    "pattern_dec = re.compile(decimal_number)"
   ]
  },
  {
   "cell_type": "code",
   "execution_count": 57,
   "metadata": {
    "colab": {
     "base_uri": "https://localhost:8080/",
     "height": 34
    },
    "colab_type": "code",
    "executionInfo": {
     "elapsed": 4961,
     "status": "ok",
     "timestamp": 1599494044030,
     "user": {
      "displayName": "Janka Gecelovská",
      "photoUrl": "https://lh3.googleusercontent.com/a-/AOh14GjVqlh2PlzTOTBDiLLtofNwHsxobYMwGvAajTuXUa0=s64",
      "userId": "04343601701373244670"
     },
     "user_tz": -120
    },
    "id": "0-fSFbhIhdsx",
    "outputId": "6b0fe4b6-6082-4263-f1e6-371b6a9ca97d"
   },
   "outputs": [
    {
     "data": {
      "text/plain": [
       "['1.35', '1.50']"
      ]
     },
     "execution_count": 57,
     "metadata": {},
     "output_type": "execute_result"
    }
   ],
   "source": [
    "# Run this code - won't work if TASK 3 is not completed\n",
    "pattern_dec.findall(text)"
   ]
  },
  {
   "cell_type": "markdown",
   "metadata": {},
   "source": [
    "**Hint**\n",
    "\n",
    "If we want to find some pattern (decimal numbers for example) within the string of Series, we can also use pandas function `str.contains`. For more information check [pandas documentation](https://pandas.pydata.org/pandas-docs/stable/reference/api/pandas.Series.str.contains.html)."
   ]
  },
  {
   "cell_type": "markdown",
   "metadata": {},
   "source": []
  }
 ],
 "metadata": {
  "colab": {
   "authorship_tag": "ABX9TyO31+Z6Ob+rbC0hA7hki9Ne",
   "collapsed_sections": [],
   "name": "5. Strings_And_Regex.ipynb",
   "provenance": []
  },
  "kernelspec": {
   "display_name": "Python 3",
   "language": "python",
   "name": "python3"
  },
  "language_info": {
   "codemirror_mode": {
    "name": "ipython",
    "version": 3
   },
   "file_extension": ".py",
   "mimetype": "text/x-python",
   "name": "python",
   "nbconvert_exporter": "python",
   "pygments_lexer": "ipython3",
   "version": "3.7.7"
  }
 },
 "nbformat": 4,
 "nbformat_minor": 1
}
