{
 "cells": [
  {
   "cell_type": "markdown",
   "metadata": {
    "colab_type": "text",
    "id": "8KoNfBQSggjy"
   },
   "source": [
    "# 1. Database-style DataFrame Merges\n",
    "\n",
    "Merge operations combine DataFrames on common columns or indices.\n",
    "\n"
   ]
  },
  {
   "cell_type": "code",
   "execution_count": 45,
   "metadata": {
    "colab": {},
    "colab_type": "code",
    "executionInfo": {
     "elapsed": 1526,
     "status": "ok",
     "timestamp": 1599491984016,
     "user": {
      "displayName": "Janka Gecelovská",
      "photoUrl": "https://lh3.googleusercontent.com/a-/AOh14GjVqlh2PlzTOTBDiLLtofNwHsxobYMwGvAajTuXUa0=s64",
      "userId": "04343601701373244670"
     },
     "user_tz": -120
    },
    "id": "NC19S4NcimJp"
   },
   "outputs": [],
   "source": [
    "# Import pandas as pd\n",
    "import pandas as pd"
   ]
  },
  {
   "cell_type": "code",
   "execution_count": 46,
   "metadata": {
    "colab": {
     "base_uri": "https://localhost:8080/",
     "height": 204
    },
    "colab_type": "code",
    "executionInfo": {
     "elapsed": 2124,
     "status": "ok",
     "timestamp": 1599491984630,
     "user": {
      "displayName": "Janka Gecelovská",
      "photoUrl": "https://lh3.googleusercontent.com/a-/AOh14GjVqlh2PlzTOTBDiLLtofNwHsxobYMwGvAajTuXUa0=s64",
      "userId": "04343601701373244670"
     },
     "user_tz": -120
    },
    "id": "w1Fzxjuhgbt8",
    "outputId": "ff81885a-4cf8-4f9a-bde3-2d8e6a0e25ce"
   },
   "outputs": [
    {
     "name": "stdout",
     "output_type": "stream",
     "text": [
      "  key  values_1\n",
      "0   A         0\n",
      "1   B         1\n",
      "2   C         2\n",
      "3   B         3\n",
      "4   E         4\n",
      "5   F         5\n",
      "6   A         6\n",
      "7   H         7\n",
      "8   A         8\n",
      "9   J         9\n"
     ]
    }
   ],
   "source": [
    "# Run this code\n",
    "data_1 = pd.DataFrame({'key':['A','B','C','B','E','F','A','H','A','J'],\n",
    "                      'values_1': range(10)})\n",
    "print(data_1)"
   ]
  },
  {
   "cell_type": "code",
   "execution_count": 47,
   "metadata": {
    "colab": {
     "base_uri": "https://localhost:8080/",
     "height": 85
    },
    "colab_type": "code",
    "executionInfo": {
     "elapsed": 2098,
     "status": "ok",
     "timestamp": 1599491984631,
     "user": {
      "displayName": "Janka Gecelovská",
      "photoUrl": "https://lh3.googleusercontent.com/a-/AOh14GjVqlh2PlzTOTBDiLLtofNwHsxobYMwGvAajTuXUa0=s64",
      "userId": "04343601701373244670"
     },
     "user_tz": -120
    },
    "id": "auGrMkQ1jsVM",
    "outputId": "a456aded-9014-4ca9-8a4b-b7b0b00a8de1"
   },
   "outputs": [
    {
     "name": "stdout",
     "output_type": "stream",
     "text": [
      "  key  values_2\n",
      "0   A         0\n",
      "1   B         1\n",
      "2   C         2\n"
     ]
    }
   ],
   "source": [
    "# Run this code\n",
    "data_2 = pd.DataFrame({'key':['A','B','C'],\n",
    "                       'values_2':range(3)})\n",
    "print(data_2)"
   ]
  },
  {
   "cell_type": "markdown",
   "metadata": {
    "colab_type": "text",
    "id": "mODEslqzoquk"
   },
   "source": [
    "Our first DataFrame **data_1** has multiple rows labeled 'A' and 'B', whereas DataFrame **data_2** has only 1 row for each value in the `key` column. It is an example of `many-to-one` $^{1}$ merge situation.\n",
    "\n",
    "By merging these 2 dataframes we obtain following result:"
   ]
  },
  {
   "cell_type": "code",
   "execution_count": 48,
   "metadata": {
    "colab": {
     "base_uri": "https://localhost:8080/",
     "height": 235
    },
    "colab_type": "code",
    "executionInfo": {
     "elapsed": 2080,
     "status": "ok",
     "timestamp": 1599491984632,
     "user": {
      "displayName": "Janka Gecelovská",
      "photoUrl": "https://lh3.googleusercontent.com/a-/AOh14GjVqlh2PlzTOTBDiLLtofNwHsxobYMwGvAajTuXUa0=s64",
      "userId": "04343601701373244670"
     },
     "user_tz": -120
    },
    "id": "I2lwiMA6qSwj",
    "outputId": "2fbbb2b7-3b6c-442a-cf02-e7f7a02a1bb5"
   },
   "outputs": [
    {
     "data": {
      "text/html": [
       "<div>\n",
       "<style scoped>\n",
       "    .dataframe tbody tr th:only-of-type {\n",
       "        vertical-align: middle;\n",
       "    }\n",
       "\n",
       "    .dataframe tbody tr th {\n",
       "        vertical-align: top;\n",
       "    }\n",
       "\n",
       "    .dataframe thead th {\n",
       "        text-align: right;\n",
       "    }\n",
       "</style>\n",
       "<table border=\"1\" class=\"dataframe\">\n",
       "  <thead>\n",
       "    <tr style=\"text-align: right;\">\n",
       "      <th></th>\n",
       "      <th>key</th>\n",
       "      <th>values_1</th>\n",
       "      <th>values_2</th>\n",
       "    </tr>\n",
       "  </thead>\n",
       "  <tbody>\n",
       "    <tr>\n",
       "      <th>0</th>\n",
       "      <td>A</td>\n",
       "      <td>0</td>\n",
       "      <td>0</td>\n",
       "    </tr>\n",
       "    <tr>\n",
       "      <th>1</th>\n",
       "      <td>A</td>\n",
       "      <td>6</td>\n",
       "      <td>0</td>\n",
       "    </tr>\n",
       "    <tr>\n",
       "      <th>2</th>\n",
       "      <td>A</td>\n",
       "      <td>8</td>\n",
       "      <td>0</td>\n",
       "    </tr>\n",
       "    <tr>\n",
       "      <th>3</th>\n",
       "      <td>B</td>\n",
       "      <td>1</td>\n",
       "      <td>1</td>\n",
       "    </tr>\n",
       "    <tr>\n",
       "      <th>4</th>\n",
       "      <td>B</td>\n",
       "      <td>3</td>\n",
       "      <td>1</td>\n",
       "    </tr>\n",
       "    <tr>\n",
       "      <th>5</th>\n",
       "      <td>C</td>\n",
       "      <td>2</td>\n",
       "      <td>2</td>\n",
       "    </tr>\n",
       "  </tbody>\n",
       "</table>\n",
       "</div>"
      ],
      "text/plain": [
       "  key  values_1  values_2\n",
       "0   A         0         0\n",
       "1   A         6         0\n",
       "2   A         8         0\n",
       "3   B         1         1\n",
       "4   B         3         1\n",
       "5   C         2         2"
      ]
     },
     "execution_count": 48,
     "metadata": {
      "tags": []
     },
     "output_type": "execute_result"
    }
   ],
   "source": [
    "# Merge data_1 and data_2\n",
    "pd.merge(data_1, data_2)"
   ]
  },
  {
   "cell_type": "markdown",
   "metadata": {
    "colab_type": "text",
    "id": "CCro0O53qdq_"
   },
   "source": [
    "Our DataFrames have the same column `key ` and in this case `.merge()` uses the overlapping column names as `keys` to join on. However it is a good practice to specify explicitly the `key` column like this:"
   ]
  },
  {
   "cell_type": "code",
   "execution_count": 49,
   "metadata": {
    "colab": {
     "base_uri": "https://localhost:8080/",
     "height": 235
    },
    "colab_type": "code",
    "executionInfo": {
     "elapsed": 2059,
     "status": "ok",
     "timestamp": 1599491984632,
     "user": {
      "displayName": "Janka Gecelovská",
      "photoUrl": "https://lh3.googleusercontent.com/a-/AOh14GjVqlh2PlzTOTBDiLLtofNwHsxobYMwGvAajTuXUa0=s64",
      "userId": "04343601701373244670"
     },
     "user_tz": -120
    },
    "id": "RzJku7mIj8gE",
    "outputId": "8677528c-784a-4d38-db31-0c37c034539a"
   },
   "outputs": [
    {
     "data": {
      "text/html": [
       "<div>\n",
       "<style scoped>\n",
       "    .dataframe tbody tr th:only-of-type {\n",
       "        vertical-align: middle;\n",
       "    }\n",
       "\n",
       "    .dataframe tbody tr th {\n",
       "        vertical-align: top;\n",
       "    }\n",
       "\n",
       "    .dataframe thead th {\n",
       "        text-align: right;\n",
       "    }\n",
       "</style>\n",
       "<table border=\"1\" class=\"dataframe\">\n",
       "  <thead>\n",
       "    <tr style=\"text-align: right;\">\n",
       "      <th></th>\n",
       "      <th>key</th>\n",
       "      <th>values_1</th>\n",
       "      <th>values_2</th>\n",
       "    </tr>\n",
       "  </thead>\n",
       "  <tbody>\n",
       "    <tr>\n",
       "      <th>0</th>\n",
       "      <td>A</td>\n",
       "      <td>0</td>\n",
       "      <td>0</td>\n",
       "    </tr>\n",
       "    <tr>\n",
       "      <th>1</th>\n",
       "      <td>A</td>\n",
       "      <td>6</td>\n",
       "      <td>0</td>\n",
       "    </tr>\n",
       "    <tr>\n",
       "      <th>2</th>\n",
       "      <td>A</td>\n",
       "      <td>8</td>\n",
       "      <td>0</td>\n",
       "    </tr>\n",
       "    <tr>\n",
       "      <th>3</th>\n",
       "      <td>B</td>\n",
       "      <td>1</td>\n",
       "      <td>1</td>\n",
       "    </tr>\n",
       "    <tr>\n",
       "      <th>4</th>\n",
       "      <td>B</td>\n",
       "      <td>3</td>\n",
       "      <td>1</td>\n",
       "    </tr>\n",
       "    <tr>\n",
       "      <th>5</th>\n",
       "      <td>C</td>\n",
       "      <td>2</td>\n",
       "      <td>2</td>\n",
       "    </tr>\n",
       "  </tbody>\n",
       "</table>\n",
       "</div>"
      ],
      "text/plain": [
       "  key  values_1  values_2\n",
       "0   A         0         0\n",
       "1   A         6         0\n",
       "2   A         8         0\n",
       "3   B         1         1\n",
       "4   B         3         1\n",
       "5   C         2         2"
      ]
     },
     "execution_count": 49,
     "metadata": {
      "tags": []
     },
     "output_type": "execute_result"
    }
   ],
   "source": [
    "# Merge data_1 and data_2, specify key column\n",
    "pd.merge(data_1, data_2, on = 'key')"
   ]
  },
  {
   "cell_type": "markdown",
   "metadata": {
    "colab_type": "text",
    "id": "wjymrLyeV7en"
   },
   "source": [
    "As you can notice 'E', 'F', 'H', 'J'  and associated data are missing from the result. It is because `merge()` acts with 'inner' merge (join) by default. However, we can explicitly specify it using `how = 'inner'`\n",
    "\n",
    "**inner join** (or inner merge) keeps only those values that have common key in both DataFrames, in our case 'A', 'B' and 'C'. \n",
    "\n",
    "\n",
    "Other possible options are:\n",
    " \n",
    "- **left join** (left outer join)\n",
    "\n",
    "We specify `how = 'left'`: keeps each row from the left DataFrame and only those from the right DataFrame that match. Non-matching values are replaced with NaNs.\n",
    "\n",
    "\n",
    "- **right join** (right outer join)\n",
    "\n",
    "We specify `how = 'right'`: it is the opposite of left join. Non-matching values are filled with NaNs as well.\n",
    "\n",
    "- **outer** (full outer join)\n",
    "\n",
    "We specify `how = 'outer'`: it takes the union of the keys and applies both left and right join\n",
    "\n",
    "\n"
   ]
  },
  {
   "cell_type": "code",
   "execution_count": 50,
   "metadata": {
    "colab": {
     "base_uri": "https://localhost:8080/",
     "height": 359
    },
    "colab_type": "code",
    "executionInfo": {
     "elapsed": 2032,
     "status": "ok",
     "timestamp": 1599491984633,
     "user": {
      "displayName": "Janka Gecelovská",
      "photoUrl": "https://lh3.googleusercontent.com/a-/AOh14GjVqlh2PlzTOTBDiLLtofNwHsxobYMwGvAajTuXUa0=s64",
      "userId": "04343601701373244670"
     },
     "user_tz": -120
    },
    "id": "Sa9gvfWZnOLz",
    "outputId": "33e7ae37-6bea-4f88-9efd-ee3bddecd073"
   },
   "outputs": [
    {
     "data": {
      "text/html": [
       "<div>\n",
       "<style scoped>\n",
       "    .dataframe tbody tr th:only-of-type {\n",
       "        vertical-align: middle;\n",
       "    }\n",
       "\n",
       "    .dataframe tbody tr th {\n",
       "        vertical-align: top;\n",
       "    }\n",
       "\n",
       "    .dataframe thead th {\n",
       "        text-align: right;\n",
       "    }\n",
       "</style>\n",
       "<table border=\"1\" class=\"dataframe\">\n",
       "  <thead>\n",
       "    <tr style=\"text-align: right;\">\n",
       "      <th></th>\n",
       "      <th>key</th>\n",
       "      <th>values_1</th>\n",
       "      <th>values_2</th>\n",
       "    </tr>\n",
       "  </thead>\n",
       "  <tbody>\n",
       "    <tr>\n",
       "      <th>0</th>\n",
       "      <td>A</td>\n",
       "      <td>0</td>\n",
       "      <td>0.0</td>\n",
       "    </tr>\n",
       "    <tr>\n",
       "      <th>1</th>\n",
       "      <td>B</td>\n",
       "      <td>1</td>\n",
       "      <td>1.0</td>\n",
       "    </tr>\n",
       "    <tr>\n",
       "      <th>2</th>\n",
       "      <td>C</td>\n",
       "      <td>2</td>\n",
       "      <td>2.0</td>\n",
       "    </tr>\n",
       "    <tr>\n",
       "      <th>3</th>\n",
       "      <td>B</td>\n",
       "      <td>3</td>\n",
       "      <td>1.0</td>\n",
       "    </tr>\n",
       "    <tr>\n",
       "      <th>4</th>\n",
       "      <td>E</td>\n",
       "      <td>4</td>\n",
       "      <td>NaN</td>\n",
       "    </tr>\n",
       "    <tr>\n",
       "      <th>5</th>\n",
       "      <td>F</td>\n",
       "      <td>5</td>\n",
       "      <td>NaN</td>\n",
       "    </tr>\n",
       "    <tr>\n",
       "      <th>6</th>\n",
       "      <td>A</td>\n",
       "      <td>6</td>\n",
       "      <td>0.0</td>\n",
       "    </tr>\n",
       "    <tr>\n",
       "      <th>7</th>\n",
       "      <td>H</td>\n",
       "      <td>7</td>\n",
       "      <td>NaN</td>\n",
       "    </tr>\n",
       "    <tr>\n",
       "      <th>8</th>\n",
       "      <td>A</td>\n",
       "      <td>8</td>\n",
       "      <td>0.0</td>\n",
       "    </tr>\n",
       "    <tr>\n",
       "      <th>9</th>\n",
       "      <td>J</td>\n",
       "      <td>9</td>\n",
       "      <td>NaN</td>\n",
       "    </tr>\n",
       "  </tbody>\n",
       "</table>\n",
       "</div>"
      ],
      "text/plain": [
       "  key  values_1  values_2\n",
       "0   A         0       0.0\n",
       "1   B         1       1.0\n",
       "2   C         2       2.0\n",
       "3   B         3       1.0\n",
       "4   E         4       NaN\n",
       "5   F         5       NaN\n",
       "6   A         6       0.0\n",
       "7   H         7       NaN\n",
       "8   A         8       0.0\n",
       "9   J         9       NaN"
      ]
     },
     "execution_count": 50,
     "metadata": {
      "tags": []
     },
     "output_type": "execute_result"
    }
   ],
   "source": [
    "# Merge the DataFrames data_1 and data_2 with left join\n",
    "pd.merge(data_1, data_2, on = 'key', how = 'left')"
   ]
  },
  {
   "cell_type": "code",
   "execution_count": 51,
   "metadata": {
    "colab": {
     "base_uri": "https://localhost:8080/",
     "height": 235
    },
    "colab_type": "code",
    "executionInfo": {
     "elapsed": 2009,
     "status": "ok",
     "timestamp": 1599491984634,
     "user": {
      "displayName": "Janka Gecelovská",
      "photoUrl": "https://lh3.googleusercontent.com/a-/AOh14GjVqlh2PlzTOTBDiLLtofNwHsxobYMwGvAajTuXUa0=s64",
      "userId": "04343601701373244670"
     },
     "user_tz": -120
    },
    "id": "4GaS-MTBnsvs",
    "outputId": "73c89a19-8dd4-4676-c613-03c0a28ea405"
   },
   "outputs": [
    {
     "data": {
      "text/html": [
       "<div>\n",
       "<style scoped>\n",
       "    .dataframe tbody tr th:only-of-type {\n",
       "        vertical-align: middle;\n",
       "    }\n",
       "\n",
       "    .dataframe tbody tr th {\n",
       "        vertical-align: top;\n",
       "    }\n",
       "\n",
       "    .dataframe thead th {\n",
       "        text-align: right;\n",
       "    }\n",
       "</style>\n",
       "<table border=\"1\" class=\"dataframe\">\n",
       "  <thead>\n",
       "    <tr style=\"text-align: right;\">\n",
       "      <th></th>\n",
       "      <th>key</th>\n",
       "      <th>values_1</th>\n",
       "      <th>values_2</th>\n",
       "    </tr>\n",
       "  </thead>\n",
       "  <tbody>\n",
       "    <tr>\n",
       "      <th>0</th>\n",
       "      <td>A</td>\n",
       "      <td>0</td>\n",
       "      <td>0</td>\n",
       "    </tr>\n",
       "    <tr>\n",
       "      <th>1</th>\n",
       "      <td>A</td>\n",
       "      <td>6</td>\n",
       "      <td>0</td>\n",
       "    </tr>\n",
       "    <tr>\n",
       "      <th>2</th>\n",
       "      <td>A</td>\n",
       "      <td>8</td>\n",
       "      <td>0</td>\n",
       "    </tr>\n",
       "    <tr>\n",
       "      <th>3</th>\n",
       "      <td>B</td>\n",
       "      <td>1</td>\n",
       "      <td>1</td>\n",
       "    </tr>\n",
       "    <tr>\n",
       "      <th>4</th>\n",
       "      <td>B</td>\n",
       "      <td>3</td>\n",
       "      <td>1</td>\n",
       "    </tr>\n",
       "    <tr>\n",
       "      <th>5</th>\n",
       "      <td>C</td>\n",
       "      <td>2</td>\n",
       "      <td>2</td>\n",
       "    </tr>\n",
       "  </tbody>\n",
       "</table>\n",
       "</div>"
      ],
      "text/plain": [
       "  key  values_1  values_2\n",
       "0   A         0         0\n",
       "1   A         6         0\n",
       "2   A         8         0\n",
       "3   B         1         1\n",
       "4   B         3         1\n",
       "5   C         2         2"
      ]
     },
     "execution_count": 51,
     "metadata": {
      "tags": []
     },
     "output_type": "execute_result"
    }
   ],
   "source": [
    "# TASK 1 >>>> Merge the dataframes data_1 and data_2 on 'key', specify right join\n",
    "pd.merge(data_1, data_2, on = 'key', how = 'right')"
   ]
  },
  {
   "cell_type": "code",
   "execution_count": 52,
   "metadata": {
    "colab": {
     "base_uri": "https://localhost:8080/",
     "height": 359
    },
    "colab_type": "code",
    "executionInfo": {
     "elapsed": 1987,
     "status": "ok",
     "timestamp": 1599491984634,
     "user": {
      "displayName": "Janka Gecelovská",
      "photoUrl": "https://lh3.googleusercontent.com/a-/AOh14GjVqlh2PlzTOTBDiLLtofNwHsxobYMwGvAajTuXUa0=s64",
      "userId": "04343601701373244670"
     },
     "user_tz": -120
    },
    "id": "AAqcKxoxnDo7",
    "outputId": "69396880-7df7-4d2b-aa9c-bb805fef6576"
   },
   "outputs": [
    {
     "data": {
      "text/html": [
       "<div>\n",
       "<style scoped>\n",
       "    .dataframe tbody tr th:only-of-type {\n",
       "        vertical-align: middle;\n",
       "    }\n",
       "\n",
       "    .dataframe tbody tr th {\n",
       "        vertical-align: top;\n",
       "    }\n",
       "\n",
       "    .dataframe thead th {\n",
       "        text-align: right;\n",
       "    }\n",
       "</style>\n",
       "<table border=\"1\" class=\"dataframe\">\n",
       "  <thead>\n",
       "    <tr style=\"text-align: right;\">\n",
       "      <th></th>\n",
       "      <th>key</th>\n",
       "      <th>values_1</th>\n",
       "      <th>values_2</th>\n",
       "    </tr>\n",
       "  </thead>\n",
       "  <tbody>\n",
       "    <tr>\n",
       "      <th>0</th>\n",
       "      <td>A</td>\n",
       "      <td>0</td>\n",
       "      <td>0.0</td>\n",
       "    </tr>\n",
       "    <tr>\n",
       "      <th>1</th>\n",
       "      <td>A</td>\n",
       "      <td>6</td>\n",
       "      <td>0.0</td>\n",
       "    </tr>\n",
       "    <tr>\n",
       "      <th>2</th>\n",
       "      <td>A</td>\n",
       "      <td>8</td>\n",
       "      <td>0.0</td>\n",
       "    </tr>\n",
       "    <tr>\n",
       "      <th>3</th>\n",
       "      <td>B</td>\n",
       "      <td>1</td>\n",
       "      <td>1.0</td>\n",
       "    </tr>\n",
       "    <tr>\n",
       "      <th>4</th>\n",
       "      <td>B</td>\n",
       "      <td>3</td>\n",
       "      <td>1.0</td>\n",
       "    </tr>\n",
       "    <tr>\n",
       "      <th>5</th>\n",
       "      <td>C</td>\n",
       "      <td>2</td>\n",
       "      <td>2.0</td>\n",
       "    </tr>\n",
       "    <tr>\n",
       "      <th>6</th>\n",
       "      <td>E</td>\n",
       "      <td>4</td>\n",
       "      <td>NaN</td>\n",
       "    </tr>\n",
       "    <tr>\n",
       "      <th>7</th>\n",
       "      <td>F</td>\n",
       "      <td>5</td>\n",
       "      <td>NaN</td>\n",
       "    </tr>\n",
       "    <tr>\n",
       "      <th>8</th>\n",
       "      <td>H</td>\n",
       "      <td>7</td>\n",
       "      <td>NaN</td>\n",
       "    </tr>\n",
       "    <tr>\n",
       "      <th>9</th>\n",
       "      <td>J</td>\n",
       "      <td>9</td>\n",
       "      <td>NaN</td>\n",
       "    </tr>\n",
       "  </tbody>\n",
       "</table>\n",
       "</div>"
      ],
      "text/plain": [
       "  key  values_1  values_2\n",
       "0   A         0       0.0\n",
       "1   A         6       0.0\n",
       "2   A         8       0.0\n",
       "3   B         1       1.0\n",
       "4   B         3       1.0\n",
       "5   C         2       2.0\n",
       "6   E         4       NaN\n",
       "7   F         5       NaN\n",
       "8   H         7       NaN\n",
       "9   J         9       NaN"
      ]
     },
     "execution_count": 52,
     "metadata": {
      "tags": []
     },
     "output_type": "execute_result"
    }
   ],
   "source": [
    "# TASK 2 >>>> Merge the dataframes data_1 and data_2 on 'key', specify full outer join\n",
    "pd.merge(data_1, data_2, on = 'key', how = 'outer')"
   ]
  },
  {
   "cell_type": "markdown",
   "metadata": {
    "colab_type": "text",
    "id": "BNVPwewMts-Y"
   },
   "source": [
    "If the key column names are different in each DataFrame object, we can specify them separately.\n",
    "\n",
    "- for the left DataFrame: `left_on`\n",
    "- for the right DataFrame: `right_on`"
   ]
  },
  {
   "cell_type": "code",
   "execution_count": 53,
   "metadata": {
    "colab": {
     "base_uri": "https://localhost:8080/",
     "height": 136
    },
    "colab_type": "code",
    "executionInfo": {
     "elapsed": 1960,
     "status": "ok",
     "timestamp": 1599491984635,
     "user": {
      "displayName": "Janka Gecelovská",
      "photoUrl": "https://lh3.googleusercontent.com/a-/AOh14GjVqlh2PlzTOTBDiLLtofNwHsxobYMwGvAajTuXUa0=s64",
      "userId": "04343601701373244670"
     },
     "user_tz": -120
    },
    "id": "kYpYrFs9kdgm",
    "outputId": "698ee3a8-42ec-4466-93bc-2b0d040a02dc"
   },
   "outputs": [
    {
     "name": "stdout",
     "output_type": "stream",
     "text": [
      "  key_left  values\n",
      "0        E       0\n",
      "1        F       1\n",
      "2        G       2\n",
      "3        H       3\n",
      "4        I       4\n",
      "5        J       5\n"
     ]
    }
   ],
   "source": [
    "# Run this code\n",
    "data_3 = pd.DataFrame({'key_left': ['E','F','G','H','I','J'],\n",
    "                       'values': range(6)})\n",
    "print(data_3)"
   ]
  },
  {
   "cell_type": "code",
   "execution_count": 54,
   "metadata": {
    "colab": {
     "base_uri": "https://localhost:8080/",
     "height": 102
    },
    "colab_type": "code",
    "executionInfo": {
     "elapsed": 1923,
     "status": "ok",
     "timestamp": 1599491984636,
     "user": {
      "displayName": "Janka Gecelovská",
      "photoUrl": "https://lh3.googleusercontent.com/a-/AOh14GjVqlh2PlzTOTBDiLLtofNwHsxobYMwGvAajTuXUa0=s64",
      "userId": "04343601701373244670"
     },
     "user_tz": -120
    },
    "id": "NnwGRT_SmseT",
    "outputId": "f2278603-da5a-4312-bc2d-95d0a24e475f"
   },
   "outputs": [
    {
     "name": "stdout",
     "output_type": "stream",
     "text": [
      "  key_right  values_2\n",
      "0         D         0\n",
      "1         E         1\n",
      "2         F         2\n",
      "3         G         3\n"
     ]
    }
   ],
   "source": [
    "# Run this code\n",
    "data_4 = pd.DataFrame({'key_right': ['D','E','F','G'],\n",
    "                       'values_2': range(4)})\n",
    "print(data_4)"
   ]
  },
  {
   "cell_type": "code",
   "execution_count": 55,
   "metadata": {
    "colab": {
     "base_uri": "https://localhost:8080/",
     "height": 142
    },
    "colab_type": "code",
    "executionInfo": {
     "elapsed": 1892,
     "status": "ok",
     "timestamp": 1599491984636,
     "user": {
      "displayName": "Janka Gecelovská",
      "photoUrl": "https://lh3.googleusercontent.com/a-/AOh14GjVqlh2PlzTOTBDiLLtofNwHsxobYMwGvAajTuXUa0=s64",
      "userId": "04343601701373244670"
     },
     "user_tz": -120
    },
    "id": "hGrTpZYSm66y",
    "outputId": "50e3ed4f-62c5-4217-d945-6a87c4864ea1"
   },
   "outputs": [
    {
     "data": {
      "text/html": [
       "<div>\n",
       "<style scoped>\n",
       "    .dataframe tbody tr th:only-of-type {\n",
       "        vertical-align: middle;\n",
       "    }\n",
       "\n",
       "    .dataframe tbody tr th {\n",
       "        vertical-align: top;\n",
       "    }\n",
       "\n",
       "    .dataframe thead th {\n",
       "        text-align: right;\n",
       "    }\n",
       "</style>\n",
       "<table border=\"1\" class=\"dataframe\">\n",
       "  <thead>\n",
       "    <tr style=\"text-align: right;\">\n",
       "      <th></th>\n",
       "      <th>key_left</th>\n",
       "      <th>values</th>\n",
       "      <th>key_right</th>\n",
       "      <th>values_2</th>\n",
       "    </tr>\n",
       "  </thead>\n",
       "  <tbody>\n",
       "    <tr>\n",
       "      <th>0</th>\n",
       "      <td>E</td>\n",
       "      <td>0</td>\n",
       "      <td>E</td>\n",
       "      <td>1</td>\n",
       "    </tr>\n",
       "    <tr>\n",
       "      <th>1</th>\n",
       "      <td>F</td>\n",
       "      <td>1</td>\n",
       "      <td>F</td>\n",
       "      <td>2</td>\n",
       "    </tr>\n",
       "    <tr>\n",
       "      <th>2</th>\n",
       "      <td>G</td>\n",
       "      <td>2</td>\n",
       "      <td>G</td>\n",
       "      <td>3</td>\n",
       "    </tr>\n",
       "  </tbody>\n",
       "</table>\n",
       "</div>"
      ],
      "text/plain": [
       "  key_left  values key_right  values_2\n",
       "0        E       0         E         1\n",
       "1        F       1         F         2\n",
       "2        G       2         G         3"
      ]
     },
     "execution_count": 55,
     "metadata": {
      "tags": []
     },
     "output_type": "execute_result"
    }
   ],
   "source": [
    "# Merge the DataFrames data_3 and data_4, specify left and right keys to join on\n",
    "# Specify inner join \n",
    "pd.merge(data_3, data_4, left_on= 'key_left', right_on= 'key_right', how = 'inner')"
   ]
  },
  {
   "cell_type": "code",
   "execution_count": 56,
   "metadata": {
    "colab": {
     "base_uri": "https://localhost:8080/",
     "height": 170
    },
    "colab_type": "code",
    "executionInfo": {
     "elapsed": 1876,
     "status": "ok",
     "timestamp": 1599491984643,
     "user": {
      "displayName": "Janka Gecelovská",
      "photoUrl": "https://lh3.googleusercontent.com/a-/AOh14GjVqlh2PlzTOTBDiLLtofNwHsxobYMwGvAajTuXUa0=s64",
      "userId": "04343601701373244670"
     },
     "user_tz": -120
    },
    "id": "1uJtr6d0dqpB",
    "outputId": "1cad8c73-23d1-4dfa-b2a1-f728ab251896"
   },
   "outputs": [
    {
     "name": "stdout",
     "output_type": "stream",
     "text": [
      "      key  values\n",
      "0     red       0\n",
      "1   black       1\n",
      "2  yellow       2\n",
      "3   green       3\n",
      "4   black       4\n",
      "5    pink       5\n",
      "6   white       6\n",
      "7   black       7\n"
     ]
    }
   ],
   "source": [
    "# Run this code\n",
    "df_1 = pd.DataFrame({'key': ['red','black','yellow','green','black','pink','white','black'],\n",
    "                     'values': range(8)})\n",
    "print(df_1)"
   ]
  },
  {
   "cell_type": "code",
   "execution_count": 57,
   "metadata": {
    "colab": {
     "base_uri": "https://localhost:8080/",
     "height": 153
    },
    "colab_type": "code",
    "executionInfo": {
     "elapsed": 2079,
     "status": "ok",
     "timestamp": 1599491984870,
     "user": {
      "displayName": "Janka Gecelovská",
      "photoUrl": "https://lh3.googleusercontent.com/a-/AOh14GjVqlh2PlzTOTBDiLLtofNwHsxobYMwGvAajTuXUa0=s64",
      "userId": "04343601701373244670"
     },
     "user_tz": -120
    },
    "id": "YPR6f1lOeXrO",
    "outputId": "4d51eb4e-35d6-4ab6-d475-47a3f40d2e32"
   },
   "outputs": [
    {
     "name": "stdout",
     "output_type": "stream",
     "text": [
      "      key  values\n",
      "0   white       0\n",
      "1    pink       1\n",
      "2    gray       2\n",
      "3  yellow       3\n",
      "4   black       4\n",
      "5   black       5\n",
      "6   black       6\n"
     ]
    }
   ],
   "source": [
    "# Run this code\n",
    "df_2 = pd.DataFrame({'key': ['white','pink','gray','yellow','black','black','black'],\n",
    "                     'values': range(7)})\n",
    "print(df_2)"
   ]
  },
  {
   "cell_type": "code",
   "execution_count": 58,
   "metadata": {
    "colab": {
     "base_uri": "https://localhost:8080/",
     "height": 483
    },
    "colab_type": "code",
    "executionInfo": {
     "elapsed": 2053,
     "status": "ok",
     "timestamp": 1599491984871,
     "user": {
      "displayName": "Janka Gecelovská",
      "photoUrl": "https://lh3.googleusercontent.com/a-/AOh14GjVqlh2PlzTOTBDiLLtofNwHsxobYMwGvAajTuXUa0=s64",
      "userId": "04343601701373244670"
     },
     "user_tz": -120
    },
    "id": "OI1gp01bewV-",
    "outputId": "c6930f68-7cf4-48c0-cc84-a3bd80a202d0"
   },
   "outputs": [
    {
     "data": {
      "text/html": [
       "<div>\n",
       "<style scoped>\n",
       "    .dataframe tbody tr th:only-of-type {\n",
       "        vertical-align: middle;\n",
       "    }\n",
       "\n",
       "    .dataframe tbody tr th {\n",
       "        vertical-align: top;\n",
       "    }\n",
       "\n",
       "    .dataframe thead th {\n",
       "        text-align: right;\n",
       "    }\n",
       "</style>\n",
       "<table border=\"1\" class=\"dataframe\">\n",
       "  <thead>\n",
       "    <tr style=\"text-align: right;\">\n",
       "      <th></th>\n",
       "      <th>key</th>\n",
       "      <th>values_x</th>\n",
       "      <th>values_y</th>\n",
       "    </tr>\n",
       "  </thead>\n",
       "  <tbody>\n",
       "    <tr>\n",
       "      <th>0</th>\n",
       "      <td>red</td>\n",
       "      <td>0</td>\n",
       "      <td>NaN</td>\n",
       "    </tr>\n",
       "    <tr>\n",
       "      <th>1</th>\n",
       "      <td>black</td>\n",
       "      <td>1</td>\n",
       "      <td>4.0</td>\n",
       "    </tr>\n",
       "    <tr>\n",
       "      <th>2</th>\n",
       "      <td>black</td>\n",
       "      <td>1</td>\n",
       "      <td>5.0</td>\n",
       "    </tr>\n",
       "    <tr>\n",
       "      <th>3</th>\n",
       "      <td>black</td>\n",
       "      <td>1</td>\n",
       "      <td>6.0</td>\n",
       "    </tr>\n",
       "    <tr>\n",
       "      <th>4</th>\n",
       "      <td>yellow</td>\n",
       "      <td>2</td>\n",
       "      <td>3.0</td>\n",
       "    </tr>\n",
       "    <tr>\n",
       "      <th>5</th>\n",
       "      <td>green</td>\n",
       "      <td>3</td>\n",
       "      <td>NaN</td>\n",
       "    </tr>\n",
       "    <tr>\n",
       "      <th>6</th>\n",
       "      <td>black</td>\n",
       "      <td>4</td>\n",
       "      <td>4.0</td>\n",
       "    </tr>\n",
       "    <tr>\n",
       "      <th>7</th>\n",
       "      <td>black</td>\n",
       "      <td>4</td>\n",
       "      <td>5.0</td>\n",
       "    </tr>\n",
       "    <tr>\n",
       "      <th>8</th>\n",
       "      <td>black</td>\n",
       "      <td>4</td>\n",
       "      <td>6.0</td>\n",
       "    </tr>\n",
       "    <tr>\n",
       "      <th>9</th>\n",
       "      <td>pink</td>\n",
       "      <td>5</td>\n",
       "      <td>1.0</td>\n",
       "    </tr>\n",
       "    <tr>\n",
       "      <th>10</th>\n",
       "      <td>white</td>\n",
       "      <td>6</td>\n",
       "      <td>0.0</td>\n",
       "    </tr>\n",
       "    <tr>\n",
       "      <th>11</th>\n",
       "      <td>black</td>\n",
       "      <td>7</td>\n",
       "      <td>4.0</td>\n",
       "    </tr>\n",
       "    <tr>\n",
       "      <th>12</th>\n",
       "      <td>black</td>\n",
       "      <td>7</td>\n",
       "      <td>5.0</td>\n",
       "    </tr>\n",
       "    <tr>\n",
       "      <th>13</th>\n",
       "      <td>black</td>\n",
       "      <td>7</td>\n",
       "      <td>6.0</td>\n",
       "    </tr>\n",
       "  </tbody>\n",
       "</table>\n",
       "</div>"
      ],
      "text/plain": [
       "       key  values_x  values_y\n",
       "0      red         0       NaN\n",
       "1    black         1       4.0\n",
       "2    black         1       5.0\n",
       "3    black         1       6.0\n",
       "4   yellow         2       3.0\n",
       "5    green         3       NaN\n",
       "6    black         4       4.0\n",
       "7    black         4       5.0\n",
       "8    black         4       6.0\n",
       "9     pink         5       1.0\n",
       "10   white         6       0.0\n",
       "11   black         7       4.0\n",
       "12   black         7       5.0\n",
       "13   black         7       6.0"
      ]
     },
     "execution_count": 58,
     "metadata": {
      "tags": []
     },
     "output_type": "execute_result"
    }
   ],
   "source": [
    "# Merge df_1 and df_2 on 'key', specify left join\n",
    "pd.merge(df_1, df_2, on = 'key', how = 'left')"
   ]
  },
  {
   "cell_type": "markdown",
   "metadata": {
    "colab_type": "text",
    "id": "wlUsLwsJfHFm"
   },
   "source": [
    "This is `many-to-many` $^{1}$ join situation which creates **Cartesian product** of the rows. In the result we can see we have 9 'black' rows. It is because there is 3 'black' rows in the left DataFrame df_1 and 3 'black' rows in the right DataFrame df_2, so in the result we have every combination of rows where the key is equal to 'black'\n",
    "\n",
    "As you can see `merge()` automatically rename column as 'values_x' and 'values_y' to distinguish where the values belong to. We can explicitly specify these column's names with suffixes option. We only need to pass desired names into the list like this: `suffixes=['_from_df1', '_from_df2']`."
   ]
  },
  {
   "cell_type": "code",
   "execution_count": 59,
   "metadata": {
    "colab": {
     "base_uri": "https://localhost:8080/",
     "height": 483
    },
    "colab_type": "code",
    "executionInfo": {
     "elapsed": 2022,
     "status": "ok",
     "timestamp": 1599491984873,
     "user": {
      "displayName": "Janka Gecelovská",
      "photoUrl": "https://lh3.googleusercontent.com/a-/AOh14GjVqlh2PlzTOTBDiLLtofNwHsxobYMwGvAajTuXUa0=s64",
      "userId": "04343601701373244670"
     },
     "user_tz": -120
    },
    "id": "evJolfcvhjs9",
    "outputId": "db77542a-b33f-4f66-ed5e-c5f639f1c7c1"
   },
   "outputs": [
    {
     "data": {
      "text/html": [
       "<div>\n",
       "<style scoped>\n",
       "    .dataframe tbody tr th:only-of-type {\n",
       "        vertical-align: middle;\n",
       "    }\n",
       "\n",
       "    .dataframe tbody tr th {\n",
       "        vertical-align: top;\n",
       "    }\n",
       "\n",
       "    .dataframe thead th {\n",
       "        text-align: right;\n",
       "    }\n",
       "</style>\n",
       "<table border=\"1\" class=\"dataframe\">\n",
       "  <thead>\n",
       "    <tr style=\"text-align: right;\">\n",
       "      <th></th>\n",
       "      <th>key</th>\n",
       "      <th>values_from_df1</th>\n",
       "      <th>values_from_df2</th>\n",
       "    </tr>\n",
       "  </thead>\n",
       "  <tbody>\n",
       "    <tr>\n",
       "      <th>0</th>\n",
       "      <td>red</td>\n",
       "      <td>0</td>\n",
       "      <td>NaN</td>\n",
       "    </tr>\n",
       "    <tr>\n",
       "      <th>1</th>\n",
       "      <td>black</td>\n",
       "      <td>1</td>\n",
       "      <td>4.0</td>\n",
       "    </tr>\n",
       "    <tr>\n",
       "      <th>2</th>\n",
       "      <td>black</td>\n",
       "      <td>1</td>\n",
       "      <td>5.0</td>\n",
       "    </tr>\n",
       "    <tr>\n",
       "      <th>3</th>\n",
       "      <td>black</td>\n",
       "      <td>1</td>\n",
       "      <td>6.0</td>\n",
       "    </tr>\n",
       "    <tr>\n",
       "      <th>4</th>\n",
       "      <td>yellow</td>\n",
       "      <td>2</td>\n",
       "      <td>3.0</td>\n",
       "    </tr>\n",
       "    <tr>\n",
       "      <th>5</th>\n",
       "      <td>green</td>\n",
       "      <td>3</td>\n",
       "      <td>NaN</td>\n",
       "    </tr>\n",
       "    <tr>\n",
       "      <th>6</th>\n",
       "      <td>black</td>\n",
       "      <td>4</td>\n",
       "      <td>4.0</td>\n",
       "    </tr>\n",
       "    <tr>\n",
       "      <th>7</th>\n",
       "      <td>black</td>\n",
       "      <td>4</td>\n",
       "      <td>5.0</td>\n",
       "    </tr>\n",
       "    <tr>\n",
       "      <th>8</th>\n",
       "      <td>black</td>\n",
       "      <td>4</td>\n",
       "      <td>6.0</td>\n",
       "    </tr>\n",
       "    <tr>\n",
       "      <th>9</th>\n",
       "      <td>pink</td>\n",
       "      <td>5</td>\n",
       "      <td>1.0</td>\n",
       "    </tr>\n",
       "    <tr>\n",
       "      <th>10</th>\n",
       "      <td>white</td>\n",
       "      <td>6</td>\n",
       "      <td>0.0</td>\n",
       "    </tr>\n",
       "    <tr>\n",
       "      <th>11</th>\n",
       "      <td>black</td>\n",
       "      <td>7</td>\n",
       "      <td>4.0</td>\n",
       "    </tr>\n",
       "    <tr>\n",
       "      <th>12</th>\n",
       "      <td>black</td>\n",
       "      <td>7</td>\n",
       "      <td>5.0</td>\n",
       "    </tr>\n",
       "    <tr>\n",
       "      <th>13</th>\n",
       "      <td>black</td>\n",
       "      <td>7</td>\n",
       "      <td>6.0</td>\n",
       "    </tr>\n",
       "  </tbody>\n",
       "</table>\n",
       "</div>"
      ],
      "text/plain": [
       "       key  values_from_df1  values_from_df2\n",
       "0      red                0              NaN\n",
       "1    black                1              4.0\n",
       "2    black                1              5.0\n",
       "3    black                1              6.0\n",
       "4   yellow                2              3.0\n",
       "5    green                3              NaN\n",
       "6    black                4              4.0\n",
       "7    black                4              5.0\n",
       "8    black                4              6.0\n",
       "9     pink                5              1.0\n",
       "10   white                6              0.0\n",
       "11   black                7              4.0\n",
       "12   black                7              5.0\n",
       "13   black                7              6.0"
      ]
     },
     "execution_count": 59,
     "metadata": {
      "tags": []
     },
     "output_type": "execute_result"
    }
   ],
   "source": [
    "# Merge df_1 and df_2 on 'key', specify left join\n",
    "# Set parameter suffixes=[]\n",
    "pd.merge(df_1, df_2, on = 'key', how = 'left', suffixes=['_from_df1', '_from_df2'])"
   ]
  },
  {
   "cell_type": "markdown",
   "metadata": {
    "colab_type": "text",
    "id": "ELq0bwDOndad"
   },
   "source": [
    "- if we want to merge with multiple keys we have to pass a list of columns names:\n"
   ]
  },
  {
   "cell_type": "code",
   "execution_count": 60,
   "metadata": {
    "colab": {
     "base_uri": "https://localhost:8080/",
     "height": 119
    },
    "colab_type": "code",
    "executionInfo": {
     "elapsed": 2003,
     "status": "ok",
     "timestamp": 1599491984875,
     "user": {
      "displayName": "Janka Gecelovská",
      "photoUrl": "https://lh3.googleusercontent.com/a-/AOh14GjVqlh2PlzTOTBDiLLtofNwHsxobYMwGvAajTuXUa0=s64",
      "userId": "04343601701373244670"
     },
     "user_tz": -120
    },
    "id": "eGoacb8flE0a",
    "outputId": "e7f1eb49-6708-4b59-a2d5-6bea1477e62f"
   },
   "outputs": [
    {
     "name": "stdout",
     "output_type": "stream",
     "text": [
      "        key_1  key_2  values_1\n",
      "0       apple    yes         0\n",
      "1      banana  maybe         1\n",
      "2     coconut  maybe         2\n",
      "3   pineapple    yes         3\n",
      "4  strawberry     no         4\n"
     ]
    }
   ],
   "source": [
    "# Run this code\n",
    "df_3 = pd.DataFrame({'key_1':['apple','banana','coconut','pineapple','strawberry'],\n",
    "                     'key_2':['yes','maybe','maybe','yes','no'],\n",
    "                     'values_1': range(5)})\n",
    "print(df_3)"
   ]
  },
  {
   "cell_type": "code",
   "execution_count": 61,
   "metadata": {
    "colab": {
     "base_uri": "https://localhost:8080/",
     "height": 119
    },
    "colab_type": "code",
    "executionInfo": {
     "elapsed": 1985,
     "status": "ok",
     "timestamp": 1599491984875,
     "user": {
      "displayName": "Janka Gecelovská",
      "photoUrl": "https://lh3.googleusercontent.com/a-/AOh14GjVqlh2PlzTOTBDiLLtofNwHsxobYMwGvAajTuXUa0=s64",
      "userId": "04343601701373244670"
     },
     "user_tz": -120
    },
    "id": "ZQMvnQ-novE0",
    "outputId": "4480ec87-9516-4f71-c2c9-1a8cea5a3e27"
   },
   "outputs": [
    {
     "name": "stdout",
     "output_type": "stream",
     "text": [
      "        key_1  key_2  values_1\n",
      "0       apple     no         0\n",
      "1      banana  maybe         1\n",
      "2     coconut    yes         2\n",
      "3  strawberry     no         3\n",
      "4  strawberry     no         4\n"
     ]
    }
   ],
   "source": [
    "# Run this code\n",
    "df_4 = pd.DataFrame({'key_1':['apple','banana','coconut','strawberry','strawberry'],\n",
    "                     'key_2':['no','maybe','yes','no','no'],\n",
    "                     'values_1': range(5)})\n",
    "print(df_4)"
   ]
  },
  {
   "cell_type": "code",
   "execution_count": 62,
   "metadata": {
    "colab": {
     "base_uri": "https://localhost:8080/",
     "height": 142
    },
    "colab_type": "code",
    "executionInfo": {
     "elapsed": 1959,
     "status": "ok",
     "timestamp": 1599491984876,
     "user": {
      "displayName": "Janka Gecelovská",
      "photoUrl": "https://lh3.googleusercontent.com/a-/AOh14GjVqlh2PlzTOTBDiLLtofNwHsxobYMwGvAajTuXUa0=s64",
      "userId": "04343601701373244670"
     },
     "user_tz": -120
    },
    "id": "YFEmUiw-o6nL",
    "outputId": "c6e3eaba-59e3-4607-b844-cd0f2e5f001e"
   },
   "outputs": [
    {
     "data": {
      "text/html": [
       "<div>\n",
       "<style scoped>\n",
       "    .dataframe tbody tr th:only-of-type {\n",
       "        vertical-align: middle;\n",
       "    }\n",
       "\n",
       "    .dataframe tbody tr th {\n",
       "        vertical-align: top;\n",
       "    }\n",
       "\n",
       "    .dataframe thead th {\n",
       "        text-align: right;\n",
       "    }\n",
       "</style>\n",
       "<table border=\"1\" class=\"dataframe\">\n",
       "  <thead>\n",
       "    <tr style=\"text-align: right;\">\n",
       "      <th></th>\n",
       "      <th>key_1</th>\n",
       "      <th>key_2</th>\n",
       "      <th>values_1_x</th>\n",
       "      <th>values_1_y</th>\n",
       "    </tr>\n",
       "  </thead>\n",
       "  <tbody>\n",
       "    <tr>\n",
       "      <th>0</th>\n",
       "      <td>banana</td>\n",
       "      <td>maybe</td>\n",
       "      <td>1</td>\n",
       "      <td>1</td>\n",
       "    </tr>\n",
       "    <tr>\n",
       "      <th>1</th>\n",
       "      <td>strawberry</td>\n",
       "      <td>no</td>\n",
       "      <td>4</td>\n",
       "      <td>3</td>\n",
       "    </tr>\n",
       "    <tr>\n",
       "      <th>2</th>\n",
       "      <td>strawberry</td>\n",
       "      <td>no</td>\n",
       "      <td>4</td>\n",
       "      <td>4</td>\n",
       "    </tr>\n",
       "  </tbody>\n",
       "</table>\n",
       "</div>"
      ],
      "text/plain": [
       "        key_1  key_2  values_1_x  values_1_y\n",
       "0      banana  maybe           1           1\n",
       "1  strawberry     no           4           3\n",
       "2  strawberry     no           4           4"
      ]
     },
     "execution_count": 62,
     "metadata": {
      "tags": []
     },
     "output_type": "execute_result"
    }
   ],
   "source": [
    "# Merge DataFrames df_3 and df_4 on column keys 'key_1' and 'key_2' passed within the list and specify inner join\n",
    "pd.merge(df_3, df_4, on = ['key_1', 'key_2'], how = 'inner')"
   ]
  },
  {
   "cell_type": "markdown",
   "metadata": {
    "colab_type": "text",
    "id": "4Amybr_HrMzK"
   },
   "source": [
    "# 2. Advanced and Alternative Methods (READ-AND-PLAY)\n",
    "If you are familiar and fine with using the merge method, you should be good to go. You might however stumble also upon some alternative, sometimes more complex methods, doing similar things. Let's read through those."
   ]
  },
  {
   "cell_type": "markdown",
   "metadata": {
    "colab_type": "text",
    "id": "p1exzozQqxxp"
   },
   "source": [
    "## 2.1 Merging DataFrames on the Index\n",
    "\n",
    "Our key or keys columns for merging can be found in a DataFrame as an index. In this case we can use the parameters `left_index = True` or `right_index = True` (or both) to indicate that the index should be used as the merge key.\n",
    "\n",
    "- left_index : bool (default False)\n",
    "   - if True will choose index from left DataFrame as join key\n",
    "- right_index : bool (default False)\n",
    "   - if True will choose index from right DataFrame as join key"
   ]
  },
  {
   "cell_type": "code",
   "execution_count": 63,
   "metadata": {
    "colab": {
     "base_uri": "https://localhost:8080/",
     "height": 170
    },
    "colab_type": "code",
    "executionInfo": {
     "elapsed": 1938,
     "status": "ok",
     "timestamp": 1599491984876,
     "user": {
      "displayName": "Janka Gecelovská",
      "photoUrl": "https://lh3.googleusercontent.com/a-/AOh14GjVqlh2PlzTOTBDiLLtofNwHsxobYMwGvAajTuXUa0=s64",
      "userId": "04343601701373244670"
     },
     "user_tz": -120
    },
    "id": "oQx29zSxzCSi",
    "outputId": "bd923e08-ea2b-45df-e080-1b182ba14f4f"
   },
   "outputs": [
    {
     "name": "stdout",
     "output_type": "stream",
     "text": [
      "           first_name  age      city  score\n",
      "student_id                                 \n",
      "1              Robert   30  Slovakia     26\n",
      "2                Jana   29    Sweden     27\n",
      "3              Martin   31    Sweden     26\n",
      "4            Kristina   26   Germany     30\n",
      "5               Peter   33   Austria     22\n",
      "6              Nikola   25       USA     23\n",
      "7              Andrej   25       USA     26\n"
     ]
    }
   ],
   "source": [
    "# Run this code\n",
    "students = [(1, 'Robert', 30, 'Slovakia', 26),\n",
    "           (2, 'Jana', 29, 'Sweden' , 27),\n",
    "           (3, 'Martin', 31, 'Sweden', 26),\n",
    "           (4, 'Kristina', 26,'Germany' , 30),\n",
    "           (5, 'Peter', 33, 'Austria' , 22),\n",
    "           (6, 'Nikola', 25, 'USA', 23),\n",
    "           (7, 'Andrej', 25, 'USA', 26)]\n",
    "\n",
    "students_1 = pd.DataFrame(students, columns= ['student_id', 'first_name', 'age', 'city', 'score'])\n",
    "students_1.set_index('student_id', inplace = True)\n",
    "print(students_1)"
   ]
  },
  {
   "cell_type": "code",
   "execution_count": 64,
   "metadata": {
    "colab": {
     "base_uri": "https://localhost:8080/",
     "height": 170
    },
    "colab_type": "code",
    "executionInfo": {
     "elapsed": 1915,
     "status": "ok",
     "timestamp": 1599491984877,
     "user": {
      "displayName": "Janka Gecelovská",
      "photoUrl": "https://lh3.googleusercontent.com/a-/AOh14GjVqlh2PlzTOTBDiLLtofNwHsxobYMwGvAajTuXUa0=s64",
      "userId": "04343601701373244670"
     },
     "user_tz": -120
    },
    "id": "ViayjGlG0NEl",
    "outputId": "273635e8-353b-470d-bf67-c98991b61fe6"
   },
   "outputs": [
    {
     "name": "stdout",
     "output_type": "stream",
     "text": [
      "                 study_program  grade\n",
      "student_id                           \n",
      "1                 Data Science      3\n",
      "2                 Data Analyst      1\n",
      "3                 Microbiology      4\n",
      "4                  Art History      2\n",
      "5                    Chemistry      5\n",
      "6                    Economics      4\n",
      "7           Digital Humanities      2\n"
     ]
    }
   ],
   "source": [
    "# Run this code\n",
    "programs = [(1, 'Data Science', 3),\n",
    "            (2, 'Data Analyst', 1),\n",
    "            (3, 'Microbiology', 4),\n",
    "            (4, 'Art History', 2),\n",
    "            (5, 'Chemistry', 5),\n",
    "            (6, 'Economics', 4),\n",
    "            (7, 'Digital Humanities', 2)]\n",
    "programs_1 = pd.DataFrame(programs, columns= ['student_id', 'study_program', 'grade'])\n",
    "programs_1.set_index('student_id', inplace = True)\n",
    "print(programs_1)"
   ]
  },
  {
   "cell_type": "markdown",
   "metadata": {
    "colab_type": "text",
    "id": "25wFjv123IJW"
   },
   "source": [
    "As you can see, DataFrames `students_1` and `programs` share the same column 'student_id' that is set as an index."
   ]
  },
  {
   "cell_type": "code",
   "execution_count": 65,
   "metadata": {
    "colab": {
     "base_uri": "https://localhost:8080/",
     "height": 170
    },
    "colab_type": "code",
    "executionInfo": {
     "elapsed": 1884,
     "status": "ok",
     "timestamp": 1599491984878,
     "user": {
      "displayName": "Janka Gecelovská",
      "photoUrl": "https://lh3.googleusercontent.com/a-/AOh14GjVqlh2PlzTOTBDiLLtofNwHsxobYMwGvAajTuXUa0=s64",
      "userId": "04343601701373244670"
     },
     "user_tz": -120
    },
    "id": "1rcye8XFwUrS",
    "outputId": "0d235fc4-a439-4eba-8d01-897307a19c2e"
   },
   "outputs": [
    {
     "name": "stdout",
     "output_type": "stream",
     "text": [
      "           first_name  age      city  score       study_program  grade\n",
      "student_id                                                            \n",
      "1              Robert   30  Slovakia     26        Data Science      3\n",
      "2                Jana   29    Sweden     27        Data Analyst      1\n",
      "3              Martin   31    Sweden     26        Microbiology      4\n",
      "4            Kristina   26   Germany     30         Art History      2\n",
      "5               Peter   33   Austria     22           Chemistry      5\n",
      "6              Nikola   25       USA     23           Economics      4\n",
      "7              Andrej   25       USA     26  Digital Humanities      2\n"
     ]
    }
   ],
   "source": [
    "# Merge students_1 and programs on 'student_id' by passing `left_index = True` and `right_index = True`\n",
    "merged_df = pd.merge(students_1, programs_1, how = 'inner', left_index = True, right_index = True)\n",
    "print(merged_df)"
   ]
  },
  {
   "cell_type": "markdown",
   "metadata": {
    "colab_type": "text",
    "id": "bBQvjU0fdlGS"
   },
   "source": [
    "## 2.2 Pandas `.join()`"
   ]
  },
  {
   "cell_type": "markdown",
   "metadata": {
    "colab_type": "text",
    "id": "KIzwCEgRa5Hj"
   },
   "source": [
    "- it is an object function - it means that it enables us to specify only 1 DataFrame, which will join the DataFrame you call `.join()` on\n",
    "- by default it performs left join\n",
    "- by default it **joins on indices**"
   ]
  },
  {
   "cell_type": "code",
   "execution_count": 66,
   "metadata": {
    "colab": {
     "base_uri": "https://localhost:8080/",
     "height": 170
    },
    "colab_type": "code",
    "executionInfo": {
     "elapsed": 1861,
     "status": "ok",
     "timestamp": 1599491984879,
     "user": {
      "displayName": "Janka Gecelovská",
      "photoUrl": "https://lh3.googleusercontent.com/a-/AOh14GjVqlh2PlzTOTBDiLLtofNwHsxobYMwGvAajTuXUa0=s64",
      "userId": "04343601701373244670"
     },
     "user_tz": -120
    },
    "id": "JrpdIpDZeiFv",
    "outputId": "a8cebf00-bbae-468d-8459-6656d0147619"
   },
   "outputs": [
    {
     "name": "stdout",
     "output_type": "stream",
     "text": [
      "           first_name  age      city  score       study_program  grade\n",
      "student_id                                                            \n",
      "1              Robert   30  Slovakia     26        Data Science      3\n",
      "2                Jana   29    Sweden     27        Data Analyst      1\n",
      "3              Martin   31    Sweden     26        Microbiology      4\n",
      "4            Kristina   26   Germany     30         Art History      2\n",
      "5               Peter   33   Austria     22           Chemistry      5\n",
      "6              Nikola   25       USA     23           Economics      4\n",
      "7              Andrej   25       USA     26  Digital Humanities      2\n"
     ]
    }
   ],
   "source": [
    "# Join students_1 and programs_1 \n",
    "joined_df = students_1.join(programs_1)\n",
    "print(joined_df)"
   ]
  },
  {
   "cell_type": "code",
   "execution_count": 67,
   "metadata": {
    "colab": {},
    "colab_type": "code",
    "executionInfo": {
     "elapsed": 1831,
     "status": "ok",
     "timestamp": 1599491984880,
     "user": {
      "displayName": "Janka Gecelovská",
      "photoUrl": "https://lh3.googleusercontent.com/a-/AOh14GjVqlh2PlzTOTBDiLLtofNwHsxobYMwGvAajTuXUa0=s64",
      "userId": "04343601701373244670"
     },
     "user_tz": -120
    },
    "id": "zzhCuREYGr5B"
   },
   "outputs": [],
   "source": [
    "# Run this code, please\n",
    "programs_1.reset_index(inplace = True)\n",
    "students_1.reset_index(inplace = True)"
   ]
  },
  {
   "cell_type": "markdown",
   "metadata": {
    "colab_type": "text",
    "id": "JECjdTHjoFxJ"
   },
   "source": [
    "If we want to join DataFrames that have overlapping column keys, we need to specify parameter `lsuffix` and `rsuffix`."
   ]
  },
  {
   "cell_type": "code",
   "execution_count": 68,
   "metadata": {
    "colab": {
     "base_uri": "https://localhost:8080/",
     "height": 187
    },
    "colab_type": "code",
    "executionInfo": {
     "elapsed": 1817,
     "status": "ok",
     "timestamp": 1599491984882,
     "user": {
      "displayName": "Janka Gecelovská",
      "photoUrl": "https://lh3.googleusercontent.com/a-/AOh14GjVqlh2PlzTOTBDiLLtofNwHsxobYMwGvAajTuXUa0=s64",
      "userId": "04343601701373244670"
     },
     "user_tz": -120
    },
    "id": "6emAOWVNnyg7",
    "outputId": "55e93896-c8ab-482a-f22a-35c17ea3ab14"
   },
   "outputs": [
    {
     "name": "stdout",
     "output_type": "stream",
     "text": [
      "   student_id_left first_name  age  ... student_id_right       study_program  grade\n",
      "0                1     Robert   30  ...                1        Data Science      3\n",
      "1                2       Jana   29  ...                2        Data Analyst      1\n",
      "2                3     Martin   31  ...                3        Microbiology      4\n",
      "3                4   Kristina   26  ...                4         Art History      2\n",
      "4                5      Peter   33  ...                5           Chemistry      5\n",
      "5                6     Nikola   25  ...                6           Economics      4\n",
      "6                7     Andrej   25  ...                7  Digital Humanities      2\n",
      "\n",
      "[7 rows x 8 columns]\n"
     ]
    }
   ],
   "source": [
    "# Join students_1 and programs_1\n",
    "# Specify suffixes for both DataFrames\n",
    "joined_df = students_1.join(programs_1, lsuffix = '_left', rsuffix = '_right')\n",
    "print(joined_df)"
   ]
  },
  {
   "cell_type": "markdown",
   "metadata": {
    "colab_type": "text",
    "id": "R3hkhM_p568x"
   },
   "source": [
    "# 2.3 Pandas `.concat()`\n",
    "\n",
    "-concatenate function combines DataFrames across rows or columns \n",
    "- by default performs outer join, but we can specify inner join by setting `join = 'inner'`\n",
    "\n",
    "- by default works along axis = 0 (rows)\n",
    "\n",
    "`pd.concat([df1, df2])`\n",
    "\n",
    "- we can pass axis = 1 to concatenate along columns \n",
    "\n",
    "`pd.concat([df1, df2], axis = 1)`"
   ]
  },
  {
   "cell_type": "code",
   "execution_count": 69,
   "metadata": {
    "colab": {
     "base_uri": "https://localhost:8080/",
     "height": 272
    },
    "colab_type": "code",
    "executionInfo": {
     "elapsed": 2220,
     "status": "ok",
     "timestamp": 1599491985312,
     "user": {
      "displayName": "Janka Gecelovská",
      "photoUrl": "https://lh3.googleusercontent.com/a-/AOh14GjVqlh2PlzTOTBDiLLtofNwHsxobYMwGvAajTuXUa0=s64",
      "userId": "04343601701373244670"
     },
     "user_tz": -120
    },
    "id": "L6z-8V7xGj9c",
    "outputId": "9b21504c-4490-4b68-b44d-aef0184f3d75"
   },
   "outputs": [
    {
     "name": "stdout",
     "output_type": "stream",
     "text": [
      "   student_id first_name   age      city  score       study_program  grade\n",
      "0           1     Robert  30.0  Slovakia   26.0                 NaN    NaN\n",
      "1           2       Jana  29.0    Sweden   27.0                 NaN    NaN\n",
      "2           3     Martin  31.0    Sweden   26.0                 NaN    NaN\n",
      "3           4   Kristina  26.0   Germany   30.0                 NaN    NaN\n",
      "4           5      Peter  33.0   Austria   22.0                 NaN    NaN\n",
      "5           6     Nikola  25.0       USA   23.0                 NaN    NaN\n",
      "6           7     Andrej  25.0       USA   26.0                 NaN    NaN\n",
      "0           1        NaN   NaN       NaN    NaN        Data Science    3.0\n",
      "1           2        NaN   NaN       NaN    NaN        Data Analyst    1.0\n",
      "2           3        NaN   NaN       NaN    NaN        Microbiology    4.0\n",
      "3           4        NaN   NaN       NaN    NaN         Art History    2.0\n",
      "4           5        NaN   NaN       NaN    NaN           Chemistry    5.0\n",
      "5           6        NaN   NaN       NaN    NaN           Economics    4.0\n",
      "6           7        NaN   NaN       NaN    NaN  Digital Humanities    2.0\n"
     ]
    }
   ],
   "source": [
    "# Concatenate students_1 and programs_11 along the rows\n",
    "concat_by_rows = pd.concat([students_1, programs_1])\n",
    "print(concat_by_rows)"
   ]
  },
  {
   "cell_type": "markdown",
   "metadata": {
    "colab_type": "text",
    "id": "r-uPo_CMIwSU"
   },
   "source": [
    "Column names in DataFrames students_1 and programs_1 are not the same. As we can see in the exapmle above, by default, those columns have been also added on the result and NaN values have been filled in.\n",
    "\n",
    "We can also create a hierarchical index on the concatenation axis, when we use argument `keys = ['key1','key2','key3','key_n'...]`.\n",
    "\n"
   ]
  },
  {
   "cell_type": "code",
   "execution_count": 70,
   "metadata": {
    "colab": {
     "base_uri": "https://localhost:8080/",
     "height": 306
    },
    "colab_type": "code",
    "executionInfo": {
     "elapsed": 2202,
     "status": "ok",
     "timestamp": 1599491985314,
     "user": {
      "displayName": "Janka Gecelovská",
      "photoUrl": "https://lh3.googleusercontent.com/a-/AOh14GjVqlh2PlzTOTBDiLLtofNwHsxobYMwGvAajTuXUa0=s64",
      "userId": "04343601701373244670"
     },
     "user_tz": -120
    },
    "id": "sStGqRGTQXcE",
    "outputId": "dec25ba7-d46b-49aa-8aab-0b6106d8b0ee"
   },
   "outputs": [
    {
     "name": "stdout",
     "output_type": "stream",
     "text": [
      "                 student_id       study_program  grade  ...   age      city score\n",
      "student_id    0           1        Data Science    3.0  ...   NaN       NaN   NaN\n",
      "              1           2        Data Analyst    1.0  ...   NaN       NaN   NaN\n",
      "              2           3        Microbiology    4.0  ...   NaN       NaN   NaN\n",
      "              3           4         Art History    2.0  ...   NaN       NaN   NaN\n",
      "              4           5           Chemistry    5.0  ...   NaN       NaN   NaN\n",
      "              5           6           Economics    4.0  ...   NaN       NaN   NaN\n",
      "              6           7  Digital Humanities    2.0  ...   NaN       NaN   NaN\n",
      "study_program 0           1                 NaN    NaN  ...  30.0  Slovakia  26.0\n",
      "              1           2                 NaN    NaN  ...  29.0    Sweden  27.0\n",
      "              2           3                 NaN    NaN  ...  31.0    Sweden  26.0\n",
      "              3           4                 NaN    NaN  ...  26.0   Germany  30.0\n",
      "              4           5                 NaN    NaN  ...  33.0   Austria  22.0\n",
      "              5           6                 NaN    NaN  ...  25.0       USA  23.0\n",
      "              6           7                 NaN    NaN  ...  25.0       USA  26.0\n",
      "\n",
      "[14 rows x 7 columns]\n"
     ]
    }
   ],
   "source": [
    "# Concatenate the DataFrames programs_1 and students_1 along the rows\n",
    "# Set keys argument on columns 'student_id' and 'study_program'\n",
    "conc = pd.concat([programs_1, students_1], keys = ['student_id','study_program'] )\n",
    "print(conc)"
   ]
  },
  {
   "cell_type": "code",
   "execution_count": 71,
   "metadata": {
    "colab": {
     "base_uri": "https://localhost:8080/",
     "height": 204
    },
    "colab_type": "code",
    "executionInfo": {
     "elapsed": 2171,
     "status": "ok",
     "timestamp": 1599491985314,
     "user": {
      "displayName": "Janka Gecelovská",
      "photoUrl": "https://lh3.googleusercontent.com/a-/AOh14GjVqlh2PlzTOTBDiLLtofNwHsxobYMwGvAajTuXUa0=s64",
      "userId": "04343601701373244670"
     },
     "user_tz": -120
    },
    "id": "6PGjPr1Q7vAZ",
    "outputId": "7d46ce28-33d7-4bab-df81-159fdb9e4b2c"
   },
   "outputs": [
    {
     "name": "stdout",
     "output_type": "stream",
     "text": [
      "        key_1  key_2  values_1\n",
      "0       apple    yes         0\n",
      "1      banana  maybe         1\n",
      "2     coconut  maybe         2\n",
      "3   pineapple    yes         3\n",
      "4  strawberry     no         4\n",
      "0       apple     no         0\n",
      "1      banana  maybe         1\n",
      "2     coconut    yes         2\n",
      "3  strawberry     no         3\n",
      "4  strawberry     no         4\n"
     ]
    }
   ],
   "source": [
    "# Concatenate df_3 and df_4 along the rows\n",
    "concat_df = pd.concat([df_3, df_4])\n",
    "print(concat_df)"
   ]
  },
  {
   "cell_type": "markdown",
   "metadata": {
    "colab_type": "text",
    "id": "8o8i_1d9KswY"
   },
   "source": [
    "DataFrames df_3 and df_4 have the same column names 'key_1' and 'key_2'. Therefore the indices are repeating when tha DataFrames are stacked. If you want to have 0-based index, you'll need to set parameter `ignore_index = True` within `.concat()` function"
   ]
  },
  {
   "cell_type": "code",
   "execution_count": 72,
   "metadata": {
    "colab": {
     "base_uri": "https://localhost:8080/",
     "height": 204
    },
    "colab_type": "code",
    "executionInfo": {
     "elapsed": 2147,
     "status": "ok",
     "timestamp": 1599491985315,
     "user": {
      "displayName": "Janka Gecelovská",
      "photoUrl": "https://lh3.googleusercontent.com/a-/AOh14GjVqlh2PlzTOTBDiLLtofNwHsxobYMwGvAajTuXUa0=s64",
      "userId": "04343601701373244670"
     },
     "user_tz": -120
    },
    "id": "yrzkh1HaKm48",
    "outputId": "7f0d55ed-9190-45ba-88b9-d33f5083b71d"
   },
   "outputs": [
    {
     "name": "stdout",
     "output_type": "stream",
     "text": [
      "        key_1  key_2  values_1\n",
      "0       apple    yes         0\n",
      "1      banana  maybe         1\n",
      "2     coconut  maybe         2\n",
      "3   pineapple    yes         3\n",
      "4  strawberry     no         4\n",
      "5       apple     no         0\n",
      "6      banana  maybe         1\n",
      "7     coconut    yes         2\n",
      "8  strawberry     no         3\n",
      "9  strawberry     no         4\n"
     ]
    }
   ],
   "source": [
    "# Concatenate df_3 and df_4 along the rows\n",
    "# Set the parameter `ignore_index = True`\n",
    "concat_df_2 = pd.concat([df_3, df_4], ignore_index = True)\n",
    "print(concat_df_2)"
   ]
  },
  {
   "cell_type": "code",
   "execution_count": 73,
   "metadata": {
    "colab": {
     "base_uri": "https://localhost:8080/",
     "height": 187
    },
    "colab_type": "code",
    "executionInfo": {
     "elapsed": 2124,
     "status": "ok",
     "timestamp": 1599491985316,
     "user": {
      "displayName": "Janka Gecelovská",
      "photoUrl": "https://lh3.googleusercontent.com/a-/AOh14GjVqlh2PlzTOTBDiLLtofNwHsxobYMwGvAajTuXUa0=s64",
      "userId": "04343601701373244670"
     },
     "user_tz": -120
    },
    "id": "jB7d37ykG6J8",
    "outputId": "1613c11e-4d30-4790-af70-ecb983953467"
   },
   "outputs": [
    {
     "name": "stdout",
     "output_type": "stream",
     "text": [
      "  student_id first_name  age  ... student_id       study_program  grade\n",
      "0          1     Robert   30  ...          1        Data Science      3\n",
      "1          2       Jana   29  ...          2        Data Analyst      1\n",
      "2          3     Martin   31  ...          3        Microbiology      4\n",
      "3          4   Kristina   26  ...          4         Art History      2\n",
      "4          5      Peter   33  ...          5           Chemistry      5\n",
      "5          6     Nikola   25  ...          6           Economics      4\n",
      "6          7     Andrej   25  ...          7  Digital Humanities      2\n",
      "\n",
      "[7 rows x 8 columns]\n"
     ]
    }
   ],
   "source": [
    "# Concatenate students_1 and programs_11 along the columns\n",
    "concat_by_columns = pd.concat([students_1, programs_1], axis = 1)\n",
    "print(concat_by_columns)"
   ]
  },
  {
   "cell_type": "markdown",
   "metadata": {
    "colab_type": "text",
    "id": "P1_KZ-uGMuqa"
   },
   "source": [
    "## 2.4 Pandas `.append()`\n",
    "\n",
    "  "
   ]
  },
  {
   "cell_type": "markdown",
   "metadata": {
    "colab_type": "text",
    "id": "pS1PKJ-uS6Sg"
   },
   "source": [
    "- this method is a shortcut to `.concat()`\n",
    "- it is used to add elements to the existing objects"
   ]
  },
  {
   "cell_type": "code",
   "execution_count": 74,
   "metadata": {
    "colab": {
     "base_uri": "https://localhost:8080/",
     "height": 272
    },
    "colab_type": "code",
    "executionInfo": {
     "elapsed": 2096,
     "status": "ok",
     "timestamp": 1599491985317,
     "user": {
      "displayName": "Janka Gecelovská",
      "photoUrl": "https://lh3.googleusercontent.com/a-/AOh14GjVqlh2PlzTOTBDiLLtofNwHsxobYMwGvAajTuXUa0=s64",
      "userId": "04343601701373244670"
     },
     "user_tz": -120
    },
    "id": "uaU0KNFKMp10",
    "outputId": "6c79487e-1139-4509-ad43-fc6d34b28acf"
   },
   "outputs": [
    {
     "name": "stdout",
     "output_type": "stream",
     "text": [
      "   student_id first_name   age      city  score       study_program  grade\n",
      "0           1     Robert  30.0  Slovakia   26.0                 NaN    NaN\n",
      "1           2       Jana  29.0    Sweden   27.0                 NaN    NaN\n",
      "2           3     Martin  31.0    Sweden   26.0                 NaN    NaN\n",
      "3           4   Kristina  26.0   Germany   30.0                 NaN    NaN\n",
      "4           5      Peter  33.0   Austria   22.0                 NaN    NaN\n",
      "5           6     Nikola  25.0       USA   23.0                 NaN    NaN\n",
      "6           7     Andrej  25.0       USA   26.0                 NaN    NaN\n",
      "0           1        NaN   NaN       NaN    NaN        Data Science    3.0\n",
      "1           2        NaN   NaN       NaN    NaN        Data Analyst    1.0\n",
      "2           3        NaN   NaN       NaN    NaN        Microbiology    4.0\n",
      "3           4        NaN   NaN       NaN    NaN         Art History    2.0\n",
      "4           5        NaN   NaN       NaN    NaN           Chemistry    5.0\n",
      "5           6        NaN   NaN       NaN    NaN           Economics    4.0\n",
      "6           7        NaN   NaN       NaN    NaN  Digital Humanities    2.0\n"
     ]
    }
   ],
   "source": [
    "# Call .append() method on students_1 and pass programs_1 as an argument within the method\n",
    "appended_df = students_1.append(programs_1)\n",
    "print(appended_df)"
   ]
  },
  {
   "cell_type": "markdown",
   "metadata": {
    "colab_type": "text",
    "id": "04IB6RrmX_r9"
   },
   "source": [
    "We can append new rows to our existing DataFrames as well. We simply create a new Series (or a dictionary) with items and associated  indeces (column name) and append it to existing DataFrame using `.append()` method. New row can be appended only if the `ignore_index = True` argument is set within the method."
   ]
  },
  {
   "cell_type": "code",
   "execution_count": 75,
   "metadata": {
    "colab": {},
    "colab_type": "code",
    "executionInfo": {
     "elapsed": 2069,
     "status": "ok",
     "timestamp": 1599491985317,
     "user": {
      "displayName": "Janka Gecelovská",
      "photoUrl": "https://lh3.googleusercontent.com/a-/AOh14GjVqlh2PlzTOTBDiLLtofNwHsxobYMwGvAajTuXUa0=s64",
      "userId": "04343601701373244670"
     },
     "user_tz": -120
    },
    "id": "2RLl5TI6WwWQ"
   },
   "outputs": [],
   "source": [
    "# Run this code \n",
    "# It will create new_row which we'll append to the students_1 \n",
    "new_row = pd.Series([8, 'Renata', 37, 'Czech Republic', 22],\n",
    "                    index = ['student_id', 'first_name', 'age', 'city', 'score'])"
   ]
  },
  {
   "cell_type": "code",
   "execution_count": 76,
   "metadata": {
    "colab": {
     "base_uri": "https://localhost:8080/",
     "height": 170
    },
    "colab_type": "code",
    "executionInfo": {
     "elapsed": 2045,
     "status": "ok",
     "timestamp": 1599491985318,
     "user": {
      "displayName": "Janka Gecelovská",
      "photoUrl": "https://lh3.googleusercontent.com/a-/AOh14GjVqlh2PlzTOTBDiLLtofNwHsxobYMwGvAajTuXUa0=s64",
      "userId": "04343601701373244670"
     },
     "user_tz": -120
    },
    "id": "kt3iXp59XDoo",
    "outputId": "02b1e672-d27b-4ab0-cf3a-5113c513f91b"
   },
   "outputs": [
    {
     "name": "stdout",
     "output_type": "stream",
     "text": [
      "   student_id first_name  age            city  score\n",
      "0           1     Robert   30        Slovakia     26\n",
      "1           2       Jana   29          Sweden     27\n",
      "2           3     Martin   31          Sweden     26\n",
      "3           4   Kristina   26         Germany     30\n",
      "4           5      Peter   33         Austria     22\n",
      "5           6     Nikola   25             USA     23\n",
      "6           7     Andrej   25             USA     26\n",
      "7           8     Renata   37  Czech Republic     22\n"
     ]
    }
   ],
   "source": [
    "# Append new_row Series to the students_1 DataFrame \n",
    "# Set argument 'ignore_index = True'\n",
    "students_1 = students_1.append(new_row, ignore_index = True)\n",
    "print(students_1)"
   ]
  },
  {
   "cell_type": "markdown",
   "metadata": {
    "colab_type": "text",
    "id": "USoD14jWc2iH"
   },
   "source": [
    "We can use `.append()` method to add both single element and list to existing list."
   ]
  },
  {
   "cell_type": "code",
   "execution_count": 77,
   "metadata": {
    "colab": {},
    "colab_type": "code",
    "executionInfo": {
     "elapsed": 2019,
     "status": "ok",
     "timestamp": 1599491985319,
     "user": {
      "displayName": "Janka Gecelovská",
      "photoUrl": "https://lh3.googleusercontent.com/a-/AOh14GjVqlh2PlzTOTBDiLLtofNwHsxobYMwGvAajTuXUa0=s64",
      "userId": "04343601701373244670"
     },
     "user_tz": -120
    },
    "id": "DISudA3DbAnU"
   },
   "outputs": [],
   "source": [
    "# Run this code\n",
    "list_1 = ['Today', 'is', 'a', 'good']"
   ]
  },
  {
   "cell_type": "code",
   "execution_count": 78,
   "metadata": {
    "colab": {
     "base_uri": "https://localhost:8080/",
     "height": 34
    },
    "colab_type": "code",
    "executionInfo": {
     "elapsed": 2003,
     "status": "ok",
     "timestamp": 1599491985320,
     "user": {
      "displayName": "Janka Gecelovská",
      "photoUrl": "https://lh3.googleusercontent.com/a-/AOh14GjVqlh2PlzTOTBDiLLtofNwHsxobYMwGvAajTuXUa0=s64",
      "userId": "04343601701373244670"
     },
     "user_tz": -120
    },
    "id": "9mmNw5nccRA_",
    "outputId": "6ba5fe5b-99ef-43dd-b6d5-c7392969a4ed"
   },
   "outputs": [
    {
     "name": "stdout",
     "output_type": "stream",
     "text": [
      "['Today', 'is', 'a', 'good', 'day']\n"
     ]
    }
   ],
   "source": [
    "# Append word 'day' to list_1\n",
    "list_1.append('day')\n",
    "print(list_1)"
   ]
  },
  {
   "cell_type": "code",
   "execution_count": 79,
   "metadata": {
    "colab": {},
    "colab_type": "code",
    "executionInfo": {
     "elapsed": 1977,
     "status": "ok",
     "timestamp": 1599491985320,
     "user": {
      "displayName": "Janka Gecelovská",
      "photoUrl": "https://lh3.googleusercontent.com/a-/AOh14GjVqlh2PlzTOTBDiLLtofNwHsxobYMwGvAajTuXUa0=s64",
      "userId": "04343601701373244670"
     },
     "user_tz": -120
    },
    "id": "B2ZJ19hMcooe"
   },
   "outputs": [],
   "source": [
    "# Run this code\n",
    "new_list = [10,20,30,40,50]"
   ]
  },
  {
   "cell_type": "code",
   "execution_count": 80,
   "metadata": {
    "colab": {
     "base_uri": "https://localhost:8080/",
     "height": 34
    },
    "colab_type": "code",
    "executionInfo": {
     "elapsed": 1960,
     "status": "ok",
     "timestamp": 1599491985321,
     "user": {
      "displayName": "Janka Gecelovská",
      "photoUrl": "https://lh3.googleusercontent.com/a-/AOh14GjVqlh2PlzTOTBDiLLtofNwHsxobYMwGvAajTuXUa0=s64",
      "userId": "04343601701373244670"
     },
     "user_tz": -120
    },
    "id": "oZmrgnOucVyn",
    "outputId": "2212702f-975d-4026-86fa-20c5a8187b9e"
   },
   "outputs": [
    {
     "name": "stdout",
     "output_type": "stream",
     "text": [
      "['Today', 'is', 'a', 'good', 'day', [10, 20, 30, 40, 50]]\n"
     ]
    }
   ],
   "source": [
    "# Append new_list to list_1 \n",
    "list_1.append(new_list)\n",
    "print(list_1)"
   ]
  },
  {
   "cell_type": "markdown",
   "metadata": {},
   "source": [
    "# 3. References\n",
    "\n",
    "$^{1}$ Wes Mckinney (2013). Python for Data Analysis. (First ed.). California: O'Reilly Media, Inc."
   ]
  },
  {
   "cell_type": "markdown",
   "metadata": {
    "colab_type": "text",
    "id": "RbmboxZAtibc"
   },
   "source": [
    "# 3. Transforming DataFrames\n"
   ]
  },
  {
   "cell_type": "markdown",
   "metadata": {
    "colab_type": "text",
    "id": "8XBdHuT0lfPX"
   },
   "source": [
    "## 3.1 `.map()` method\n",
    "\n",
    "- this method on Series accepts a function or dict-like object containing a mapping\n",
    "- it is a convenient way to perform element-wise transformations and other data cleaning-related operations\n",
    "- it takes a function as a parameter along with a sequence of iterables (such as a list, tuple, dictionary, or set) and returns an output after applying the function to each iterable which is present in the sequence\n",
    "\n",
    "Example code:\n",
    "\n",
    "`map(function, iterable)`"
   ]
  },
  {
   "cell_type": "code",
   "execution_count": 81,
   "metadata": {
    "colab": {},
    "colab_type": "code",
    "executionInfo": {
     "elapsed": 1943,
     "status": "ok",
     "timestamp": 1599491985322,
     "user": {
      "displayName": "Janka Gecelovská",
      "photoUrl": "https://lh3.googleusercontent.com/a-/AOh14GjVqlh2PlzTOTBDiLLtofNwHsxobYMwGvAajTuXUa0=s64",
      "userId": "04343601701373244670"
     },
     "user_tz": -120
    },
    "id": "zgPKkNXExvTz"
   },
   "outputs": [],
   "source": [
    "# Run this code\n",
    "our_list = ['This', 'is', 'the', 'first', 'example']"
   ]
  },
  {
   "cell_type": "code",
   "execution_count": 82,
   "metadata": {
    "colab": {
     "base_uri": "https://localhost:8080/",
     "height": 34
    },
    "colab_type": "code",
    "executionInfo": {
     "elapsed": 1923,
     "status": "ok",
     "timestamp": 1599491985323,
     "user": {
      "displayName": "Janka Gecelovská",
      "photoUrl": "https://lh3.googleusercontent.com/a-/AOh14GjVqlh2PlzTOTBDiLLtofNwHsxobYMwGvAajTuXUa0=s64",
      "userId": "04343601701373244670"
     },
     "user_tz": -120
    },
    "id": "c4tDwW9cyf18",
    "outputId": "d81f4d4f-aba2-4780-c6e0-81d279f163ba"
   },
   "outputs": [
    {
     "name": "stdout",
     "output_type": "stream",
     "text": [
      "[4, 2, 3, 5, 7]\n"
     ]
    }
   ],
   "source": [
    "result = list(map(len, our_list))\n",
    "print(result)"
   ]
  },
  {
   "cell_type": "markdown",
   "metadata": {
    "colab_type": "text",
    "id": "4UhtjaOCyxdi"
   },
   "source": [
    "In the above example, `map()` iterates over the our_list, applies function on each element and return the length of the strings as a new list."
   ]
  },
  {
   "cell_type": "code",
   "execution_count": 83,
   "metadata": {
    "colab": {},
    "colab_type": "code",
    "executionInfo": {
     "elapsed": 1909,
     "status": "ok",
     "timestamp": 1599491985324,
     "user": {
      "displayName": "Janka Gecelovská",
      "photoUrl": "https://lh3.googleusercontent.com/a-/AOh14GjVqlh2PlzTOTBDiLLtofNwHsxobYMwGvAajTuXUa0=s64",
      "userId": "04343601701373244670"
     },
     "user_tz": -120
    },
    "id": "i2RTPvJ9vlG6"
   },
   "outputs": [],
   "source": [
    "# Run this code \n",
    "def triple(x):\n",
    "  return x * 3"
   ]
  },
  {
   "cell_type": "code",
   "execution_count": 84,
   "metadata": {
    "colab": {},
    "colab_type": "code",
    "executionInfo": {
     "elapsed": 1891,
     "status": "ok",
     "timestamp": 1599491985325,
     "user": {
      "displayName": "Janka Gecelovská",
      "photoUrl": "https://lh3.googleusercontent.com/a-/AOh14GjVqlh2PlzTOTBDiLLtofNwHsxobYMwGvAajTuXUa0=s64",
      "userId": "04343601701373244670"
     },
     "user_tz": -120
    },
    "id": "8YlQE5rjzTA-"
   },
   "outputs": [],
   "source": [
    "# Run this code\n",
    "numbers = pd.Series([15, 4, 8, 45, 36, 7])"
   ]
  },
  {
   "cell_type": "code",
   "execution_count": 85,
   "metadata": {
    "colab": {
     "base_uri": "https://localhost:8080/",
     "height": 136
    },
    "colab_type": "code",
    "executionInfo": {
     "elapsed": 1879,
     "status": "ok",
     "timestamp": 1599491985326,
     "user": {
      "displayName": "Janka Gecelovská",
      "photoUrl": "https://lh3.googleusercontent.com/a-/AOh14GjVqlh2PlzTOTBDiLLtofNwHsxobYMwGvAajTuXUa0=s64",
      "userId": "04343601701373244670"
     },
     "user_tz": -120
    },
    "id": "n_jWCZQCzhsW",
    "outputId": "b03a2469-6dd3-43f6-bc73-ac82717425ef"
   },
   "outputs": [
    {
     "name": "stdout",
     "output_type": "stream",
     "text": [
      "0     45\n",
      "1     12\n",
      "2     24\n",
      "3    135\n",
      "4    108\n",
      "5     21\n",
      "dtype: int64\n"
     ]
    }
   ],
   "source": [
    "# TASK 3 >>>> Apply .map() method on the Series numbers, use function triple as a parameter and store it in variable result_2 \n",
    "#           Print the result_2 (the result should by numbers multiply by 3)\n",
    "result_2 = numbers.map(triple)\n",
    "print(result_2)"
   ]
  },
  {
   "cell_type": "markdown",
   "metadata": {
    "colab_type": "text",
    "id": "8OunFnz0saB-"
   },
   "source": [
    "In the above example, the `map()` method applies function **triple** to each element in the column 'age' returning a Series.\n",
    "\n",
    "We can also use ``lambda function`` within the `map()` method. \n",
    "\n",
    "**Lambda Function**:\n",
    "- it is an anonymous function (it means that it's defined without the name)\n",
    "- it is used along with built-in functions\n",
    "- lambda can have any number of parameters, but the function body can only contain one expression (you can not write multiple statements in the body of lambda function)"
   ]
  },
  {
   "cell_type": "code",
   "execution_count": 86,
   "metadata": {
    "colab": {
     "base_uri": "https://localhost:8080/",
     "height": 34
    },
    "colab_type": "code",
    "executionInfo": {
     "elapsed": 2128,
     "status": "ok",
     "timestamp": 1599491985592,
     "user": {
      "displayName": "Janka Gecelovská",
      "photoUrl": "https://lh3.googleusercontent.com/a-/AOh14GjVqlh2PlzTOTBDiLLtofNwHsxobYMwGvAajTuXUa0=s64",
      "userId": "04343601701373244670"
     },
     "user_tz": -120
    },
    "id": "RtfQ9e9Q4iHJ",
    "outputId": "4241e015-6bff-4463-8cc0-5d345e1e9376"
   },
   "outputs": [
    {
     "name": "stdout",
     "output_type": "stream",
     "text": [
      "15\n"
     ]
    }
   ],
   "source": [
    "# Example of lambda function where we use lambda keyword\n",
    "our_lambda = lambda x: x * 2 + 5\n",
    "print(our_lambda(5))"
   ]
  },
  {
   "cell_type": "markdown",
   "metadata": {
    "colab_type": "text",
    "id": "PeItoD5j4wA6"
   },
   "source": [
    "This simple lambda function takes input x (in our case number 5), multiply it by 2 and add 5."
   ]
  },
  {
   "cell_type": "code",
   "execution_count": 87,
   "metadata": {
    "colab": {
     "base_uri": "https://localhost:8080/",
     "height": 170
    },
    "colab_type": "code",
    "executionInfo": {
     "elapsed": 2105,
     "status": "ok",
     "timestamp": 1599491985593,
     "user": {
      "displayName": "Janka Gecelovská",
      "photoUrl": "https://lh3.googleusercontent.com/a-/AOh14GjVqlh2PlzTOTBDiLLtofNwHsxobYMwGvAajTuXUa0=s64",
      "userId": "04343601701373244670"
     },
     "user_tz": -120
    },
    "id": "oZju30SAp9q3",
    "outputId": "da647f11-cd30-41a4-f7b7-fd808bf79ca7"
   },
   "outputs": [
    {
     "name": "stdout",
     "output_type": "stream",
     "text": [
      "   student_id first_name  age            city  score       result\n",
      "0           1     Robert   30        Slovakia     26         Pass\n",
      "1           2       Jana   29          Sweden     27         Pass\n",
      "2           3     Martin   31          Sweden     26         Pass\n",
      "3           4   Kristina   26         Germany     30         Pass\n",
      "4           5      Peter   33         Austria     22  Retake exam\n",
      "5           6     Nikola   25             USA     23  Retake exam\n",
      "6           7     Andrej   25             USA     26         Pass\n",
      "7           8     Renata   37  Czech Republic     22  Retake exam\n"
     ]
    }
   ],
   "source": [
    "# Use map() function along with lambda to create new column 'result'\n",
    "students_1['result'] = students_1['score'].map(lambda x: 'Pass' if x > 25 else 'Retake exam')\n",
    "print(students_1)"
   ]
  },
  {
   "cell_type": "markdown",
   "metadata": {
    "colab_type": "text",
    "id": "5eqY2X0n5ARg"
   },
   "source": [
    "Here we created new column 'result' in our students_1 DataFrame. We applied `map()` method on the column 'score' along with `lambda function` which simply returned the result based on our `if else` statement."
   ]
  },
  {
   "cell_type": "markdown",
   "metadata": {
    "colab_type": "text",
    "id": "AL0jXxmOtrne"
   },
   "source": [
    "## 3.2 `.apply()` method\n",
    "\n",
    "- objects passed to the function are Series objects whose index is either the DataFrame’s index (axis=0) or the DataFrame’s columns (axis=1)\n"
   ]
  },
  {
   "cell_type": "code",
   "execution_count": 88,
   "metadata": {
    "colab": {
     "base_uri": "https://localhost:8080/",
     "height": 170
    },
    "colab_type": "code",
    "executionInfo": {
     "elapsed": 2088,
     "status": "ok",
     "timestamp": 1599491985593,
     "user": {
      "displayName": "Janka Gecelovská",
      "photoUrl": "https://lh3.googleusercontent.com/a-/AOh14GjVqlh2PlzTOTBDiLLtofNwHsxobYMwGvAajTuXUa0=s64",
      "userId": "04343601701373244670"
     },
     "user_tz": -120
    },
    "id": "gKOeEj_ivA92",
    "outputId": "2765e0e7-2679-41c3-ef61-9d8b9e949571"
   },
   "outputs": [
    {
     "name": "stdout",
     "output_type": "stream",
     "text": [
      "   student_id first_name  age            city  score       result\n",
      "0           1     Robert   30        Slovakia     26         PASS\n",
      "1           2       Jana   29          Sweden     27         PASS\n",
      "2           3     Martin   31          Sweden     26         PASS\n",
      "3           4   Kristina   26         Germany     30         PASS\n",
      "4           5      Peter   33         Austria     22  RETAKE EXAM\n",
      "5           6     Nikola   25             USA     23  RETAKE EXAM\n",
      "6           7     Andrej   25             USA     26         PASS\n",
      "7           8     Renata   37  Czech Republic     22  RETAKE EXAM\n"
     ]
    }
   ],
   "source": [
    "# Use .apply() method on column 'type' along with lambda to make uppercase letter\n",
    "students_1['result'] = students_1['result'].apply(lambda x: x.upper())\n",
    "print(students_1)"
   ]
  },
  {
   "cell_type": "code",
   "execution_count": 89,
   "metadata": {
    "colab": {
     "base_uri": "https://localhost:8080/",
     "height": 170
    },
    "colab_type": "code",
    "executionInfo": {
     "elapsed": 2071,
     "status": "ok",
     "timestamp": 1599491985594,
     "user": {
      "displayName": "Janka Gecelovská",
      "photoUrl": "https://lh3.googleusercontent.com/a-/AOh14GjVqlh2PlzTOTBDiLLtofNwHsxobYMwGvAajTuXUa0=s64",
      "userId": "04343601701373244670"
     },
     "user_tz": -120
    },
    "id": "Grcr4R_zqObj",
    "outputId": "80342909-09ff-4f62-b86e-99f738fecb83"
   },
   "outputs": [
    {
     "name": "stdout",
     "output_type": "stream",
     "text": [
      "   student_id first_name  age            city  score       result\n",
      "0           1     Robert   30        SLOVAKIA     26         PASS\n",
      "1           2       Jana   29          SWEDEN     27         PASS\n",
      "2           3     Martin   31          SWEDEN     26         PASS\n",
      "3           4   Kristina   26         GERMANY     30         PASS\n",
      "4           5      Peter   33         AUSTRIA     22  RETAKE EXAM\n",
      "5           6     Nikola   25             USA     23  RETAKE EXAM\n",
      "6           7     Andrej   25             USA     26         PASS\n",
      "7           8     Renata   37  CZECH REPUBLIC     22  RETAKE EXAM\n"
     ]
    }
   ],
   "source": [
    "# TASK 4 >>>> Use .apply() method along with built-in function str.upper()\n",
    "students_1['city'] = students_1['city'].apply(str.upper)\n",
    "print(students_1)"
   ]
  },
  {
   "cell_type": "code",
   "execution_count": 89,
   "metadata": {
    "colab": {},
    "colab_type": "code",
    "executionInfo": {
     "elapsed": 2053,
     "status": "ok",
     "timestamp": 1599491985595,
     "user": {
      "displayName": "Janka Gecelovská",
      "photoUrl": "https://lh3.googleusercontent.com/a-/AOh14GjVqlh2PlzTOTBDiLLtofNwHsxobYMwGvAajTuXUa0=s64",
      "userId": "04343601701373244670"
     },
     "user_tz": -120
    },
    "id": "s87dc7lI8MuX"
   },
   "outputs": [],
   "source": []
  }
 ],
 "metadata": {
  "colab": {
   "authorship_tag": "ABX9TyO49Q4gx+TZ3OXAnJMSG9YL",
   "collapsed_sections": [],
   "name": "3. DONE_Merging_and_Transforming_Data.ipynb",
   "provenance": []
  },
  "kernelspec": {
   "display_name": "Python 3",
   "language": "python",
   "name": "python3"
  },
  "language_info": {
   "codemirror_mode": {
    "name": "ipython",
    "version": 3
   },
   "file_extension": ".py",
   "mimetype": "text/x-python",
   "name": "python",
   "nbconvert_exporter": "python",
   "pygments_lexer": "ipython3",
   "version": "3.7.7"
  }
 },
 "nbformat": 4,
 "nbformat_minor": 1
}
