{
 "cells": [
  {
   "cell_type": "markdown",
   "metadata": {
    "colab_type": "text",
    "id": "WGrIEyUXUyF2"
   },
   "source": [
    "# 1. Missing values\n",
    "\n",
    "In the real world, the data are rarely clean and homogenous and can have missing values for several reasons: data was lost or corrupted during the transmission from the database, human error, programming error. Whether the missing data will be removed, replaced or filled depends on the type of missing data.\n",
    "\n",
    "`Pandas` uses the floating point value `NaN` (Not u Number) to represent missing data in both floating as well as in non-floating point arrays. The built-in Python `None` value is also treated as NA in object arrays.\n",
    "\n",
    "There are several functions for detecting, removing, replacing and imputing null values in Pandas DataFrame."
   ]
  },
  {
   "cell_type": "code",
   "execution_count": 249,
   "metadata": {
    "colab": {},
    "colab_type": "code",
    "executionInfo": {
     "elapsed": 1049,
     "status": "ok",
     "timestamp": 1599491576144,
     "user": {
      "displayName": "Janka Gecelovská",
      "photoUrl": "https://lh3.googleusercontent.com/a-/AOh14GjVqlh2PlzTOTBDiLLtofNwHsxobYMwGvAajTuXUa0=s64",
      "userId": "04343601701373244670"
     },
     "user_tz": -120
    },
    "id": "gCIkfk5ZR6Sm"
   },
   "outputs": [],
   "source": [
    "# Import Pandas and Numpy libraries\n",
    "import pandas as pd\n",
    "import numpy as np\n",
    "import matplotlib.pyplot as plt"
   ]
  },
  {
   "cell_type": "markdown",
   "metadata": {
    "colab_type": "text",
    "id": "zjerqh2OjVbT"
   },
   "source": [
    "Let's look how the missing data look like in the DataFrame."
   ]
  },
  {
   "cell_type": "code",
   "execution_count": 250,
   "metadata": {
    "colab": {
     "base_uri": "https://localhost:8080/",
     "height": 153
    },
    "colab_type": "code",
    "executionInfo": {
     "elapsed": 1295,
     "status": "ok",
     "timestamp": 1599491576397,
     "user": {
      "displayName": "Janka Gecelovská",
      "photoUrl": "https://lh3.googleusercontent.com/a-/AOh14GjVqlh2PlzTOTBDiLLtofNwHsxobYMwGvAajTuXUa0=s64",
      "userId": "04343601701373244670"
     },
     "user_tz": -120
    },
    "id": "ml6bdH9RWPcW",
    "outputId": "a87d735e-ec74-470c-b623-0dde145084ce"
   },
   "outputs": [
    {
     "name": "stdout",
     "output_type": "stream",
     "text": [
      "0        25\n",
      "1       2.5\n",
      "2       150\n",
      "3       NaN\n",
      "4       1.5\n",
      "5    Python\n",
      "6       147\n",
      "dtype: object\n"
     ]
    }
   ],
   "source": [
    "our_series = pd.Series([25, 2.5, 150, np.nan, 1.5, 'Python', 147])\n",
    "print(our_series)"
   ]
  },
  {
   "cell_type": "markdown",
   "metadata": {
    "colab_type": "text",
    "id": "IGI02OWNWvHq"
   },
   "source": [
    "#2. Detecting missing data"
   ]
  },
  {
   "cell_type": "code",
   "execution_count": 251,
   "metadata": {
    "colab": {
     "base_uri": "https://localhost:8080/",
     "height": 359
    },
    "colab_type": "code",
    "executionInfo": {
     "elapsed": 1597,
     "status": "ok",
     "timestamp": 1599491576720,
     "user": {
      "displayName": "Janka Gecelovská",
      "photoUrl": "https://lh3.googleusercontent.com/a-/AOh14GjVqlh2PlzTOTBDiLLtofNwHsxobYMwGvAajTuXUa0=s64",
      "userId": "04343601701373244670"
     },
     "user_tz": -120
    },
    "id": "EjZyt4lVWhsB",
    "outputId": "0bd02fa9-fee7-493b-d089-d5398a4c7dbe"
   },
   "outputs": [
    {
     "data": {
      "text/html": [
       "<div>\n",
       "<style scoped>\n",
       "    .dataframe tbody tr th:only-of-type {\n",
       "        vertical-align: middle;\n",
       "    }\n",
       "\n",
       "    .dataframe tbody tr th {\n",
       "        vertical-align: top;\n",
       "    }\n",
       "\n",
       "    .dataframe thead th {\n",
       "        text-align: right;\n",
       "    }\n",
       "</style>\n",
       "<table border=\"1\" class=\"dataframe\">\n",
       "  <thead>\n",
       "    <tr style=\"text-align: right;\">\n",
       "      <th></th>\n",
       "      <th>PassengerId</th>\n",
       "      <th>Survived</th>\n",
       "      <th>Pclass</th>\n",
       "      <th>Name</th>\n",
       "      <th>Sex</th>\n",
       "      <th>Age</th>\n",
       "      <th>SibSp</th>\n",
       "      <th>Parch</th>\n",
       "      <th>Ticket</th>\n",
       "      <th>Fare</th>\n",
       "      <th>Cabin</th>\n",
       "      <th>Embarked</th>\n",
       "    </tr>\n",
       "  </thead>\n",
       "  <tbody>\n",
       "    <tr>\n",
       "      <th>0</th>\n",
       "      <td>1</td>\n",
       "      <td>0</td>\n",
       "      <td>3</td>\n",
       "      <td>Braund, Mr. Owen Harris</td>\n",
       "      <td>male</td>\n",
       "      <td>22.0</td>\n",
       "      <td>1</td>\n",
       "      <td>0</td>\n",
       "      <td>A/5 21171</td>\n",
       "      <td>7.2500</td>\n",
       "      <td>NaN</td>\n",
       "      <td>S</td>\n",
       "    </tr>\n",
       "    <tr>\n",
       "      <th>1</th>\n",
       "      <td>2</td>\n",
       "      <td>1</td>\n",
       "      <td>1</td>\n",
       "      <td>Cumings, Mrs. John Bradley (Florence Briggs Th...</td>\n",
       "      <td>female</td>\n",
       "      <td>38.0</td>\n",
       "      <td>1</td>\n",
       "      <td>0</td>\n",
       "      <td>PC 17599</td>\n",
       "      <td>71.2833</td>\n",
       "      <td>C85</td>\n",
       "      <td>C</td>\n",
       "    </tr>\n",
       "    <tr>\n",
       "      <th>2</th>\n",
       "      <td>3</td>\n",
       "      <td>1</td>\n",
       "      <td>3</td>\n",
       "      <td>Heikkinen, Miss. Laina</td>\n",
       "      <td>female</td>\n",
       "      <td>26.0</td>\n",
       "      <td>0</td>\n",
       "      <td>0</td>\n",
       "      <td>STON/O2. 3101282</td>\n",
       "      <td>7.9250</td>\n",
       "      <td>NaN</td>\n",
       "      <td>S</td>\n",
       "    </tr>\n",
       "    <tr>\n",
       "      <th>3</th>\n",
       "      <td>4</td>\n",
       "      <td>1</td>\n",
       "      <td>1</td>\n",
       "      <td>Futrelle, Mrs. Jacques Heath (Lily May Peel)</td>\n",
       "      <td>female</td>\n",
       "      <td>35.0</td>\n",
       "      <td>1</td>\n",
       "      <td>0</td>\n",
       "      <td>113803</td>\n",
       "      <td>53.1000</td>\n",
       "      <td>C123</td>\n",
       "      <td>S</td>\n",
       "    </tr>\n",
       "    <tr>\n",
       "      <th>4</th>\n",
       "      <td>5</td>\n",
       "      <td>0</td>\n",
       "      <td>3</td>\n",
       "      <td>Allen, Mr. William Henry</td>\n",
       "      <td>male</td>\n",
       "      <td>35.0</td>\n",
       "      <td>0</td>\n",
       "      <td>0</td>\n",
       "      <td>373450</td>\n",
       "      <td>8.0500</td>\n",
       "      <td>NaN</td>\n",
       "      <td>S</td>\n",
       "    </tr>\n",
       "    <tr>\n",
       "      <th>5</th>\n",
       "      <td>6</td>\n",
       "      <td>0</td>\n",
       "      <td>3</td>\n",
       "      <td>Moran, Mr. James</td>\n",
       "      <td>male</td>\n",
       "      <td>NaN</td>\n",
       "      <td>0</td>\n",
       "      <td>0</td>\n",
       "      <td>330877</td>\n",
       "      <td>8.4583</td>\n",
       "      <td>NaN</td>\n",
       "      <td>Q</td>\n",
       "    </tr>\n",
       "    <tr>\n",
       "      <th>6</th>\n",
       "      <td>7</td>\n",
       "      <td>0</td>\n",
       "      <td>1</td>\n",
       "      <td>McCarthy, Mr. Timothy J</td>\n",
       "      <td>male</td>\n",
       "      <td>54.0</td>\n",
       "      <td>0</td>\n",
       "      <td>0</td>\n",
       "      <td>17463</td>\n",
       "      <td>51.8625</td>\n",
       "      <td>E46</td>\n",
       "      <td>S</td>\n",
       "    </tr>\n",
       "    <tr>\n",
       "      <th>7</th>\n",
       "      <td>8</td>\n",
       "      <td>0</td>\n",
       "      <td>3</td>\n",
       "      <td>Palsson, Master. Gosta Leonard</td>\n",
       "      <td>male</td>\n",
       "      <td>2.0</td>\n",
       "      <td>3</td>\n",
       "      <td>1</td>\n",
       "      <td>349909</td>\n",
       "      <td>21.0750</td>\n",
       "      <td>NaN</td>\n",
       "      <td>S</td>\n",
       "    </tr>\n",
       "    <tr>\n",
       "      <th>8</th>\n",
       "      <td>9</td>\n",
       "      <td>1</td>\n",
       "      <td>3</td>\n",
       "      <td>Johnson, Mrs. Oscar W (Elisabeth Vilhelmina Berg)</td>\n",
       "      <td>female</td>\n",
       "      <td>27.0</td>\n",
       "      <td>0</td>\n",
       "      <td>2</td>\n",
       "      <td>347742</td>\n",
       "      <td>11.1333</td>\n",
       "      <td>NaN</td>\n",
       "      <td>S</td>\n",
       "    </tr>\n",
       "    <tr>\n",
       "      <th>9</th>\n",
       "      <td>10</td>\n",
       "      <td>1</td>\n",
       "      <td>2</td>\n",
       "      <td>Nasser, Mrs. Nicholas (Adele Achem)</td>\n",
       "      <td>female</td>\n",
       "      <td>14.0</td>\n",
       "      <td>1</td>\n",
       "      <td>0</td>\n",
       "      <td>237736</td>\n",
       "      <td>30.0708</td>\n",
       "      <td>NaN</td>\n",
       "      <td>C</td>\n",
       "    </tr>\n",
       "  </tbody>\n",
       "</table>\n",
       "</div>"
      ],
      "text/plain": [
       "   PassengerId  Survived  Pclass  ...     Fare Cabin  Embarked\n",
       "0            1         0       3  ...   7.2500   NaN         S\n",
       "1            2         1       1  ...  71.2833   C85         C\n",
       "2            3         1       3  ...   7.9250   NaN         S\n",
       "3            4         1       1  ...  53.1000  C123         S\n",
       "4            5         0       3  ...   8.0500   NaN         S\n",
       "5            6         0       3  ...   8.4583   NaN         Q\n",
       "6            7         0       1  ...  51.8625   E46         S\n",
       "7            8         0       3  ...  21.0750   NaN         S\n",
       "8            9         1       3  ...  11.1333   NaN         S\n",
       "9           10         1       2  ...  30.0708   NaN         C\n",
       "\n",
       "[10 rows x 12 columns]"
      ]
     },
     "execution_count": 251,
     "metadata": {
      "tags": []
     },
     "output_type": "execute_result"
    }
   ],
   "source": [
    "# Load the Titanic dataset\n",
    "data = pd.read_csv('/content/train.csv')\n",
    "data.head(10)"
   ]
  },
  {
   "cell_type": "markdown",
   "metadata": {
    "colab_type": "text",
    "id": "HGSk5JQafL13"
   },
   "source": [
    "`isnull().values.any()`\n",
    "\n",
    "- used if we only want to know if there are any missing values in the dataset"
   ]
  },
  {
   "cell_type": "code",
   "execution_count": 252,
   "metadata": {
    "colab": {
     "base_uri": "https://localhost:8080/",
     "height": 34
    },
    "colab_type": "code",
    "executionInfo": {
     "elapsed": 1579,
     "status": "ok",
     "timestamp": 1599491576721,
     "user": {
      "displayName": "Janka Gecelovská",
      "photoUrl": "https://lh3.googleusercontent.com/a-/AOh14GjVqlh2PlzTOTBDiLLtofNwHsxobYMwGvAajTuXUa0=s64",
      "userId": "04343601701373244670"
     },
     "user_tz": -120
    },
    "id": "QwXYiMgBfJXF",
    "outputId": "4c7e7f20-6b81-4f77-b7e0-ae830ddf334e"
   },
   "outputs": [
    {
     "data": {
      "text/plain": [
       "True"
      ]
     },
     "execution_count": 252,
     "metadata": {
      "tags": []
     },
     "output_type": "execute_result"
    }
   ],
   "source": [
    "# Check whether there are any missing values\n",
    "data.isnull().values.any()"
   ]
  },
  {
   "cell_type": "markdown",
   "metadata": {
    "colab_type": "text",
    "id": "R7_cWUFldpUY"
   },
   "source": [
    "`isnull()`\n",
    "- it is used to detect missing values for an array-like object\n",
    "- returns a boolean same-sized object indicating if the values are missing\n",
    "\n",
    "- it is an alias of `isna()`"
   ]
  },
  {
   "cell_type": "code",
   "execution_count": 253,
   "metadata": {
    "colab": {
     "base_uri": "https://localhost:8080/",
     "height": 419
    },
    "colab_type": "code",
    "executionInfo": {
     "elapsed": 1557,
     "status": "ok",
     "timestamp": 1599491576722,
     "user": {
      "displayName": "Janka Gecelovská",
      "photoUrl": "https://lh3.googleusercontent.com/a-/AOh14GjVqlh2PlzTOTBDiLLtofNwHsxobYMwGvAajTuXUa0=s64",
      "userId": "04343601701373244670"
     },
     "user_tz": -120
    },
    "id": "PHZmRCK6bffc",
    "outputId": "418199c6-31bb-4bea-d431-59fef2f86643"
   },
   "outputs": [
    {
     "data": {
      "text/html": [
       "<div>\n",
       "<style scoped>\n",
       "    .dataframe tbody tr th:only-of-type {\n",
       "        vertical-align: middle;\n",
       "    }\n",
       "\n",
       "    .dataframe tbody tr th {\n",
       "        vertical-align: top;\n",
       "    }\n",
       "\n",
       "    .dataframe thead th {\n",
       "        text-align: right;\n",
       "    }\n",
       "</style>\n",
       "<table border=\"1\" class=\"dataframe\">\n",
       "  <thead>\n",
       "    <tr style=\"text-align: right;\">\n",
       "      <th></th>\n",
       "      <th>PassengerId</th>\n",
       "      <th>Survived</th>\n",
       "      <th>Pclass</th>\n",
       "      <th>Name</th>\n",
       "      <th>Sex</th>\n",
       "      <th>Age</th>\n",
       "      <th>SibSp</th>\n",
       "      <th>Parch</th>\n",
       "      <th>Ticket</th>\n",
       "      <th>Fare</th>\n",
       "      <th>Cabin</th>\n",
       "      <th>Embarked</th>\n",
       "    </tr>\n",
       "  </thead>\n",
       "  <tbody>\n",
       "    <tr>\n",
       "      <th>0</th>\n",
       "      <td>False</td>\n",
       "      <td>False</td>\n",
       "      <td>False</td>\n",
       "      <td>False</td>\n",
       "      <td>False</td>\n",
       "      <td>False</td>\n",
       "      <td>False</td>\n",
       "      <td>False</td>\n",
       "      <td>False</td>\n",
       "      <td>False</td>\n",
       "      <td>True</td>\n",
       "      <td>False</td>\n",
       "    </tr>\n",
       "    <tr>\n",
       "      <th>1</th>\n",
       "      <td>False</td>\n",
       "      <td>False</td>\n",
       "      <td>False</td>\n",
       "      <td>False</td>\n",
       "      <td>False</td>\n",
       "      <td>False</td>\n",
       "      <td>False</td>\n",
       "      <td>False</td>\n",
       "      <td>False</td>\n",
       "      <td>False</td>\n",
       "      <td>False</td>\n",
       "      <td>False</td>\n",
       "    </tr>\n",
       "    <tr>\n",
       "      <th>2</th>\n",
       "      <td>False</td>\n",
       "      <td>False</td>\n",
       "      <td>False</td>\n",
       "      <td>False</td>\n",
       "      <td>False</td>\n",
       "      <td>False</td>\n",
       "      <td>False</td>\n",
       "      <td>False</td>\n",
       "      <td>False</td>\n",
       "      <td>False</td>\n",
       "      <td>True</td>\n",
       "      <td>False</td>\n",
       "    </tr>\n",
       "    <tr>\n",
       "      <th>3</th>\n",
       "      <td>False</td>\n",
       "      <td>False</td>\n",
       "      <td>False</td>\n",
       "      <td>False</td>\n",
       "      <td>False</td>\n",
       "      <td>False</td>\n",
       "      <td>False</td>\n",
       "      <td>False</td>\n",
       "      <td>False</td>\n",
       "      <td>False</td>\n",
       "      <td>False</td>\n",
       "      <td>False</td>\n",
       "    </tr>\n",
       "    <tr>\n",
       "      <th>4</th>\n",
       "      <td>False</td>\n",
       "      <td>False</td>\n",
       "      <td>False</td>\n",
       "      <td>False</td>\n",
       "      <td>False</td>\n",
       "      <td>False</td>\n",
       "      <td>False</td>\n",
       "      <td>False</td>\n",
       "      <td>False</td>\n",
       "      <td>False</td>\n",
       "      <td>True</td>\n",
       "      <td>False</td>\n",
       "    </tr>\n",
       "    <tr>\n",
       "      <th>...</th>\n",
       "      <td>...</td>\n",
       "      <td>...</td>\n",
       "      <td>...</td>\n",
       "      <td>...</td>\n",
       "      <td>...</td>\n",
       "      <td>...</td>\n",
       "      <td>...</td>\n",
       "      <td>...</td>\n",
       "      <td>...</td>\n",
       "      <td>...</td>\n",
       "      <td>...</td>\n",
       "      <td>...</td>\n",
       "    </tr>\n",
       "    <tr>\n",
       "      <th>886</th>\n",
       "      <td>False</td>\n",
       "      <td>False</td>\n",
       "      <td>False</td>\n",
       "      <td>False</td>\n",
       "      <td>False</td>\n",
       "      <td>False</td>\n",
       "      <td>False</td>\n",
       "      <td>False</td>\n",
       "      <td>False</td>\n",
       "      <td>False</td>\n",
       "      <td>True</td>\n",
       "      <td>False</td>\n",
       "    </tr>\n",
       "    <tr>\n",
       "      <th>887</th>\n",
       "      <td>False</td>\n",
       "      <td>False</td>\n",
       "      <td>False</td>\n",
       "      <td>False</td>\n",
       "      <td>False</td>\n",
       "      <td>False</td>\n",
       "      <td>False</td>\n",
       "      <td>False</td>\n",
       "      <td>False</td>\n",
       "      <td>False</td>\n",
       "      <td>False</td>\n",
       "      <td>False</td>\n",
       "    </tr>\n",
       "    <tr>\n",
       "      <th>888</th>\n",
       "      <td>False</td>\n",
       "      <td>False</td>\n",
       "      <td>False</td>\n",
       "      <td>False</td>\n",
       "      <td>False</td>\n",
       "      <td>True</td>\n",
       "      <td>False</td>\n",
       "      <td>False</td>\n",
       "      <td>False</td>\n",
       "      <td>False</td>\n",
       "      <td>True</td>\n",
       "      <td>False</td>\n",
       "    </tr>\n",
       "    <tr>\n",
       "      <th>889</th>\n",
       "      <td>False</td>\n",
       "      <td>False</td>\n",
       "      <td>False</td>\n",
       "      <td>False</td>\n",
       "      <td>False</td>\n",
       "      <td>False</td>\n",
       "      <td>False</td>\n",
       "      <td>False</td>\n",
       "      <td>False</td>\n",
       "      <td>False</td>\n",
       "      <td>False</td>\n",
       "      <td>False</td>\n",
       "    </tr>\n",
       "    <tr>\n",
       "      <th>890</th>\n",
       "      <td>False</td>\n",
       "      <td>False</td>\n",
       "      <td>False</td>\n",
       "      <td>False</td>\n",
       "      <td>False</td>\n",
       "      <td>False</td>\n",
       "      <td>False</td>\n",
       "      <td>False</td>\n",
       "      <td>False</td>\n",
       "      <td>False</td>\n",
       "      <td>True</td>\n",
       "      <td>False</td>\n",
       "    </tr>\n",
       "  </tbody>\n",
       "</table>\n",
       "<p>891 rows × 12 columns</p>\n",
       "</div>"
      ],
      "text/plain": [
       "     PassengerId  Survived  Pclass   Name  ...  Ticket   Fare  Cabin  Embarked\n",
       "0          False     False   False  False  ...   False  False   True     False\n",
       "1          False     False   False  False  ...   False  False  False     False\n",
       "2          False     False   False  False  ...   False  False   True     False\n",
       "3          False     False   False  False  ...   False  False  False     False\n",
       "4          False     False   False  False  ...   False  False   True     False\n",
       "..           ...       ...     ...    ...  ...     ...    ...    ...       ...\n",
       "886        False     False   False  False  ...   False  False   True     False\n",
       "887        False     False   False  False  ...   False  False  False     False\n",
       "888        False     False   False  False  ...   False  False   True     False\n",
       "889        False     False   False  False  ...   False  False  False     False\n",
       "890        False     False   False  False  ...   False  False   True     False\n",
       "\n",
       "[891 rows x 12 columns]"
      ]
     },
     "execution_count": 253,
     "metadata": {
      "tags": []
     },
     "output_type": "execute_result"
    }
   ],
   "source": [
    "# Apply isnull() on the dataset 'data'\n",
    "data.isnull()"
   ]
  },
  {
   "cell_type": "code",
   "execution_count": 254,
   "metadata": {
    "colab": {
     "base_uri": "https://localhost:8080/",
     "height": 419
    },
    "colab_type": "code",
    "executionInfo": {
     "elapsed": 1540,
     "status": "ok",
     "timestamp": 1599491576723,
     "user": {
      "displayName": "Janka Gecelovská",
      "photoUrl": "https://lh3.googleusercontent.com/a-/AOh14GjVqlh2PlzTOTBDiLLtofNwHsxobYMwGvAajTuXUa0=s64",
      "userId": "04343601701373244670"
     },
     "user_tz": -120
    },
    "id": "umT9VCYPfzSV",
    "outputId": "5cce64eb-a3f4-40d3-b83c-8c77c97c7a9b"
   },
   "outputs": [
    {
     "data": {
      "text/html": [
       "<div>\n",
       "<style scoped>\n",
       "    .dataframe tbody tr th:only-of-type {\n",
       "        vertical-align: middle;\n",
       "    }\n",
       "\n",
       "    .dataframe tbody tr th {\n",
       "        vertical-align: top;\n",
       "    }\n",
       "\n",
       "    .dataframe thead th {\n",
       "        text-align: right;\n",
       "    }\n",
       "</style>\n",
       "<table border=\"1\" class=\"dataframe\">\n",
       "  <thead>\n",
       "    <tr style=\"text-align: right;\">\n",
       "      <th></th>\n",
       "      <th>PassengerId</th>\n",
       "      <th>Survived</th>\n",
       "      <th>Pclass</th>\n",
       "      <th>Name</th>\n",
       "      <th>Sex</th>\n",
       "      <th>Age</th>\n",
       "      <th>SibSp</th>\n",
       "      <th>Parch</th>\n",
       "      <th>Ticket</th>\n",
       "      <th>Fare</th>\n",
       "      <th>Cabin</th>\n",
       "      <th>Embarked</th>\n",
       "    </tr>\n",
       "  </thead>\n",
       "  <tbody>\n",
       "    <tr>\n",
       "      <th>0</th>\n",
       "      <td>False</td>\n",
       "      <td>False</td>\n",
       "      <td>False</td>\n",
       "      <td>False</td>\n",
       "      <td>False</td>\n",
       "      <td>False</td>\n",
       "      <td>False</td>\n",
       "      <td>False</td>\n",
       "      <td>False</td>\n",
       "      <td>False</td>\n",
       "      <td>True</td>\n",
       "      <td>False</td>\n",
       "    </tr>\n",
       "    <tr>\n",
       "      <th>1</th>\n",
       "      <td>False</td>\n",
       "      <td>False</td>\n",
       "      <td>False</td>\n",
       "      <td>False</td>\n",
       "      <td>False</td>\n",
       "      <td>False</td>\n",
       "      <td>False</td>\n",
       "      <td>False</td>\n",
       "      <td>False</td>\n",
       "      <td>False</td>\n",
       "      <td>False</td>\n",
       "      <td>False</td>\n",
       "    </tr>\n",
       "    <tr>\n",
       "      <th>2</th>\n",
       "      <td>False</td>\n",
       "      <td>False</td>\n",
       "      <td>False</td>\n",
       "      <td>False</td>\n",
       "      <td>False</td>\n",
       "      <td>False</td>\n",
       "      <td>False</td>\n",
       "      <td>False</td>\n",
       "      <td>False</td>\n",
       "      <td>False</td>\n",
       "      <td>True</td>\n",
       "      <td>False</td>\n",
       "    </tr>\n",
       "    <tr>\n",
       "      <th>3</th>\n",
       "      <td>False</td>\n",
       "      <td>False</td>\n",
       "      <td>False</td>\n",
       "      <td>False</td>\n",
       "      <td>False</td>\n",
       "      <td>False</td>\n",
       "      <td>False</td>\n",
       "      <td>False</td>\n",
       "      <td>False</td>\n",
       "      <td>False</td>\n",
       "      <td>False</td>\n",
       "      <td>False</td>\n",
       "    </tr>\n",
       "    <tr>\n",
       "      <th>4</th>\n",
       "      <td>False</td>\n",
       "      <td>False</td>\n",
       "      <td>False</td>\n",
       "      <td>False</td>\n",
       "      <td>False</td>\n",
       "      <td>False</td>\n",
       "      <td>False</td>\n",
       "      <td>False</td>\n",
       "      <td>False</td>\n",
       "      <td>False</td>\n",
       "      <td>True</td>\n",
       "      <td>False</td>\n",
       "    </tr>\n",
       "    <tr>\n",
       "      <th>...</th>\n",
       "      <td>...</td>\n",
       "      <td>...</td>\n",
       "      <td>...</td>\n",
       "      <td>...</td>\n",
       "      <td>...</td>\n",
       "      <td>...</td>\n",
       "      <td>...</td>\n",
       "      <td>...</td>\n",
       "      <td>...</td>\n",
       "      <td>...</td>\n",
       "      <td>...</td>\n",
       "      <td>...</td>\n",
       "    </tr>\n",
       "    <tr>\n",
       "      <th>886</th>\n",
       "      <td>False</td>\n",
       "      <td>False</td>\n",
       "      <td>False</td>\n",
       "      <td>False</td>\n",
       "      <td>False</td>\n",
       "      <td>False</td>\n",
       "      <td>False</td>\n",
       "      <td>False</td>\n",
       "      <td>False</td>\n",
       "      <td>False</td>\n",
       "      <td>True</td>\n",
       "      <td>False</td>\n",
       "    </tr>\n",
       "    <tr>\n",
       "      <th>887</th>\n",
       "      <td>False</td>\n",
       "      <td>False</td>\n",
       "      <td>False</td>\n",
       "      <td>False</td>\n",
       "      <td>False</td>\n",
       "      <td>False</td>\n",
       "      <td>False</td>\n",
       "      <td>False</td>\n",
       "      <td>False</td>\n",
       "      <td>False</td>\n",
       "      <td>False</td>\n",
       "      <td>False</td>\n",
       "    </tr>\n",
       "    <tr>\n",
       "      <th>888</th>\n",
       "      <td>False</td>\n",
       "      <td>False</td>\n",
       "      <td>False</td>\n",
       "      <td>False</td>\n",
       "      <td>False</td>\n",
       "      <td>True</td>\n",
       "      <td>False</td>\n",
       "      <td>False</td>\n",
       "      <td>False</td>\n",
       "      <td>False</td>\n",
       "      <td>True</td>\n",
       "      <td>False</td>\n",
       "    </tr>\n",
       "    <tr>\n",
       "      <th>889</th>\n",
       "      <td>False</td>\n",
       "      <td>False</td>\n",
       "      <td>False</td>\n",
       "      <td>False</td>\n",
       "      <td>False</td>\n",
       "      <td>False</td>\n",
       "      <td>False</td>\n",
       "      <td>False</td>\n",
       "      <td>False</td>\n",
       "      <td>False</td>\n",
       "      <td>False</td>\n",
       "      <td>False</td>\n",
       "    </tr>\n",
       "    <tr>\n",
       "      <th>890</th>\n",
       "      <td>False</td>\n",
       "      <td>False</td>\n",
       "      <td>False</td>\n",
       "      <td>False</td>\n",
       "      <td>False</td>\n",
       "      <td>False</td>\n",
       "      <td>False</td>\n",
       "      <td>False</td>\n",
       "      <td>False</td>\n",
       "      <td>False</td>\n",
       "      <td>True</td>\n",
       "      <td>False</td>\n",
       "    </tr>\n",
       "  </tbody>\n",
       "</table>\n",
       "<p>891 rows × 12 columns</p>\n",
       "</div>"
      ],
      "text/plain": [
       "     PassengerId  Survived  Pclass   Name  ...  Ticket   Fare  Cabin  Embarked\n",
       "0          False     False   False  False  ...   False  False   True     False\n",
       "1          False     False   False  False  ...   False  False  False     False\n",
       "2          False     False   False  False  ...   False  False   True     False\n",
       "3          False     False   False  False  ...   False  False  False     False\n",
       "4          False     False   False  False  ...   False  False   True     False\n",
       "..           ...       ...     ...    ...  ...     ...    ...    ...       ...\n",
       "886        False     False   False  False  ...   False  False   True     False\n",
       "887        False     False   False  False  ...   False  False  False     False\n",
       "888        False     False   False  False  ...   False  False   True     False\n",
       "889        False     False   False  False  ...   False  False  False     False\n",
       "890        False     False   False  False  ...   False  False   True     False\n",
       "\n",
       "[891 rows x 12 columns]"
      ]
     },
     "execution_count": 254,
     "metadata": {
      "tags": []
     },
     "output_type": "execute_result"
    }
   ],
   "source": [
    "# Apply isna() on the dataset 'data'\n",
    "data.isna()"
   ]
  },
  {
   "cell_type": "markdown",
   "metadata": {
    "colab_type": "text",
    "id": "KtdsOqv8iHUX"
   },
   "source": [
    "`notnull()`\n",
    "\n",
    "- it is used to detect existing (non-missing) values\n",
    "- it is an alias of `notna()`"
   ]
  },
  {
   "cell_type": "code",
   "execution_count": 255,
   "metadata": {
    "colab": {},
    "colab_type": "code",
    "executionInfo": {
     "elapsed": 1520,
     "status": "ok",
     "timestamp": 1599491576724,
     "user": {
      "displayName": "Janka Gecelovská",
      "photoUrl": "https://lh3.googleusercontent.com/a-/AOh14GjVqlh2PlzTOTBDiLLtofNwHsxobYMwGvAajTuXUa0=s64",
      "userId": "04343601701373244670"
     },
     "user_tz": -120
    },
    "id": "khKFyezLcJDb"
   },
   "outputs": [],
   "source": [
    "# TASK >>>> 1 Check non-missing values in the dataset using .notnull()\n"
   ]
  },
  {
   "cell_type": "code",
   "execution_count": 256,
   "metadata": {
    "colab": {},
    "colab_type": "code",
    "executionInfo": {
     "elapsed": 1497,
     "status": "ok",
     "timestamp": 1599491576724,
     "user": {
      "displayName": "Janka Gecelovská",
      "photoUrl": "https://lh3.googleusercontent.com/a-/AOh14GjVqlh2PlzTOTBDiLLtofNwHsxobYMwGvAajTuXUa0=s64",
      "userId": "04343601701373244670"
     },
     "user_tz": -120
    },
    "id": "E_XbO3xpiUvG"
   },
   "outputs": [],
   "source": [
    "# TASK 2 >>>> Check non-missing values in the dataset using .notna()\n"
   ]
  },
  {
   "cell_type": "markdown",
   "metadata": {
    "colab_type": "text",
    "id": "AEwO_zAgkL1e"
   },
   "source": [
    "`isnull().sum()`\n",
    "\n",
    "- we can use function chaining to check the total number of missing values for each column in the DataFrame"
   ]
  },
  {
   "cell_type": "code",
   "execution_count": 257,
   "metadata": {
    "colab": {
     "base_uri": "https://localhost:8080/",
     "height": 238
    },
    "colab_type": "code",
    "executionInfo": {
     "elapsed": 1481,
     "status": "ok",
     "timestamp": 1599491576725,
     "user": {
      "displayName": "Janka Gecelovská",
      "photoUrl": "https://lh3.googleusercontent.com/a-/AOh14GjVqlh2PlzTOTBDiLLtofNwHsxobYMwGvAajTuXUa0=s64",
      "userId": "04343601701373244670"
     },
     "user_tz": -120
    },
    "id": "JN9Ex1dlfu6b",
    "outputId": "cc990da0-b360-493c-ee74-bac26ac5676f"
   },
   "outputs": [
    {
     "data": {
      "text/plain": [
       "PassengerId      0\n",
       "Survived         0\n",
       "Pclass           0\n",
       "Name             0\n",
       "Sex              0\n",
       "Age            177\n",
       "SibSp            0\n",
       "Parch            0\n",
       "Ticket           0\n",
       "Fare             0\n",
       "Cabin          687\n",
       "Embarked         2\n",
       "dtype: int64"
      ]
     },
     "execution_count": 257,
     "metadata": {
      "tags": []
     },
     "output_type": "execute_result"
    }
   ],
   "source": [
    "# Count the total number of missing values in the column using .sum()\n",
    "data.isnull().sum()"
   ]
  },
  {
   "cell_type": "markdown",
   "metadata": {
    "colab_type": "text",
    "id": "jSrzcZutkzEn"
   },
   "source": [
    "As we can see, there are 177 missing values in the column Age, then 687 missing values in the column Cabin and 2 missing values in the Embarked column.\n",
    "\n"
   ]
  },
  {
   "cell_type": "markdown",
   "metadata": {
    "colab_type": "text",
    "id": "SXa-mGowj1oT"
   },
   "source": [
    "# 3. Basic visualization of missing data"
   ]
  },
  {
   "cell_type": "code",
   "execution_count": 258,
   "metadata": {
    "colab": {
     "base_uri": "https://localhost:8080/",
     "height": 501
    },
    "colab_type": "code",
    "executionInfo": {
     "elapsed": 2045,
     "status": "ok",
     "timestamp": 1599491577313,
     "user": {
      "displayName": "Janka Gecelovská",
      "photoUrl": "https://lh3.googleusercontent.com/a-/AOh14GjVqlh2PlzTOTBDiLLtofNwHsxobYMwGvAajTuXUa0=s64",
      "userId": "04343601701373244670"
     },
     "user_tz": -120
    },
    "id": "fVjQmFQCGGqS",
    "outputId": "7fe8b825-8572-4c91-faa6-5a3484b89106"
   },
   "outputs": [
    {
     "data": {
      "image/png": "[encoded data removed]",
      "text/plain": [
       "<Figure size 640x480 with 1 Axes>"
      ]
     },
     "metadata": {
      "tags": []
     },
     "output_type": "display_data"
    }
   ],
   "source": [
    "# Set style\n",
    "plt.style.use('default')\n",
    "missing_values = data.isnull().sum() / len(data) * 100\n",
    "plt.xticks(np.arange(len(missing_values)), missing_values.index,rotation='vertical')\n",
    "plt.ylabel('Percentage of missing values')\n",
    "ax = plt.bar(np.arange(len(missing_values)), missing_values, color = 'skyblue');"
   ]
  },
  {
   "cell_type": "markdown",
   "metadata": {
    "colab_type": "text",
    "id": "p4lguqWclKIu"
   },
   "source": [
    "#4. Removing missing data\n",
    "\n"
   ]
  },
  {
   "cell_type": "markdown",
   "metadata": {
    "colab_type": "text",
    "id": "9Uwptybvo1qt"
   },
   "source": [
    "In some cases, it is appropriate just drop the rows with missing data, in other cases replacing missing data would be better options. \n",
    "\n",
    "`dropna()` function\n",
    "\n",
    "- to remove rows or columns from the DataFrame which contain missing values\n",
    "- by default drops any row that contain a missing value\n",
    "\n",
    "Arguments:\n",
    "\n",
    "`axis = 0` to drop rows\n",
    "\n",
    "`axis = 1` to drop columns\n",
    "\n",
    "`how = 'all'` to drop if all the values are missing\n",
    "\n",
    "`how = 'any'` to drop if any missing value is present\n",
    "\n",
    "`tresh = ` treshold for missing values\n",
    "\n",
    "`inplace` if True, then make changes in the DataFrame itself\n",
    "\n",
    "`subset = ['column']` to remove rows in which values are missing or selected column or columns"
   ]
  },
  {
   "cell_type": "code",
   "execution_count": 259,
   "metadata": {
    "colab": {
     "base_uri": "https://localhost:8080/",
     "height": 102
    },
    "colab_type": "code",
    "executionInfo": {
     "elapsed": 2016,
     "status": "ok",
     "timestamp": 1599491577315,
     "user": {
      "displayName": "Janka Gecelovská",
      "photoUrl": "https://lh3.googleusercontent.com/a-/AOh14GjVqlh2PlzTOTBDiLLtofNwHsxobYMwGvAajTuXUa0=s64",
      "userId": "04343601701373244670"
     },
     "user_tz": -120
    },
    "id": "vMSUIMhMkrXR",
    "outputId": "e0111296-de30-4088-9199-3ce8baad7f93"
   },
   "outputs": [
    {
     "name": "stdout",
     "output_type": "stream",
     "text": [
      "     PassengerId  Survived  Pclass  ...  Fare Cabin  Embarked\n",
      "61            62         1       1  ...  80.0   B28       NaN\n",
      "829          830         1       1  ...  80.0   B28       NaN\n",
      "\n",
      "[2 rows x 12 columns]\n"
     ]
    }
   ],
   "source": [
    "# Print rows with missing data in the column 'Embarked'\n",
    "missing_embarked = data[data.Embarked.isnull()]\n",
    "print(missing_embarked)"
   ]
  },
  {
   "cell_type": "code",
   "execution_count": 260,
   "metadata": {
    "colab": {},
    "colab_type": "code",
    "executionInfo": {
     "elapsed": 1989,
     "status": "ok",
     "timestamp": 1599491577316,
     "user": {
      "displayName": "Janka Gecelovská",
      "photoUrl": "https://lh3.googleusercontent.com/a-/AOh14GjVqlh2PlzTOTBDiLLtofNwHsxobYMwGvAajTuXUa0=s64",
      "userId": "04343601701373244670"
     },
     "user_tz": -120
    },
    "id": "6FabIA_tq-KI"
   },
   "outputs": [],
   "source": [
    "# Drop missing values in the column 'Embarked' \n",
    "# Specify this column using subset\n",
    "# Set changes inplace\n",
    "data.dropna(subset = ['Embarked'], inplace = True)"
   ]
  },
  {
   "cell_type": "code",
   "execution_count": 261,
   "metadata": {
    "colab": {
     "base_uri": "https://localhost:8080/",
     "height": 34
    },
    "colab_type": "code",
    "executionInfo": {
     "elapsed": 1976,
     "status": "ok",
     "timestamp": 1599491577317,
     "user": {
      "displayName": "Janka Gecelovská",
      "photoUrl": "https://lh3.googleusercontent.com/a-/AOh14GjVqlh2PlzTOTBDiLLtofNwHsxobYMwGvAajTuXUa0=s64",
      "userId": "04343601701373244670"
     },
     "user_tz": -120
    },
    "id": "aII-wNK-rHA3",
    "outputId": "b955c22d-b24d-4a44-ee83-71fd5510d94f"
   },
   "outputs": [
    {
     "data": {
      "text/plain": [
       "0"
      ]
     },
     "execution_count": 261,
     "metadata": {
      "tags": []
     },
     "output_type": "execute_result"
    }
   ],
   "source": [
    "# Check whether the rows with missing values have been removed\n",
    "data.Embarked.isna().sum()"
   ]
  },
  {
   "cell_type": "code",
   "execution_count": 262,
   "metadata": {
    "colab": {},
    "colab_type": "code",
    "executionInfo": {
     "elapsed": 1957,
     "status": "ok",
     "timestamp": 1599491577317,
     "user": {
      "displayName": "Janka Gecelovská",
      "photoUrl": "https://lh3.googleusercontent.com/a-/AOh14GjVqlh2PlzTOTBDiLLtofNwHsxobYMwGvAajTuXUa0=s64",
      "userId": "04343601701373244670"
     },
     "user_tz": -120
    },
    "id": "2mdOkWZ-s1zf"
   },
   "outputs": [],
   "source": [
    "# Make a copy of the DataFrame\n",
    "data_copy = data.copy()"
   ]
  },
  {
   "cell_type": "code",
   "execution_count": 263,
   "metadata": {
    "colab": {},
    "colab_type": "code",
    "executionInfo": {
     "elapsed": 1939,
     "status": "ok",
     "timestamp": 1599491577318,
     "user": {
      "displayName": "Janka Gecelovská",
      "photoUrl": "https://lh3.googleusercontent.com/a-/AOh14GjVqlh2PlzTOTBDiLLtofNwHsxobYMwGvAajTuXUa0=s64",
      "userId": "04343601701373244670"
     },
     "user_tz": -120
    },
    "id": "FNR51919tCKX"
   },
   "outputs": [],
   "source": [
    "# Drop those rows that contain any missing values\n",
    "data_copy.dropna(how = 'any', inplace = True)"
   ]
  },
  {
   "cell_type": "code",
   "execution_count": 264,
   "metadata": {
    "colab": {
     "base_uri": "https://localhost:8080/",
     "height": 238
    },
    "colab_type": "code",
    "executionInfo": {
     "elapsed": 1922,
     "status": "ok",
     "timestamp": 1599491577318,
     "user": {
      "displayName": "Janka Gecelovská",
      "photoUrl": "https://lh3.googleusercontent.com/a-/AOh14GjVqlh2PlzTOTBDiLLtofNwHsxobYMwGvAajTuXUa0=s64",
      "userId": "04343601701373244670"
     },
     "user_tz": -120
    },
    "id": "X18MLe5gtDUe",
    "outputId": "9e3e35be-52d7-4016-9edf-cdc92b02d26d"
   },
   "outputs": [
    {
     "data": {
      "text/plain": [
       "PassengerId    0\n",
       "Survived       0\n",
       "Pclass         0\n",
       "Name           0\n",
       "Sex            0\n",
       "Age            0\n",
       "SibSp          0\n",
       "Parch          0\n",
       "Ticket         0\n",
       "Fare           0\n",
       "Cabin          0\n",
       "Embarked       0\n",
       "dtype: int64"
      ]
     },
     "execution_count": 264,
     "metadata": {
      "tags": []
     },
     "output_type": "execute_result"
    }
   ],
   "source": [
    "# Check whether the rows have been removed correctly\n",
    "data_copy.isna().sum()"
   ]
  },
  {
   "cell_type": "code",
   "execution_count": 265,
   "metadata": {
    "colab": {
     "base_uri": "https://localhost:8080/",
     "height": 153
    },
    "colab_type": "code",
    "executionInfo": {
     "elapsed": 1900,
     "status": "ok",
     "timestamp": 1599491577319,
     "user": {
      "displayName": "Janka Gecelovská",
      "photoUrl": "https://lh3.googleusercontent.com/a-/AOh14GjVqlh2PlzTOTBDiLLtofNwHsxobYMwGvAajTuXUa0=s64",
      "userId": "04343601701373244670"
     },
     "user_tz": -120
    },
    "id": "dzIeMqAntvv4",
    "outputId": "4f7bed2a-d560-47b4-f46d-287b9fdb492e"
   },
   "outputs": [
    {
     "name": "stdout",
     "output_type": "stream",
     "text": [
      "    product  product_code  price  expiration_date\n",
      "0     apple         154.0   0.89              NaN\n",
      "1       NaN         153.0   1.50              NaN\n",
      "2  cucumber         225.0   0.65              NaN\n",
      "3     bread           NaN   1.20              NaN\n",
      "4      milk          56.0   0.85              NaN\n",
      "5    butter          15.0    NaN              NaN\n",
      "6     sugar           NaN   1.20              NaN\n"
     ]
    }
   ],
   "source": [
    "# Run this code\n",
    "dict = {'product': ['apple', np.nan,'cucumber','bread','milk', 'butter', 'sugar'],\n",
    "        'product_code': [154,153,225,np.nan,56,15, np.nan],\n",
    "        'price': [0.89, 1.50, 0.65, 1.20, 0.85, np.nan, 1.20],\n",
    "        'expiration_date': [np.nan, np.nan, np.nan, np.nan, np.nan, np.nan, np.nan]\n",
    "        }\n",
    "\n",
    "df = pd.DataFrame (dict, columns = ['product','product_code','price','expiration_date'])\n",
    "print(df)"
   ]
  },
  {
   "cell_type": "code",
   "execution_count": 266,
   "metadata": {
    "colab": {},
    "colab_type": "code",
    "executionInfo": {
     "elapsed": 1880,
     "status": "ok",
     "timestamp": 1599491577320,
     "user": {
      "displayName": "Janka Gecelovská",
      "photoUrl": "https://lh3.googleusercontent.com/a-/AOh14GjVqlh2PlzTOTBDiLLtofNwHsxobYMwGvAajTuXUa0=s64",
      "userId": "04343601701373244670"
     },
     "user_tz": -120
    },
    "id": "yMdQ3zbzveLP"
   },
   "outputs": [],
   "source": [
    "# Drop the last column that contain only missing values\n",
    "df.dropna(how = 'all', axis = 1, inplace = True)"
   ]
  },
  {
   "cell_type": "code",
   "execution_count": 267,
   "metadata": {
    "colab": {
     "base_uri": "https://localhost:8080/",
     "height": 266
    },
    "colab_type": "code",
    "executionInfo": {
     "elapsed": 1857,
     "status": "ok",
     "timestamp": 1599491577320,
     "user": {
      "displayName": "Janka Gecelovská",
      "photoUrl": "https://lh3.googleusercontent.com/a-/AOh14GjVqlh2PlzTOTBDiLLtofNwHsxobYMwGvAajTuXUa0=s64",
      "userId": "04343601701373244670"
     },
     "user_tz": -120
    },
    "id": "On_ZzkZhv1pW",
    "outputId": "1e089a5d-86c4-41b7-9b64-4d22af558b16"
   },
   "outputs": [
    {
     "data": {
      "text/html": [
       "<div>\n",
       "<style scoped>\n",
       "    .dataframe tbody tr th:only-of-type {\n",
       "        vertical-align: middle;\n",
       "    }\n",
       "\n",
       "    .dataframe tbody tr th {\n",
       "        vertical-align: top;\n",
       "    }\n",
       "\n",
       "    .dataframe thead th {\n",
       "        text-align: right;\n",
       "    }\n",
       "</style>\n",
       "<table border=\"1\" class=\"dataframe\">\n",
       "  <thead>\n",
       "    <tr style=\"text-align: right;\">\n",
       "      <th></th>\n",
       "      <th>product</th>\n",
       "      <th>product_code</th>\n",
       "      <th>price</th>\n",
       "    </tr>\n",
       "  </thead>\n",
       "  <tbody>\n",
       "    <tr>\n",
       "      <th>0</th>\n",
       "      <td>apple</td>\n",
       "      <td>154.0</td>\n",
       "      <td>0.89</td>\n",
       "    </tr>\n",
       "    <tr>\n",
       "      <th>1</th>\n",
       "      <td>NaN</td>\n",
       "      <td>153.0</td>\n",
       "      <td>1.50</td>\n",
       "    </tr>\n",
       "    <tr>\n",
       "      <th>2</th>\n",
       "      <td>cucumber</td>\n",
       "      <td>225.0</td>\n",
       "      <td>0.65</td>\n",
       "    </tr>\n",
       "    <tr>\n",
       "      <th>3</th>\n",
       "      <td>bread</td>\n",
       "      <td>NaN</td>\n",
       "      <td>1.20</td>\n",
       "    </tr>\n",
       "    <tr>\n",
       "      <th>4</th>\n",
       "      <td>milk</td>\n",
       "      <td>56.0</td>\n",
       "      <td>0.85</td>\n",
       "    </tr>\n",
       "    <tr>\n",
       "      <th>5</th>\n",
       "      <td>butter</td>\n",
       "      <td>15.0</td>\n",
       "      <td>NaN</td>\n",
       "    </tr>\n",
       "    <tr>\n",
       "      <th>6</th>\n",
       "      <td>sugar</td>\n",
       "      <td>NaN</td>\n",
       "      <td>1.20</td>\n",
       "    </tr>\n",
       "  </tbody>\n",
       "</table>\n",
       "</div>"
      ],
      "text/plain": [
       "    product  product_code  price\n",
       "0     apple         154.0   0.89\n",
       "1       NaN         153.0   1.50\n",
       "2  cucumber         225.0   0.65\n",
       "3     bread           NaN   1.20\n",
       "4      milk          56.0   0.85\n",
       "5    butter          15.0    NaN\n",
       "6     sugar           NaN   1.20"
      ]
     },
     "execution_count": 267,
     "metadata": {
      "tags": []
     },
     "output_type": "execute_result"
    }
   ],
   "source": [
    "# Display the DataFrame to check the change\n",
    "df"
   ]
  },
  {
   "cell_type": "code",
   "execution_count": 268,
   "metadata": {
    "colab": {
     "base_uri": "https://localhost:8080/",
     "height": 153
    },
    "colab_type": "code",
    "executionInfo": {
     "elapsed": 1838,
     "status": "ok",
     "timestamp": 1599491577322,
     "user": {
      "displayName": "Janka Gecelovská",
      "photoUrl": "https://lh3.googleusercontent.com/a-/AOh14GjVqlh2PlzTOTBDiLLtofNwHsxobYMwGvAajTuXUa0=s64",
      "userId": "04343601701373244670"
     },
     "user_tz": -120
    },
    "id": "qpdQwiSiBsPo",
    "outputId": "d98aaa8d-d8ee-4b9d-a9b4-cf5a8b6de19d"
   },
   "outputs": [
    {
     "name": "stdout",
     "output_type": "stream",
     "text": [
      "    product  product_code  price\n",
      "0     apple         154.0   0.89\n",
      "1       NaN         153.0   1.50\n",
      "2  cucumber         225.0   0.65\n",
      "3     bread           NaN   1.20\n",
      "4      milk          56.0   0.85\n",
      "5    butter          15.0    NaN\n",
      "6     sugar           NaN   1.20\n"
     ]
    }
   ],
   "source": [
    "# Run this code\n",
    "df_copy = df.copy()\n",
    "print(df_copy)"
   ]
  },
  {
   "cell_type": "code",
   "execution_count": 269,
   "metadata": {
    "colab": {
     "base_uri": "https://localhost:8080/",
     "height": 85
    },
    "colab_type": "code",
    "executionInfo": {
     "elapsed": 2040,
     "status": "ok",
     "timestamp": 1599491577542,
     "user": {
      "displayName": "Janka Gecelovská",
      "photoUrl": "https://lh3.googleusercontent.com/a-/AOh14GjVqlh2PlzTOTBDiLLtofNwHsxobYMwGvAajTuXUa0=s64",
      "userId": "04343601701373244670"
     },
     "user_tz": -120
    },
    "id": "B6vP0GkVBIYJ",
    "outputId": "7d707156-8701-47dd-f3b8-0dbd67159d57"
   },
   "outputs": [
    {
     "name": "stdout",
     "output_type": "stream",
     "text": [
      "    product  product_code  price\n",
      "0     apple         154.0   0.89\n",
      "2  cucumber         225.0   0.65\n",
      "4      milk          56.0   0.85\n"
     ]
    }
   ],
   "source": [
    "# TASK 3 >>>> Drop rows from df_copy that contain any missing values \n",
    "df_copy.dropna(how = 'any',inplace = True)\n",
    "print(df_copy)"
   ]
  },
  {
   "cell_type": "markdown",
   "metadata": {
    "colab_type": "text",
    "id": "QEpAKmXmzIqe"
   },
   "source": [
    "#5. Filling in missing data\n",
    "\n",
    "`fillna()` method\n",
    "\n",
    "- this method fill in missing data (can be used on a particular column as well)\n",
    "\n",
    "Arguments:\n",
    "\n",
    "- we can specify **value** (any number or summary statistics such as mean or median) \n",
    "\n",
    "- we can use **interpolation method**: \n",
    "\n",
    "`ffill` : uses previous valid values to fill gap\n",
    "\n",
    "`bfill` : uses next valid value to fill gap\n",
    "\n",
    "`limit` : for ffill and bfill - maximum number of consecutive periods to fill\n",
    "\n",
    "`axis` : axis to fill on, default axis = 0 \n",
    "\n",
    "`inplace = True`\n",
    "\n"
   ]
  },
  {
   "cell_type": "code",
   "execution_count": 270,
   "metadata": {
    "colab": {
     "base_uri": "https://localhost:8080/",
     "height": 153
    },
    "colab_type": "code",
    "executionInfo": {
     "elapsed": 2022,
     "status": "ok",
     "timestamp": 1599491577543,
     "user": {
      "displayName": "Janka Gecelovská",
      "photoUrl": "https://lh3.googleusercontent.com/a-/AOh14GjVqlh2PlzTOTBDiLLtofNwHsxobYMwGvAajTuXUa0=s64",
      "userId": "04343601701373244670"
     },
     "user_tz": -120
    },
    "id": "Sy4NYflx6KMz",
    "outputId": "df3232b9-9cba-4c01-a438-bdba0c60312e"
   },
   "outputs": [
    {
     "name": "stdout",
     "output_type": "stream",
     "text": [
      "    product  product_code  price\n",
      "0     apple         154.0   0.89\n",
      "1       NaN         153.0   1.50\n",
      "2  cucumber         225.0   0.65\n",
      "3     bread           NaN   1.20\n",
      "4      milk          56.0   0.85\n",
      "5    butter          15.0   0.00\n",
      "6     sugar           NaN   1.20\n"
     ]
    }
   ],
   "source": [
    "# Fill in missing value in 'price' column with value 0\n",
    "df.price.fillna(0, inplace = True)\n",
    "print(df)"
   ]
  },
  {
   "cell_type": "code",
   "execution_count": 271,
   "metadata": {
    "colab": {
     "base_uri": "https://localhost:8080/",
     "height": 153
    },
    "colab_type": "code",
    "executionInfo": {
     "elapsed": 1996,
     "status": "ok",
     "timestamp": 1599491577548,
     "user": {
      "displayName": "Janka Gecelovská",
      "photoUrl": "https://lh3.googleusercontent.com/a-/AOh14GjVqlh2PlzTOTBDiLLtofNwHsxobYMwGvAajTuXUa0=s64",
      "userId": "04343601701373244670"
     },
     "user_tz": -120
    },
    "id": "Bdo69fNo_vhk",
    "outputId": "dbcec72b-99e1-4758-a831-deee5ebadb8c"
   },
   "outputs": [
    {
     "name": "stdout",
     "output_type": "stream",
     "text": [
      "    product product_code  price\n",
      "0     apple          154   0.89\n",
      "1         0          153   1.50\n",
      "2  cucumber          225   0.65\n",
      "3     bread            0   1.20\n",
      "4      milk           56   0.85\n",
      "5    butter           15   0.00\n",
      "6     sugar            0   1.20\n"
     ]
    }
   ],
   "source": [
    "# Fill in missing value in column 'product' with '0'\n",
    "df.fillna('0', inplace = True)\n",
    "print(df)"
   ]
  },
  {
   "cell_type": "code",
   "execution_count": 283,
   "metadata": {
    "colab": {
     "base_uri": "https://localhost:8080/",
     "height": 102
    },
    "colab_type": "code",
    "executionInfo": {
     "elapsed": 536,
     "status": "ok",
     "timestamp": 1599491644540,
     "user": {
      "displayName": "Janka Gecelovská",
      "photoUrl": "https://lh3.googleusercontent.com/a-/AOh14GjVqlh2PlzTOTBDiLLtofNwHsxobYMwGvAajTuXUa0=s64",
      "userId": "04343601701373244670"
     },
     "user_tz": -120
    },
    "id": "Yb1wvnqDDnVz",
    "outputId": "d15a5f6d-eff8-41d6-8a85-7946b9155527"
   },
   "outputs": [
    {
     "name": "stdout",
     "output_type": "stream",
     "text": [
      "   column_a  column_b  column_c  column_d\n",
      "0        15       NaN      10.0      85.0\n",
      "1        16       NaN      15.0      90.0\n",
      "2        82      54.0      15.0       NaN\n",
      "3        25       8.0      25.0       NaN\n"
     ]
    }
   ],
   "source": [
    "# Run this code\n",
    "dictionary = {'column_a': [15, 16, 82, 25],\n",
    "              'column_b': [np.nan, np.nan, 54, 8],\n",
    "              'column_c': [np.nan, 15, 15, 25],\n",
    "              'column_d': [85, 90, np.nan, np.nan]\n",
    "        }\n",
    "\n",
    "dataframe_1 = pd.DataFrame (dictionary, columns = ['column_a','column_b','column_c','column_d'])\n",
    "print(dataframe)"
   ]
  },
  {
   "cell_type": "code",
   "execution_count": 273,
   "metadata": {
    "colab": {
     "base_uri": "https://localhost:8080/",
     "height": 102
    },
    "colab_type": "code",
    "executionInfo": {
     "elapsed": 1964,
     "status": "ok",
     "timestamp": 1599491577549,
     "user": {
      "displayName": "Janka Gecelovská",
      "photoUrl": "https://lh3.googleusercontent.com/a-/AOh14GjVqlh2PlzTOTBDiLLtofNwHsxobYMwGvAajTuXUa0=s64",
      "userId": "04343601701373244670"
     },
     "user_tz": -120
    },
    "id": "q-tLibylEbqw",
    "outputId": "69a9f823-1e5e-400f-f953-e6f742d3d743"
   },
   "outputs": [
    {
     "name": "stdout",
     "output_type": "stream",
     "text": [
      "   column_a  column_b  column_c  column_d\n",
      "0        15       NaN      10.0      85.0\n",
      "1        16       NaN      15.0      90.0\n",
      "2        82      54.0      15.0       NaN\n",
      "3        25       8.0      25.0       NaN\n"
     ]
    }
   ],
   "source": [
    "# TASK 4 >>>> Fill in missing value in column 'column_c' of dataframe_1 with value 10 \n",
    "dataframe.column_c.fillna(10, inplace = True)\n",
    "print(dataframe)"
   ]
  },
  {
   "cell_type": "markdown",
   "metadata": {
    "colab_type": "text",
    "id": "fOEJguCDijpR"
   },
   "source": [
    "#6. More Complex Methods\n",
    "\n",
    "We will go through the theory of these more complex methods later as they relate to Machine Learning. "
   ]
  },
  {
   "cell_type": "code",
   "execution_count": 274,
   "metadata": {
    "colab": {
     "base_uri": "https://localhost:8080/",
     "height": 102
    },
    "colab_type": "code",
    "executionInfo": {
     "elapsed": 1946,
     "status": "ok",
     "timestamp": 1599491577550,
     "user": {
      "displayName": "Janka Gecelovská",
      "photoUrl": "https://lh3.googleusercontent.com/a-/AOh14GjVqlh2PlzTOTBDiLLtofNwHsxobYMwGvAajTuXUa0=s64",
      "userId": "04343601701373244670"
     },
     "user_tz": -120
    },
    "id": "ntP0un3I83ay",
    "outputId": "e5b0fde5-1fb8-4ecf-825c-56183e0bfd98"
   },
   "outputs": [
    {
     "name": "stdout",
     "output_type": "stream",
     "text": [
      "   column_1  column_2  column_3  column_4\n",
      "0        15       NaN       NaN      85.0\n",
      "1        16       NaN      15.0      90.0\n",
      "2        82      54.0      15.0       NaN\n",
      "3        25       8.0      25.0       NaN\n"
     ]
    }
   ],
   "source": [
    "# Run this code\n",
    "dict = {'column_1': [15, 16, 82, 25],\n",
    "        'column_2': [np.nan, np.nan, 54, 8],\n",
    "        'column_3': [np.nan, 15, 15, 25],\n",
    "        'column_4': [85, 90, np.nan, np.nan]\n",
    "        }\n",
    "\n",
    "our_df = pd.DataFrame (dict, columns = ['column_1','column_2','column_3','column_4'])\n",
    "print(our_df)"
   ]
  },
  {
   "cell_type": "code",
   "execution_count": 275,
   "metadata": {
    "colab": {
     "base_uri": "https://localhost:8080/",
     "height": 102
    },
    "colab_type": "code",
    "executionInfo": {
     "elapsed": 1931,
     "status": "ok",
     "timestamp": 1599491577550,
     "user": {
      "displayName": "Janka Gecelovská",
      "photoUrl": "https://lh3.googleusercontent.com/a-/AOh14GjVqlh2PlzTOTBDiLLtofNwHsxobYMwGvAajTuXUa0=s64",
      "userId": "04343601701373244670"
     },
     "user_tz": -120
    },
    "id": "v_B6EpYC9pXt",
    "outputId": "48083cb8-8558-4c60-e33f-18e2a1156324"
   },
   "outputs": [
    {
     "name": "stdout",
     "output_type": "stream",
     "text": [
      "   column_1  column_2  column_3  column_4\n",
      "0        15      54.0      15.0      85.0\n",
      "1        16      54.0      15.0      90.0\n",
      "2        82      54.0      15.0       NaN\n",
      "3        25       8.0      25.0       NaN\n"
     ]
    }
   ],
   "source": [
    "# Fill in missing values using 'method = bfill' which stand for 'backward fill'\n",
    "# Set 'inplace = True' to make changes in the existing DataFrame\n",
    "our_df.fillna(axis = 0, method = 'bfill', inplace = True)\n",
    "print(our_df)"
   ]
  },
  {
   "cell_type": "markdown",
   "metadata": {
    "colab_type": "text",
    "id": "fDzo48mAFl9n"
   },
   "source": [
    "The second option is `method = 'ffill'` which stand for forward fill."
   ]
  },
  {
   "cell_type": "code",
   "execution_count": 276,
   "metadata": {
    "colab": {},
    "colab_type": "code",
    "executionInfo": {
     "elapsed": 1907,
     "status": "ok",
     "timestamp": 1599491577551,
     "user": {
      "displayName": "Janka Gecelovská",
      "photoUrl": "https://lh3.googleusercontent.com/a-/AOh14GjVqlh2PlzTOTBDiLLtofNwHsxobYMwGvAajTuXUa0=s64",
      "userId": "04343601701373244670"
     },
     "user_tz": -120
    },
    "id": "f-K08b6G_ipw"
   },
   "outputs": [],
   "source": [
    "# Convert the datatype of the column Age from the DataFrame 'data' to integer data type\n",
    "data_copy.Age = data_copy.Age.astype('int')"
   ]
  },
  {
   "cell_type": "code",
   "execution_count": 277,
   "metadata": {
    "colab": {},
    "colab_type": "code",
    "executionInfo": {
     "elapsed": 1886,
     "status": "ok",
     "timestamp": 1599491577552,
     "user": {
      "displayName": "Janka Gecelovská",
      "photoUrl": "https://lh3.googleusercontent.com/a-/AOh14GjVqlh2PlzTOTBDiLLtofNwHsxobYMwGvAajTuXUa0=s64",
      "userId": "04343601701373244670"
     },
     "user_tz": -120
    },
    "id": "DJ3d8v3f-kNZ"
   },
   "outputs": [],
   "source": [
    "# Fill in missing data of the column 'Age' in the DataFrame 'data' with the average age\n",
    "average_age = data_copy.Age.mean()\n",
    "data_copy.Age.fillna(average_age, inplace = True)"
   ]
  },
  {
   "cell_type": "code",
   "execution_count": 278,
   "metadata": {
    "colab": {
     "base_uri": "https://localhost:8080/",
     "height": 34
    },
    "colab_type": "code",
    "executionInfo": {
     "elapsed": 1872,
     "status": "ok",
     "timestamp": 1599491577552,
     "user": {
      "displayName": "Janka Gecelovská",
      "photoUrl": "https://lh3.googleusercontent.com/a-/AOh14GjVqlh2PlzTOTBDiLLtofNwHsxobYMwGvAajTuXUa0=s64",
      "userId": "04343601701373244670"
     },
     "user_tz": -120
    },
    "id": "ZYpeuHJn_ISK",
    "outputId": "e03b35b0-0123-492b-9d57-7309c0b3ce2d"
   },
   "outputs": [
    {
     "data": {
      "text/plain": [
       "0"
      ]
     },
     "execution_count": 278,
     "metadata": {
      "tags": []
     },
     "output_type": "execute_result"
    }
   ],
   "source": [
    "# Check whether missing values have been removed from the column 'Age'\n",
    "data_copy.Age.isnull().sum()"
   ]
  },
  {
   "cell_type": "markdown",
   "metadata": {
    "colab_type": "text",
    "id": "BxWOu11kHCmp"
   },
   "source": [
    "#7. Duplicate data\n"
   ]
  },
  {
   "cell_type": "code",
   "execution_count": 284,
   "metadata": {
    "colab": {},
    "colab_type": "code",
    "executionInfo": {
     "elapsed": 539,
     "status": "ok",
     "timestamp": 1599491706151,
     "user": {
      "displayName": "Janka Gecelovská",
      "photoUrl": "https://lh3.googleusercontent.com/a-/AOh14GjVqlh2PlzTOTBDiLLtofNwHsxobYMwGvAajTuXUa0=s64",
      "userId": "04343601701373244670"
     },
     "user_tz": -120
    },
    "id": "Bv4rv_Ie_dby"
   },
   "outputs": [],
   "source": [
    "# Run this code\n",
    "actors = [('Michone', 30, 'USA'),\n",
    "            ('Bob', 28, 'New York'),\n",
    "            ('Rick', 30, 'New York'),\n",
    "            ('Carol', 40, 'Paris'),\n",
    "            ('Daryl', 35, 'London'),\n",
    "            ('Daryl', 35, 'London'),\n",
    "            ('Michone', 45, 'London'),\n",
    "            ('Morgan', 38, 'Sweden')\n",
    "            ]\n",
    "df_2 = pd.DataFrame(actors, columns=['first_name', 'age', 'city'])"
   ]
  },
  {
   "cell_type": "code",
   "execution_count": 285,
   "metadata": {
    "colab": {
     "base_uri": "https://localhost:8080/",
     "height": 34
    },
    "colab_type": "code",
    "executionInfo": {
     "elapsed": 859,
     "status": "ok",
     "timestamp": 1599491706887,
     "user": {
      "displayName": "Janka Gecelovská",
      "photoUrl": "https://lh3.googleusercontent.com/a-/AOh14GjVqlh2PlzTOTBDiLLtofNwHsxobYMwGvAajTuXUa0=s64",
      "userId": "04343601701373244670"
     },
     "user_tz": -120
    },
    "id": "Jx6YVCwNHO2Y",
    "outputId": "7fd94444-1789-4f35-dfc2-1f96d1f49cbd"
   },
   "outputs": [
    {
     "data": {
      "text/plain": [
       "1"
      ]
     },
     "execution_count": 285,
     "metadata": {
      "tags": []
     },
     "output_type": "execute_result"
    }
   ],
   "source": [
    "# Find duplicated values using .duplicated() method\n",
    "df_2.duplicated().sum()"
   ]
  },
  {
   "cell_type": "code",
   "execution_count": 287,
   "metadata": {
    "colab": {
     "base_uri": "https://localhost:8080/",
     "height": 153
    },
    "colab_type": "code",
    "executionInfo": {
     "elapsed": 510,
     "status": "ok",
     "timestamp": 1599491718833,
     "user": {
      "displayName": "Janka Gecelovská",
      "photoUrl": "https://lh3.googleusercontent.com/a-/AOh14GjVqlh2PlzTOTBDiLLtofNwHsxobYMwGvAajTuXUa0=s64",
      "userId": "04343601701373244670"
     },
     "user_tz": -120
    },
    "id": "G_c6rzB0i7jv",
    "outputId": "7cb5d40e-f671-4280-84ac-0804347fd1ba"
   },
   "outputs": [
    {
     "name": "stdout",
     "output_type": "stream",
     "text": [
      "  first_name  age      city\n",
      "0    Michone   30       USA\n",
      "1        Bob   28  New York\n",
      "2       Rick   30  New York\n",
      "3      Carol   40     Paris\n",
      "4      Daryl   35    London\n",
      "6    Michone   45    London\n",
      "7     Morgan   38    Sweden\n"
     ]
    }
   ],
   "source": [
    "# Remove duplicate rows\n",
    "df_2.drop_duplicates(inplace=True)\n",
    "print(df_2)"
   ]
  },
  {
   "cell_type": "code",
   "execution_count": 282,
   "metadata": {
    "colab": {},
    "colab_type": "code",
    "executionInfo": {
     "elapsed": 1799,
     "status": "ok",
     "timestamp": 1599491577555,
     "user": {
      "displayName": "Janka Gecelovská",
      "photoUrl": "https://lh3.googleusercontent.com/a-/AOh14GjVqlh2PlzTOTBDiLLtofNwHsxobYMwGvAajTuXUa0=s64",
      "userId": "04343601701373244670"
     },
     "user_tz": -120
    },
    "id": "Iuj9VW8YKDeZ"
   },
   "outputs": [],
   "source": [
    "# BONUS TASK >>> What movie series does author of this notebook like? :)"
   ]
  },
  {
   "cell_type": "markdown",
   "metadata": {},
   "source": [
    "# Appendix\n",
    "\n",
    "Data source: https://www.kaggle.com/hesh97/titanicdataset-traincsv\n",
    "\n",
    "License: CC0: Public Domain"
   ]
  }
 ],
 "metadata": {
  "colab": {
   "authorship_tag": "ABX9TyPySbLKIPIv1GTdPi7Y9FLJ",
   "collapsed_sections": [],
   "name": "4. Missing_And_Duplicate_Data.ipynb",
   "provenance": []
  },
  "kernelspec": {
   "display_name": "Python 3",
   "language": "python",
   "name": "python3"
  },
  "language_info": {
   "codemirror_mode": {
    "name": "ipython",
    "version": 3
   },
   "file_extension": ".py",
   "mimetype": "text/x-python",
   "name": "python",
   "nbconvert_exporter": "python",
   "pygments_lexer": "ipython3",
   "version": "3.7.7"
  }
 },
 "nbformat": 4,
 "nbformat_minor": 1
}
