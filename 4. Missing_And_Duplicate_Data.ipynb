{
 "cells": [
  {
   "cell_type": "markdown",
   "metadata": {
    "colab_type": "text",
    "id": "WGrIEyUXUyF2"
   },
   "source": [
    "# 1. Missing values\n",
    "\n",
    "In the real world, the data are rarely clean and homogenous and can have missing values for several reasons: data was lost or corrupted during the transmission from the database, human error, programming error. Whether the missing data will be removed, replaced or filled depends on the type of missing data.\n",
    "\n",
    "`Pandas` uses the floating point value `NaN` (Not u Number) to represent missing data in both floating as well as in non-floating point arrays. The built-in Python `None` value is also treated as NA in object arrays.\n",
    "\n",
    "There are several functions for detecting, removing, replacing and imputing null values in Pandas DataFrame."
   ]
  },
  {
   "cell_type": "code",
   "execution_count": null,
   "metadata": {
    "colab": {},
    "colab_type": "code",
    "id": "gCIkfk5ZR6Sm"
   },
   "outputs": [],
   "source": [
    "# Run this code\n",
    "import pandas as pd\n",
    "import numpy as np\n",
    "import matplotlib.pyplot as plt"
   ]
  },
  {
   "cell_type": "markdown",
   "metadata": {
    "colab_type": "text",
    "id": "zjerqh2OjVbT"
   },
   "source": [
    "Let's look how the missing data look like in the DataFrame."
   ]
  },
  {
   "cell_type": "code",
   "execution_count": null,
   "metadata": {
    "colab": {},
    "colab_type": "code",
    "id": "ml6bdH9RWPcW"
   },
   "outputs": [],
   "source": [
    "# Run this code\n",
    "our_series = pd.Series([25, 2.5, 150, np.nan, 1.5, 'Python', 147])\n",
    "print(our_series)"
   ]
  },
  {
   "cell_type": "markdown",
   "metadata": {
    "colab_type": "text",
    "id": "IGI02OWNWvHq"
   },
   "source": [
    "# 2. Detecting missing data"
   ]
  },
  {
   "cell_type": "code",
   "execution_count": null,
   "metadata": {
    "colab": {},
    "colab_type": "code",
    "id": "EjZyt4lVWhsB"
   },
   "outputs": [],
   "source": [
    "# Load the Titanic dataset\n",
    "data = pd.read_csv('titanic.csv')\n",
    "data.head(10)"
   ]
  },
  {
   "cell_type": "markdown",
   "metadata": {
    "colab_type": "text",
    "id": "HGSk5JQafL13"
   },
   "source": [
    "`isnull().values.any()`\n",
    "\n",
    "- used if we only want to know if there are any missing values in the dataset"
   ]
  },
  {
   "cell_type": "code",
   "execution_count": null,
   "metadata": {
    "colab": {},
    "colab_type": "code",
    "id": "QwXYiMgBfJXF"
   },
   "outputs": [],
   "source": [
    "# Check whether there are any missing values\n",
    "data.isnull().values.any()"
   ]
  },
  {
   "cell_type": "markdown",
   "metadata": {
    "colab_type": "text",
    "id": "R7_cWUFldpUY"
   },
   "source": [
    "`isnull()`\n",
    "- it is used to detect missing values for an array-like object\n",
    "- returns a boolean same-sized object indicating if the values are missing\n",
    "\n",
    "- it is an alias of `isna()`"
   ]
  },
  {
   "cell_type": "code",
   "execution_count": null,
   "metadata": {
    "colab": {},
    "colab_type": "code",
    "id": "PHZmRCK6bffc"
   },
   "outputs": [],
   "source": [
    "# Apply isnull() on the dataset 'data'\n",
    "data.isnull()"
   ]
  },
  {
   "cell_type": "markdown",
   "metadata": {
    "colab_type": "text",
    "id": "KtdsOqv8iHUX"
   },
   "source": [
    "`notnull()`\n",
    "\n",
    "- it is used to detect existing (non-missing) values\n",
    "- it is an alias of `notna()`"
   ]
  },
  {
   "cell_type": "code",
   "execution_count": null,
   "metadata": {
    "colab": {},
    "colab_type": "code",
    "id": "khKFyezLcJDb"
   },
   "outputs": [],
   "source": [
    "# TASK 1 >>>> Check non-missing values in the dataset using .notnull()\n"
   ]
  },
  {
   "cell_type": "markdown",
   "metadata": {
    "colab_type": "text",
    "id": "AEwO_zAgkL1e"
   },
   "source": [
    "`isnull().sum()`\n",
    "\n",
    "- we can use function chaining to check the total number of missing values for each column in the DataFrame"
   ]
  },
  {
   "cell_type": "code",
   "execution_count": null,
   "metadata": {
    "colab": {},
    "colab_type": "code",
    "id": "JN9Ex1dlfu6b"
   },
   "outputs": [],
   "source": [
    "# Count the total number of missing values in the column using .sum()\n",
    "data.isnull().sum()"
   ]
  },
  {
   "cell_type": "markdown",
   "metadata": {
    "colab_type": "text",
    "id": "jSrzcZutkzEn"
   },
   "source": [
    "As we can see, there are 177 missing values in the column Age, then 687 missing values in the column Cabin and 2 missing values in the Embarked column.\n",
    "\n"
   ]
  },
  {
   "cell_type": "markdown",
   "metadata": {
    "colab_type": "text",
    "id": "SXa-mGowj1oT"
   },
   "source": [
    "# 3. Basic visualization of missing data"
   ]
  },
  {
   "cell_type": "code",
   "execution_count": null,
   "metadata": {
    "colab": {},
    "colab_type": "code",
    "id": "fVjQmFQCGGqS"
   },
   "outputs": [],
   "source": [
    "# Run this code\n",
    "plt.style.use('default')\n",
    "missing_values = data.isnull().sum() / len(data) * 100\n",
    "plt.xticks(np.arange(len(missing_values)), missing_values.index,rotation='vertical')\n",
    "plt.ylabel('Percentage of missing values')\n",
    "ax = plt.bar(np.arange(len(missing_values)), missing_values, color = 'skyblue');"
   ]
  },
  {
   "cell_type": "markdown",
   "metadata": {
    "colab_type": "text",
    "id": "p4lguqWclKIu"
   },
   "source": [
    "# 4. Removing missing data\n",
    "\n"
   ]
  },
  {
   "cell_type": "markdown",
   "metadata": {
    "colab_type": "text",
    "id": "9Uwptybvo1qt"
   },
   "source": [
    "In some cases, it is appropriate just drop the rows with missing data, in other cases replacing missing data would be better options. \n",
    "\n",
    "`dropna()` function\n",
    "\n",
    "- to remove rows or columns from the DataFrame which contain missing values\n",
    "- by default drops any row that contain a missing value\n",
    "\n",
    "Arguments:\n",
    "\n",
    "`axis = 0` to drop rows\n",
    "\n",
    "`axis = 1` to drop columns\n",
    "\n",
    "`how = 'all'` to drop if all the values are missing\n",
    "\n",
    "`how = 'any'` to drop if any missing value is present\n",
    "\n",
    "`tresh = ` treshold for missing values\n",
    "\n",
    "`subset = ['column']` to remove rows in which values are missing or selected column or columns\n",
    "\n",
    "**If we want to make changes in the original dataset** (for example remove a particular column), we have to specify `inplace = True` within the method. Otherwise the copy of the dataset will be returned and the change will not be performed in the original dataset. "
   ]
  },
  {
   "cell_type": "code",
   "execution_count": null,
   "metadata": {
    "colab": {},
    "colab_type": "code",
    "id": "vMSUIMhMkrXR"
   },
   "outputs": [],
   "source": [
    "# Print rows with missing data in the column 'Embarked'\n",
    "missing_embarked = data[data.Embarked.isnull()]\n",
    "print(missing_embarked)"
   ]
  },
  {
   "cell_type": "code",
   "execution_count": null,
   "metadata": {
    "colab": {},
    "colab_type": "code",
    "id": "6FabIA_tq-KI"
   },
   "outputs": [],
   "source": [
    "# Drop missing values in the column 'Embarked' \n",
    "# Specify this column using subset\n",
    "# Set inplace = True\n",
    "data.dropna(subset = ['Embarked'], inplace = True)"
   ]
  },
  {
   "cell_type": "code",
   "execution_count": null,
   "metadata": {
    "colab": {},
    "colab_type": "code",
    "id": "aII-wNK-rHA3"
   },
   "outputs": [],
   "source": [
    "# Check whether the rows with missing values have been removed\n",
    "data.Embarked.isna().sum()"
   ]
  },
  {
   "cell_type": "code",
   "execution_count": null,
   "metadata": {
    "colab": {},
    "colab_type": "code",
    "id": "2mdOkWZ-s1zf"
   },
   "outputs": [],
   "source": [
    "# Make a copy of the DataFrame\n",
    "data_copy = data.copy()"
   ]
  },
  {
   "cell_type": "code",
   "execution_count": null,
   "metadata": {
    "colab": {},
    "colab_type": "code",
    "id": "FNR51919tCKX"
   },
   "outputs": [],
   "source": [
    "# Drop those rows that contain any missing values\n",
    "# Set inplace = True\n",
    "data_copy.dropna(how = 'any', inplace = True)"
   ]
  },
  {
   "cell_type": "code",
   "execution_count": null,
   "metadata": {
    "colab": {},
    "colab_type": "code",
    "id": "X18MLe5gtDUe"
   },
   "outputs": [],
   "source": [
    "# Check whether the rows have been removed correctly\n",
    "data_copy.isna().sum()"
   ]
  },
  {
   "cell_type": "code",
   "execution_count": null,
   "metadata": {
    "colab": {},
    "colab_type": "code",
    "id": "dzIeMqAntvv4"
   },
   "outputs": [],
   "source": [
    "# Run this code\n",
    "dict = {'product': ['apple', np.nan,'cucumber','bread','milk', 'butter', 'sugar'],\n",
    "        'product_code': [154,153,225,np.nan,56,15, np.nan],\n",
    "        'price': [0.89, 1.50, 0.65, 1.20, 0.85, np.nan, 1.20],\n",
    "        'expiration_date': [np.nan, np.nan, np.nan, np.nan, np.nan, np.nan, np.nan]\n",
    "        }\n",
    "\n",
    "df = pd.DataFrame (dict, columns = ['product','product_code','price','expiration_date'])\n",
    "print(df)"
   ]
  },
  {
   "cell_type": "code",
   "execution_count": null,
   "metadata": {
    "colab": {},
    "colab_type": "code",
    "id": "yMdQ3zbzveLP"
   },
   "outputs": [],
   "source": [
    "# Drop the last column that contain only missing values\n",
    "# Set inplace = True\n",
    "df.dropna(how = 'all', axis = 1, inplace = True)"
   ]
  },
  {
   "cell_type": "code",
   "execution_count": null,
   "metadata": {
    "colab": {},
    "colab_type": "code",
    "id": "On_ZzkZhv1pW"
   },
   "outputs": [],
   "source": [
    "# Display the DataFrame to check the change\n",
    "df"
   ]
  },
  {
   "cell_type": "code",
   "execution_count": null,
   "metadata": {
    "colab": {},
    "colab_type": "code",
    "id": "qpdQwiSiBsPo"
   },
   "outputs": [],
   "source": [
    "# Run this code\n",
    "df_copy = df.copy()\n",
    "print(df_copy)"
   ]
  },
  {
   "cell_type": "code",
   "execution_count": null,
   "metadata": {
    "colab": {},
    "colab_type": "code",
    "id": "B6vP0GkVBIYJ"
   },
   "outputs": [],
   "source": [
    "# TASK 2 >>>> Drop rows from df_copy that contain any missing values \n",
    "#             Set inplace = True\n"
   ]
  },
  {
   "cell_type": "markdown",
   "metadata": {
    "colab_type": "text",
    "id": "QEpAKmXmzIqe"
   },
   "source": [
    "# 5. Filling in missing data\n",
    "\n",
    "`fillna()` method\n",
    "\n",
    "- this method fill in missing data (can be used on a particular column as well)\n",
    "\n",
    "Arguments:\n",
    "\n",
    "- we can specify **value** (any number or summary statistics such as mean or median) \n",
    "\n",
    "- we can use **interpolation method**: \n",
    "\n",
    "`ffill` : uses previous valid values to fill gap\n",
    "\n",
    "`bfill` : uses next valid value to fill gap\n",
    "\n",
    "`limit` : for ffill and bfill - maximum number of consecutive periods to fill\n",
    "\n",
    "`axis` : axis to fill on, default axis = 0 \n",
    "\n",
    "`inplace = True`\n",
    "\n"
   ]
  },
  {
   "cell_type": "code",
   "execution_count": null,
   "metadata": {
    "colab": {},
    "colab_type": "code",
    "id": "Sy4NYflx6KMz"
   },
   "outputs": [],
   "source": [
    "# Fill in missing value in 'price' column with value 0\n",
    "# Set inplace = True\n",
    "df.price.fillna(0, inplace = True)\n",
    "print(df)"
   ]
  },
  {
   "cell_type": "code",
   "execution_count": null,
   "metadata": {
    "colab": {},
    "colab_type": "code",
    "id": "Bdo69fNo_vhk"
   },
   "outputs": [],
   "source": [
    "# Fill in missing value in column 'product' with '0'\n",
    "# Set inplace = True\n",
    "df.product.fillna('0', inplace = True)\n",
    "print(df)"
   ]
  },
  {
   "cell_type": "code",
   "execution_count": null,
   "metadata": {
    "colab": {},
    "colab_type": "code",
    "id": "Yb1wvnqDDnVz"
   },
   "outputs": [],
   "source": [
    "# Run this code\n",
    "dictionary = {'column_a': [15, 16, 82, 25],\n",
    "              'column_b': [np.nan, np.nan, 54, 8],\n",
    "              'column_c': [np.nan, 15, 15, 25],\n",
    "              'column_d': [85, 90, np.nan, np.nan]\n",
    "        }\n",
    "\n",
    "dataframe_1 = pd.DataFrame (dictionary, columns = ['column_a','column_b','column_c','column_d'])\n",
    "print(dataframe_1)"
   ]
  },
  {
   "cell_type": "code",
   "execution_count": null,
   "metadata": {
    "colab": {},
    "colab_type": "code",
    "id": "q-tLibylEbqw"
   },
   "outputs": [],
   "source": [
    "# TASK 3 >>>> Fill in missing value in column 'column_c' of dataframe_1 with value 10 \n",
    "#             Set inplace = True\n",
    "dataframe_1.column_c.fillna(10, inplace = True)\n",
    "print(dataframe_1)"
   ]
  },
  {
   "cell_type": "markdown",
   "metadata": {
    "colab_type": "text",
    "id": "fOEJguCDijpR"
   },
   "source": [
    "# 6. More Complex Methods\n",
    "\n",
    "We will go through the theory of these more complex methods later as they relate to Machine Learning. "
   ]
  },
  {
   "cell_type": "code",
   "execution_count": null,
   "metadata": {
    "colab": {},
    "colab_type": "code",
    "id": "ntP0un3I83ay"
   },
   "outputs": [],
   "source": [
    "# Run this code\n",
    "dict = {'column_1': [15, 16, 82, 25],\n",
    "        'column_2': [np.nan, np.nan, 54, 8],\n",
    "        'column_3': [np.nan, 15, 15, 25],\n",
    "        'column_4': [85, 90, np.nan, np.nan]\n",
    "        }\n",
    "\n",
    "our_df = pd.DataFrame (dict, columns = ['column_1','column_2','column_3','column_4'])\n",
    "print(our_df)"
   ]
  },
  {
   "cell_type": "code",
   "execution_count": null,
   "metadata": {
    "colab": {},
    "colab_type": "code",
    "id": "v_B6EpYC9pXt"
   },
   "outputs": [],
   "source": [
    "# Fill in missing values using 'method = bfill' which stand for 'backward fill'\n",
    "# Set inplace = True\n",
    "our_df.fillna(axis = 0, method = 'bfill', inplace = True)\n",
    "print(our_df)"
   ]
  },
  {
   "cell_type": "markdown",
   "metadata": {
    "colab_type": "text",
    "id": "fDzo48mAFl9n"
   },
   "source": [
    "The second option is `method = 'ffill'` which stand for forward fill."
   ]
  },
  {
   "cell_type": "code",
   "execution_count": null,
   "metadata": {
    "colab": {},
    "colab_type": "code",
    "id": "f-K08b6G_ipw"
   },
   "outputs": [],
   "source": [
    "# Convert the datatype of the column Age from the DataFrame 'data' to integer data type\n",
    "data_copy.Age = data_copy.Age.astype('int')"
   ]
  },
  {
   "cell_type": "code",
   "execution_count": null,
   "metadata": {
    "colab": {},
    "colab_type": "code",
    "id": "DJ3d8v3f-kNZ"
   },
   "outputs": [],
   "source": [
    "# Fill in missing data of the column 'Age' in the DataFrame 'data' with the average age\n",
    "# Set inplace = True\n",
    "average_age = data_copy.Age.mean()\n",
    "data_copy.Age.fillna(average_age, inplace = True)"
   ]
  },
  {
   "cell_type": "code",
   "execution_count": null,
   "metadata": {
    "colab": {},
    "colab_type": "code",
    "id": "ZYpeuHJn_ISK"
   },
   "outputs": [],
   "source": [
    "# Check whether missing values have been removed from the column 'Age'\n",
    "data_copy.Age.isnull().sum()"
   ]
  },
  {
   "cell_type": "markdown",
   "metadata": {
    "colab_type": "text",
    "id": "BxWOu11kHCmp"
   },
   "source": [
    "# 7. Duplicate data\n"
   ]
  },
  {
   "cell_type": "code",
   "execution_count": null,
   "metadata": {
    "colab": {},
    "colab_type": "code",
    "id": "Bv4rv_Ie_dby"
   },
   "outputs": [],
   "source": [
    "# Run this code\n",
    "actors = [('Michone', 30, 'USA'),\n",
    "            ('Bob', 28, 'New York'),\n",
    "            ('Rick', 30, 'New York'),\n",
    "            ('Carol', 40, 'Paris'),\n",
    "            ('Daryl', 35, 'London'),\n",
    "            ('Daryl', 35, 'London'),\n",
    "            ('Michone', 45, 'London'),\n",
    "            ('Morgan', 38, 'Sweden')\n",
    "            ]\n",
    "df_2 = pd.DataFrame(actors, columns=['first_name', 'age', 'city'])"
   ]
  },
  {
   "cell_type": "code",
   "execution_count": null,
   "metadata": {
    "colab": {},
    "colab_type": "code",
    "id": "Jx6YVCwNHO2Y"
   },
   "outputs": [],
   "source": [
    "# Find duplicated values using .duplicated() method\n",
    "df_2.duplicated().sum()"
   ]
  },
  {
   "cell_type": "code",
   "execution_count": null,
   "metadata": {
    "colab": {},
    "colab_type": "code",
    "id": "G_c6rzB0i7jv"
   },
   "outputs": [],
   "source": [
    "# Remove duplicate rows\n",
    "# Set inplace = True\n",
    "df_2.drop_duplicates(inplace=True)\n",
    "print(df_2)"
   ]
  },
  {
   "cell_type": "code",
   "execution_count": null,
   "metadata": {
    "colab": {},
    "colab_type": "code",
    "id": "Iuj9VW8YKDeZ"
   },
   "outputs": [],
   "source": [
    "# BONUS TASK >>> What movie series does author of this notebook like? :)\n"
   ]
  },
  {
   "cell_type": "markdown",
   "metadata": {},
   "source": [
    "# Appendix\n",
    "\n",
    "Data source: https://www.kaggle.com/hesh97/titanicdataset-traincsv\n",
    "\n",
    "License: CC0: Public Domain"
   ]
  }
 ],
 "metadata": {
  "colab": {
   "authorship_tag": "ABX9TyOqqcsg9S0OfsLFdHC+K+yW",
   "collapsed_sections": [],
   "name": "4. Missing_And_Duplicate_Data.ipynb",
   "provenance": []
  },
  "kernelspec": {
   "display_name": "Python 3",
   "language": "python",
   "name": "python3"
  },
  "language_info": {
   "codemirror_mode": {
    "name": "ipython",
    "version": 3
   },
   "file_extension": ".py",
   "mimetype": "text/x-python",
   "name": "python",
   "nbconvert_exporter": "python",
   "pygments_lexer": "ipython3",
   "version": "3.7.7"
  }
 },
 "nbformat": 4,
 "nbformat_minor": 1
}
