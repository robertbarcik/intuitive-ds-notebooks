{
 "cells": [
  {
   "cell_type": "markdown",
   "metadata": {},
   "source": [
    "# 0. Loading the dataset"
   ]
  },
  {
   "cell_type": "code",
   "execution_count": null,
   "metadata": {},
   "outputs": [],
   "source": [
    "# Import pandas, matplotlib and seaborn libraries\n",
    "import pandas as pd\n",
    "from pandas.api.types import CategoricalDtype\n",
    "import matplotlib.pyplot as plt\n",
    "import seaborn as sns\n",
    "# Import Image, warnings\n",
    "from IPython.display import Image\n",
    "import warnings\n",
    "warnings.filterwarnings('ignore')"
   ]
  },
  {
   "cell_type": "code",
   "execution_count": null,
   "metadata": {},
   "outputs": [],
   "source": [
    "# Set the parameters and the style for plotting\n",
    "params = {'figure.figsize':(12,8),\n",
    "         'axes.labelsize':13,\n",
    "         'axes.titlesize':16,\n",
    "         'xtick.labelsize':11,\n",
    "         'ytick.labelsize':11\n",
    "         }\n",
    "plt.rcParams.update(params)\n",
    "sns.set_style(\"whitegrid\")"
   ]
  },
  {
   "cell_type": "markdown",
   "metadata": {},
   "source": [
    "In this notebook, we will be using dataset Titanic containing information about passengers to inspect continuous, discrete, binary and categorical variables."
   ]
  },
  {
   "cell_type": "code",
   "execution_count": null,
   "metadata": {},
   "outputs": [],
   "source": [
    "# Load the dataset 'Data/titanic_data.csv' and store it to variable data\n",
    "data = pd.read_csv('Data/titanic_data.csv')\n",
    "# Get first 5 rows of the data\n",
    "data.head()"
   ]
  },
  {
   "cell_type": "code",
   "execution_count": null,
   "metadata": {},
   "outputs": [],
   "source": [
    "# Get the dimensions of the data\n",
    "data.shape"
   ]
  },
  {
   "cell_type": "markdown",
   "metadata": {},
   "source": [
    "We have 891 observations and 12 variables in our dataset, let's look at the definition of variables:\n",
    "\n",
    "**Data dictionary:**\n",
    "- passengerID\n",
    "- Survived: 0 = No, 1 = Yes\n",
    "- Pclass: Ticket class (1 = 1st, 2 = 2nd, 3 = 3rd)\n",
    "- Name\n",
    "- Sex\n",
    "- Age\n",
    "- SibSp: # of siblings or spouses aboard the Titanic\n",
    "- Parch: # of parents or children aboard the Titanic\n",
    "- Ticket: ticket number\n",
    "- Fare: passenger fare\n",
    "- Cabin: cabin number\n",
    "- Embarked: Port of embarkation (C = Cherbourg, Q = Queenstown, S = Southampton)"
   ]
  },
  {
   "cell_type": "markdown",
   "metadata": {},
   "source": [
    "# 1. Continuous variables\n",
    "\n",
    "Firstly, let's look at the distribution of the passenger fares."
   ]
  },
  {
   "cell_type": "code",
   "execution_count": null,
   "metadata": {},
   "outputs": [],
   "source": [
    "# Plot the distribution of the residual sugar\n",
    "plt.hist(data['Fare'], bins = 30, color = 'skyblue')\n",
    "plt.xlabel('Fare')\n",
    "plt.ylabel('Counts')\n",
    "plt.title('The distribution of passenger`s fare', fontsize = 18)\n",
    "sns.despine(left=True, bottom=True);"
   ]
  },
  {
   "cell_type": "markdown",
   "metadata": {},
   "source": [
    "As we can see from the graph above, the passenger's fares vary across the range from value 0 up to approximately value 500."
   ]
  },
  {
   "cell_type": "markdown",
   "metadata": {},
   "source": [
    "# 2. Discrete variables\n",
    "\n",
    "Now we'll explore the variable SibSp which represents number of parents or children aboard the Titanic. This variable is specified as discrete variable, because the passengers can have 1 or 2 childrens, not 1.5 child.\n",
    "\n",
    "Let's look how many unique values has 'SibSp' variable."
   ]
  },
  {
   "cell_type": "code",
   "execution_count": null,
   "metadata": {},
   "outputs": [],
   "source": [
    "# Get the counts of unique values of column 'SibSp'\n",
    "data['SibSp'].value_counts()"
   ]
  },
  {
   "cell_type": "code",
   "execution_count": null,
   "metadata": {},
   "outputs": [],
   "source": [
    "# Plot the counts of unique values of column 'SibSp'\n",
    "plt.hist(data['SibSp'], bins = 30, color = 'darkgreen')\n",
    "plt.xlabel('Number of parents or children')\n",
    "plt.ylabel('The counts')\n",
    "plt.title('Parents or children aboard the Titanic', fontsize = 18)\n",
    "sns.despine(left=True, bottom=True);"
   ]
  },
  {
   "cell_type": "markdown",
   "metadata": {},
   "source": [
    "The values differ by fixed number (amount), and therefore there are space between values when we are plotting them."
   ]
  },
  {
   "cell_type": "markdown",
   "metadata": {},
   "source": [
    "# 3. Binary variables\n",
    "\n",
    "Binary variable is a variable that can take only 2 values, in our case 0 (not survived) and 1 (survived)."
   ]
  },
  {
   "cell_type": "code",
   "execution_count": null,
   "metadata": {},
   "outputs": [],
   "source": [
    "# Run this \n",
    "Image('Images/binary.jpeg')"
   ]
  },
  {
   "cell_type": "markdown",
   "metadata": {},
   "source": [
    "Now, we'll look how the histogram of 'Survived' column looks like."
   ]
  },
  {
   "cell_type": "code",
   "execution_count": null,
   "metadata": {},
   "outputs": [],
   "source": [
    "# Get the unique values of 'Survived' column\n",
    "data['Survived'].unique()"
   ]
  },
  {
   "cell_type": "code",
   "execution_count": null,
   "metadata": {},
   "outputs": [],
   "source": [
    "# Plot the variable 'Survived'\n",
    "plt.hist(data['Survived'], bins = 30, color = 'skyblue')\n",
    "plt.xlabel('Not survived (0) / Survived (1)')\n",
    "plt.ylabel('The counts')\n",
    "sns.despine(left=True, bottom=True);"
   ]
  },
  {
   "cell_type": "markdown",
   "metadata": {},
   "source": [
    "In this case it would be better to show the counts along with for example the gender of passengers."
   ]
  },
  {
   "cell_type": "code",
   "execution_count": null,
   "metadata": {},
   "outputs": [],
   "source": [
    "# Make countplot of survivals based on sex\n",
    "sns.countplot(x = \"Sex\", hue = \"Survived\", data = data)\n",
    "plt.xlabel('The gender of passengers')\n",
    "plt.ylabel('Counts')\n",
    "plt.title(\"Survived by Sex\", fontsize = 18)\n",
    "sns.despine(left=True, bottom=True);"
   ]
  },
  {
   "cell_type": "code",
   "execution_count": null,
   "metadata": {},
   "outputs": [],
   "source": [
    "# TASK 1 >>>> Make countplot of survivals based on their Class ('Pclass' column)\n"
   ]
  },
  {
   "cell_type": "markdown",
   "metadata": {},
   "source": [
    "# 4. Categorical variables"
   ]
  },
  {
   "cell_type": "markdown",
   "metadata": {},
   "source": [
    "A categorical variable takes on a limited, and usually fixed, number of possible values (categories)."
   ]
  },
  {
   "cell_type": "code",
   "execution_count": null,
   "metadata": {},
   "outputs": [],
   "source": [
    "data.dtypes"
   ]
  },
  {
   "cell_type": "markdown",
   "metadata": {},
   "source": [
    "'Pclass' column is one of the categorical variable in our dataset, although it has 'int' datatype.\n",
    "\n",
    "When we want to convert the datatype of variable we can easily convert it to categorical variable using `.astype('category')` or we can use an instance of `CategoricalDtype`. Here we have more control and can set the order of categories [1,2,3], pass it within `CategoricalDtype` and then we assign it to 'Pclass' column. "
   ]
  },
  {
   "cell_type": "code",
   "execution_count": null,
   "metadata": {},
   "outputs": [],
   "source": [
    "# Set the categories, set parameter ordered = True, assign in to 'Pclass' column using astype()\n",
    "cat = [1,2,3]\n",
    "cat_type = CategoricalDtype(categories = cat, ordered = True)\n",
    "data['Pclass'] = data['Pclass'].astype(cat_type)"
   ]
  },
  {
   "cell_type": "code",
   "execution_count": null,
   "metadata": {},
   "outputs": [],
   "source": [
    "# Plot counts of the categories of 'Pclass' column using .plot(kind = 'bar')\n",
    "data['Pclass'].value_counts(sort = False).plot(kind = 'bar')\n",
    "plt.xlabel('The class')\n",
    "plt.ylabel('Counts')\n",
    "plt.title('Class', fontsize = 18)\n",
    "sns.despine(left=True, bottom=True);"
   ]
  },
  {
   "cell_type": "code",
   "execution_count": null,
   "metadata": {},
   "outputs": [],
   "source": [
    "# Get the categories of 'Embarked' column\n",
    "data['Embarked'].value_counts()"
   ]
  },
  {
   "cell_type": "markdown",
   "metadata": {},
   "source": [
    "There are three ports of embarkation in our dataset: C = Cherbourg, Q = Queenstown and S = Southampton. "
   ]
  },
  {
   "cell_type": "code",
   "execution_count": null,
   "metadata": {},
   "outputs": [],
   "source": [
    "# TASK 2 >>>> Plot counts of the categories of 'Embarked' column using .plot(kind = 'bar')\n"
   ]
  },
  {
   "cell_type": "markdown",
   "metadata": {},
   "source": [
    "As we can see the majority of passengers have embarked in Southampton."
   ]
  },
  {
   "cell_type": "markdown",
   "metadata": {},
   "source": [
    "# Appendix\n",
    "\n",
    "Data source: https://www.kaggle.com/hesh97/titanicdataset-traincsv\n",
    "\n",
    "Data license: CC0: Public Domain"
   ]
  }
 ],
 "metadata": {
  "kernelspec": {
   "display_name": "Python 3",
   "language": "python",
   "name": "python3"
  },
  "language_info": {
   "codemirror_mode": {
    "name": "ipython",
    "version": 3
   },
   "file_extension": ".py",
   "mimetype": "text/x-python",
   "name": "python",
   "nbconvert_exporter": "python",
   "pygments_lexer": "ipython3",
   "version": "3.7.7"
  }
 },
 "nbformat": 4,
 "nbformat_minor": 4
}
